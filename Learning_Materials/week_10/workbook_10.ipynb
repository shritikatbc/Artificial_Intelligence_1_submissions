{
 "cells": [
  {
   "cell_type": "markdown",
   "metadata": {},
   "source": [
    "<div class=\"alert alert-block alert-danger\" style=\"color:black\">\n",
    "    <h2> This is an assessed practical</h2>\n",
    "    The final part of the portfolio is to author the knowledge base for an expert system (chatbot) as described in activity 3. It is worth 100 marks.<br>\n",
    "    You are given a file containing the set of questions and answers (<code>portfolio-questions-and-responses-2025.txt</code>), together with a jupyter notebook in which to develop your aiml file (<code>AIML_Selfchecker.ipynb</code>), and run it through a copy of the marking and feedback code prior to submission.\n",
    "</div>"
   ]
  },
  {
   "cell_type": "markdown",
   "metadata": {},
   "source": [
    "# Workbook 10: Building a bot to respond to customer queries about missing orders\n",
    "\n",
    "Overview of activities and objectives of this workbook:\n",
    "\n",
    "1. The first part of this workbook will encode some knowledge about language using some of the AIML tags you learned about in last weeks workbook.\n",
    "    - We will be creating a chatbot that can act like customer support and respond to customer queries about missing orders.\n",
    "    - We will use the `<srai>` tag-pairs you learned about last week and also use `<random>` to produce random responses (from a selection) to help test the system.\n",
    "\n",
    "2. The second part of this workbook will introduce `<that>` tags to embed long-term knowledge and context within your chatbot.\n",
    "    - `<that>` tags allow your bot respond differently depending on the context of a dialogue.\n",
    "    - In other words, if the input is the same the bot can change its response depending on what has previously been said.\n",
    "    - **You will need this to pass the coursework**.\n",
    "\n",
    "3. The third part of the workbook will introduce wildcards which are able to match to any string in an input `<pattern>` and make categories more general.\n",
    "    - The `*` and `_` characters can be used as wildcards to match one or more words in a users input `<pattern>` (`_` has a higher priority when matching).\n",
    "    - The `<star/>` tags are used to match to wildcards in the `<template>`. For example, a word matched in with a `*` in the `<pattern>` can be *referenced* in with the `<star/>` tag in the `<template>`.\n",
    "    - [This is a useful reference](https://medium.com/pandorabots-blog/wildcards-in-aiml-da7f4a29f42e).\n",
    "\n",
    "4. The fourth part of the workbook will introduce the `<set>` and `<think>` tags which allow the bot to store variables.\n",
    "    - The `<set>` tag allows the bot to create a name;value pair (variable) to store information from the input `<pattern>`, i.e. matched with `<star/>`.\n",
    "    - The `<think>` tag allows the bot to create variables with `<set>` *silently*, i.e. without including it in the response the the user.\n",
    "\n",
    "5. Finally, we will bring all this together for the coursework.\n",
    "    - You should use all of these tags to create an AIML file (chatbot) that is able to respond to the 45 questions and answers in the `portfolio-questions-and-responses.txt` file.\n",
    "    - You get more marks by doing this in as few categories as possible.\n",
    "    - We provide a `AIML_Selfchecker.ipynb` file to run the marking programme and check your knowledge-base before submission.\n",
    "</div>"
   ]
  },
  {
   "cell_type": "markdown",
   "metadata": {},
   "source": [
    "<div style=\"background:black;width:100%;height:10px\"></div><br>\n",
    "\n",
    "# Part 1: A customer service chatbot"
   ]
  },
  {
   "cell_type": "markdown",
   "metadata": {},
   "source": [
    "<div class=\"alert alert-block alert-info\" style=\"color:black\"><h2>Activity 1: Encoding knowledge for a customer service chatbot</h2>\n",
    "Chatbots can store knowledge about the equivalence of all sorts of things, but the most useful is storing knowledge about different ways of saying the same thing.\n",
    "\n",
    "For example, these are all ways of asking for an order status:\n",
    "<ul>\n",
    "    <li>I want to track my order.</li>\n",
    "    <li> Please give me a status update on my order.</li>\n",
    "    <li> Where is my order, it hasn't arrived yet.</li>\n",
    "    <li> Have you sent my order yet.</li>\n",
    "    <li> Where is my order.</li>\n",
    "</ul>\n",
    "\n",
    "<ol>\n",
    "    <li>Use the skills you learned last week about &lt;srai&gt; tag-pairs to add five new categories to the AIML below.</li>\n",
    "    <li>Your new categories should encode the knowledge that phrases from the list above are equivalent to the pattern in the category provided.</li>\n",
    "    <li><b>Run </b> the cell to save your knowledge bade to file.</li>\n",
    "    <li>The second cell below assumes the customer knows their order number and provides a random response (You'll have to use your knowledge from Web Development to know how it could access a database).</li>\n",
    "    <li>It uses the &lt;random&gt; tag to randomly pick a response. In this case, randomly pick a scenario where the parcel is delivered, dispatched, out of stock or the order number is not recognised.\n",
    "    <li>Then <b>run the second cell below</b> to create a test a chatbot.</li>\n",
    "</ol>\n",
    "</div>"
   ]
  },
  {
   "cell_type": "code",
   "execution_count": 1,
   "metadata": {
    "tags": []
   },
   "outputs": [
    {
     "name": "stdout",
     "output_type": "stream",
     "text": [
      "Overwriting data/orders1.aiml\n"
     ]
    }
   ],
   "source": [
    "%%writefile \"data/orders1.aiml\"\n",
    "<aiml>\n",
    "<category>\n",
    "  <pattern>TRACK ORDER REQUEST</pattern>\n",
    "    <template> OK, happy to help. Please enter your order number in the format: my order number is xxxxx</template>\n",
    "</category>\n",
    "<category>\n",
    "    <pattern>I WANT TO TRACK MY ORDER</pattern>\n",
    "    <template>\n",
    "        <srai>TRACK ORDER REQUEST</srai>\n",
    "    </template>\n",
    "</category>\n",
    "<category>\n",
    "     <pattern>PLEASE GIVE ME A STATUS UPDATE ON MY ORDER</pattern>\n",
    "    <template>\n",
    "         <srai>TRACK ORDER REQUEST</srai>\n",
    "    </template>\n",
    "</category>\n",
    "<category>\n",
    "     <pattern>WHERE IS MY ORDER IT HASNT ARRIVED YET</pattern>\n",
    "    <template>\n",
    "        <srai>TRACK ORDER REQUEST</srai>\n",
    "    </template>\n",
    "</category>\n",
    "<category>\n",
    "     <pattern>HAVE YOU SENT MY ORDER YET</pattern>\n",
    "    <template>\n",
    "        <srai>TRACK ORDER REQUEST</srai>\n",
    "    </template>\n",
    "</category>\n",
    "<category>\n",
    "     <pattern>WHERE IS MY ORDER</pattern>\n",
    "    <template>\n",
    "        <srai>TRACK ORDER REQUEST</srai>\n",
    "    </template>\n",
    "</category>\n",
    "\n",
    "<!-- add your categories below this line-->\n",
    "\n",
    "</aiml>\n"
   ]
  },
  {
   "cell_type": "code",
   "execution_count": 2,
   "metadata": {
    "tags": []
   },
   "outputs": [
    {
     "name": "stdout",
     "output_type": "stream",
     "text": [
      "Overwriting data/orders2.aiml\n"
     ]
    }
   ],
   "source": [
    "%%writefile \"data/orders2.aiml\"\n",
    "<aiml>\n",
    "<category>\n",
    "  <pattern> MY ORDER NUMBER IS *</pattern>\n",
    "  <template>\n",
    "\n",
    "     <random>\n",
    "        <li>Your order has been dispatched and is in transit</li>\n",
    "        <li>Your order has been marked as delivered.</li>\n",
    "        <li>Your order number is not recognised.</li>\n",
    "        <li>We apologise. One or more items in your order were out of stock. We will dispatch as soon as we receive new supplies.</li>\n",
    "    </random>\n",
    " \n",
    "  </template>\n",
    "</category>\n",
    "\n",
    "</aiml>"
   ]
  },
  {
   "cell_type": "code",
   "execution_count": 3,
   "metadata": {
    "tags": []
   },
   "outputs": [
    {
     "name": "stdout",
     "output_type": "stream",
     "text": [
      "Loading data/orders1.aiml...done (0.02 seconds)\n",
      "Loading data/orders2.aiml...done (0.01 seconds)\n",
      "Successfuly loaded 7 categories\n",
      " Is this the number you expected?\n"
     ]
    },
    {
     "name": "stdin",
     "output_type": "stream",
     "text": [
      "Enter your message >>  my order number is 90\n"
     ]
    },
    {
     "name": "stdout",
     "output_type": "stream",
     "text": [
      "We apologise. One or more items in your order were out of stock. We will dispatch as soon as we receive new supplies.\n"
     ]
    },
    {
     "name": "stdin",
     "output_type": "stream",
     "text": [
      "Enter your message >>  bye\n"
     ]
    }
   ],
   "source": [
    "# Run this cell to create and chat with your bot\n",
    "import aiml\n",
    "\n",
    "# Create the kernel and learn AIML files\n",
    "myChatbot = aiml.Kernel()\n",
    "myChatbot.verbose(True)\n",
    "myChatbot.learn(\"data/orders1.aiml\")\n",
    "myChatbot.learn(\"data/orders2.aiml\")\n",
    "\n",
    "print(f\"Successfuly loaded {myChatbot.numCategories()} categories\")\n",
    "print(\" Is this the number you expected?\")\n",
    "\n",
    "# type bye to end the chat session\n",
    "keepGoing = True\n",
    "\n",
    "while keepGoing:\n",
    "    nextInput = input(\"Enter your message >> \")\n",
    "    if nextInput == \"bye\":\n",
    "        keepGoing = False\n",
    "    else:\n",
    "        print(myChatbot.respond(nextInput))"
   ]
  },
  {
   "cell_type": "markdown",
   "metadata": {},
   "source": [
    "<div style=\"background:black;width:100%;height:10px\"></div><br>\n",
    "\n",
    "# Part 2: Embedding historical context using `<that>` tags\n",
    "\n",
    "In natural language we often say things that only make sense in the context of the previous dialogue - for example the word *it* in the dialogues below.\n",
    "> What is this module about?  \n",
    "> Artificial Intelligence  \n",
    "> Does it have ethical issues?  \n",
    "> Yes, there are risks of introducing bias against some groups of people.\n",
    "\n",
    "> What are you eating?  \n",
    "> An apple  from my garden.  \n",
    "> Does it have ethical issues?  \n",
    "> No, it's just a piece of fruit\n",
    "\n",
    "AIML `<that>` tag pairs let us use refer to the last thing that the bot said - **effectively we add a second condition to the matching process**.\n",
    "- `<that>THING TO MATCH</that>` goes between the `<pattern>   </pattern>` and the `<template> </template>` parts of the category\n",
    "- We can also use the `<that/>` tag inside a template to repeat the last thing we the bot said\n",
    " - note that like `<star/>`, this is a single tag rather than a tag-pair enclosing contents\n",
    "   in this case the backslash comes at the end. \n",
    "- Note that **the text inside the &lt;that&gt; tags should be NORMALISED (in upper case and without its punctuation)**.\n",
    "\n",
    "**Read the AIML in the next cell** and make sure you understand what is happening. Then **run** the next two cells to test the 'bad joke' with `<that>` tags."
   ]
  },
  {
   "cell_type": "code",
   "execution_count": 4,
   "metadata": {
    "tags": []
   },
   "outputs": [
    {
     "name": "stdout",
     "output_type": "stream",
     "text": [
      "Writing data/badJoke.aiml\n"
     ]
    }
   ],
   "source": [
    "%%writefile \"data/badJoke.aiml\"\n",
    "<aiml version=\"1.0.1\" encoding=\"UTF-8\">\n",
    "\n",
    "<category>\n",
    "  <pattern> TELL ME A JOKE</pattern>\n",
    "  <template> \n",
    "    <random>\n",
    "      <li> Why did the chicken cross the road?</li>\n",
    "      <li> What do you get when you cross a sheep with a kangaroo?</li>\n",
    "      <li> Why don't ants get sick?</li>\n",
    "    </random>\n",
    "  </template>\n",
    "</category>\n",
    "\n",
    "<category>\n",
    "  <pattern> I DO NOT KNOW </pattern>\n",
    "  <that>WHY DID THE CHICKEN CROSS THE ROAD</that>\n",
    "  <template> To get to the other side</template>\n",
    "</category>\n",
    "\n",
    "<category>\n",
    "  <pattern> I DO NOT KNOW </pattern>\n",
    "  <that>WHAT DO YOU GET WHEN YOU CROSS A SHEEP WITH A KANGAROO</that>\n",
    "  <template> A woolly jumper</template>\n",
    "</category>\n",
    "\n",
    "<category>\n",
    "  <pattern> I DO NOT KNOW </pattern>\n",
    "  <that>WHY DO NOT ANTS GET SICK</that>\n",
    "  <template> Because they have little anty-bodies</template>\n",
    "</category>\n",
    "\n",
    "<category>\n",
    "  <pattern> I DO NOT KNOW</pattern>\n",
    "  <template> Default answer. Last thing the bot said was:<that/></template>\n",
    "</category>\n",
    "</aiml>"
   ]
  },
  {
   "cell_type": "markdown",
   "metadata": {
    "tags": []
   },
   "source": [
    "import aiml\n",
    "\n",
    "jokeBot = aiml.Kernel()\n",
    "jokeBot.learn(\"data/badJoke.aiml\")\n",
    "\n",
    "# type bye to end the chat session\n",
    "keepGoing = True\n",
    "\n",
    "while keepGoing:\n",
    "    nextInput = input(\"Enter your message >> \")\n",
    "    if nextInput == \"bye\":\n",
    "        keepGoing = False\n",
    "    else:\n",
    "        print(jokeBot.respond(nextInput))"
   ]
  },
  {
   "cell_type": "markdown",
   "metadata": {},
   "source": [
    "<div style=\"background:black;width:100%;height:10px\"></div><br>\n",
    "\n",
    "# Part 3: Matching inputs with Wildcards `_`, `*` and the `star` tag\n",
    "\n",
    "The wild card characters `_` and `*` can match one or more words in the input `<pattern>` which allows the `<categories>` to be more flexible/general. For example, the `<pattern>HELLO *</pattern>` would match any input the began with \"hello\" and had 1 or more words after. A good reference can be found [here](https://medium.com/pandorabots-blog/wildcards-in-aiml-da7f4a29f42e).\n",
    "\n",
    "The `<star/`> tag can be used to reference words matched with a wildcard in the `<template>`. For example, with this category:\n",
    "\n",
    "```\n",
    "<category>\n",
    "   <pattern>MY NAME IS *</pattern>\n",
    "   <template>Hi <star/></template>\n",
    "</category>\n",
    "```\n",
    "If the user inputs \"My name is Nathan\", the bot would respond \"Hi Nathan\".\n",
    "\n",
    "You can also use `<star index=\"x\"/>` (where x is an integer) to access words at different indexes of the string matched by a wildcard. For example, with this category:\n",
    "\n",
    "```\n",
    "<category>\n",
    "   <pattern>MY NAME IS *</pattern>\n",
    "   <template>Hi <star index=\"1\"/></template>\n",
    "</category>\n",
    "```\n",
    "If the user inputs \"My name is Nathan Duran\", the bot would respond \"Hi Nathan\" (and ignore the surname)."
   ]
  },
  {
   "cell_type": "markdown",
   "metadata": {},
   "source": [
    "<div class=\"alert alert-block alert-info\" style=\"color:black\"><h2>Activity 2: Using wildcards and historical context in your order-tracking bot</h2>\n",
    "\n",
    "These are all ways of asking about a location:\n",
    "- Where is it?\n",
    "- Where do I find it?\n",
    "- I can't find it\n",
    "- I don't know where to find it.\n",
    "- Can you tell me where to find it.\n",
    "\n",
    "<ol>\n",
    "    <li> Create 5 categories embedding the knowledge that the five phrases above are all equivalent to \"GIVE LOCATION\".</li>\n",
    "    <li> Create two new categories, both with the pattern \"GIVE LOCATION\" but with different &lt;that&gt; tag-pairs. So whether they are matched depends on what the bot last said:\n",
    "        <ul>\n",
    "            <li> If the last response was \"Your order has been marked as delivered\".<br>\n",
    "                The response should be \"It may be in your safe place or with a neighbour\"</li>\n",
    "        <li> If the last response was \"OK, happy to help. Please enter your order number in the format: my order number is xxxxx\".<br>\n",
    "                The bot should reply with \"Your order number is in your confirmation email\".</li>\n",
    "        </ul>\n",
    "    <li>Run the code cell enough times to test your bot thoroughly</li>\n",
    "    <li>Next edit the categories so that where appropriate they use the &lt;star/&gt; tag in the &lt;template&lt; and wildcards in the &lt;pattern&lt; to include the customer's order number in the bot's response.</li>\n",
    "    <li> Then run your bot again to test it.</li>\n",
    "</ol>\n",
    "</div>"
   ]
  },
  {
   "cell_type": "code",
   "execution_count": 6,
   "metadata": {
    "tags": []
   },
   "outputs": [
    {
     "name": "stdout",
     "output_type": "stream",
     "text": [
      "Writing data/orders3.aiml\n"
     ]
    }
   ],
   "source": [
    "%%writefile \"data/orders3.aiml\"\n",
    "<aiml>\n",
    "\n",
    "\n",
    "<!-- add your five categories using srai in the template to match the phrases from the list  onto GIVE LOCATION -->\n",
    "<category>\n",
    "    <pattern>WHERE IS IT</pattern>\n",
    "    <template>\n",
    "        <srai>GIVE LOCATION</srai>\n",
    "    </template>\n",
    "</category>\n",
    "\n",
    "<category>\n",
    "    <pattern>WHERE DO I FIND IT</pattern>\n",
    "    <template>\n",
    "        <srai>GIVE LOCATION</srai>\n",
    "    </template>\n",
    "</category>\n",
    "\n",
    "<category>\n",
    "    <pattern>I CANT FIND IT</pattern>\n",
    "    <template>\n",
    "        <srai>GIVE LOCATION</srai>\n",
    "    </template>\n",
    "</category>\n",
    "\n",
    "<category>\n",
    "    <pattern>I DONT KNOW WHERE TO FIND IT</pattern>\n",
    "    <template>\n",
    "        <srai>GIVE LOCATION</srai>\n",
    "    </template>\n",
    "</category>\n",
    "\n",
    "<category>\n",
    "    <pattern>CAN YOU TELL ME WHERE TO FIND IT</pattern>\n",
    "    <template>\n",
    "        <srai>GIVE LOCATION</srai>\n",
    "    </template>\n",
    "</category>\n",
    "<!-- complete these two categories to respond to different conversation history using <that> tag-pairs-->\n",
    "\n",
    "<category>\n",
    " <pattern>GIVE LOCATION</pattern>\n",
    " <!-- add that tag-pair here -->\n",
    " <that>YOUR ORDER HAS BEEN MARKED AS DELIVERED</that>\n",
    " <template>It may be in your safe place or with a neighbour</template>\n",
    "</category>\n",
    "\n",
    "<category>\n",
    " <pattern>GIVE LOCATION</pattern>\n",
    " <!-- add that tag-pair here -->\n",
    " <that>OK HAPPY TO HELP PLEASE ENTER YOUR ORDER NUMBER IN THE FORMAT MY ORDER NUMBER IS XXXXX</that>\n",
    " <template>Your order number is in your confirmation email</template>\n",
    "</category>\n",
    "\n",
    "</aiml>"
   ]
  },
  {
   "cell_type": "code",
   "execution_count": null,
   "metadata": {
    "tags": []
   },
   "outputs": [
    {
     "name": "stdout",
     "output_type": "stream",
     "text": [
      "Loading data/orders3.aiml...done (0.01 seconds)\n",
      "Successfuly loaded 14 categories\n",
      " Is this the number you expected?\n"
     ]
    }
   ],
   "source": [
    "import aiml\n",
    "myChatbot.learn(\"data/orders3.aiml\")\n",
    "\n",
    "print(f\"Successfuly loaded {myChatbot.numCategories()} categories\")\n",
    "print(\" Is this the number you expected?\")\n",
    "\n",
    "# type bye to end the chat session\n",
    "keepGoing = True\n",
    "\n",
    "while keepGoing:\n",
    "    nextInput = input(\"Enter your message >> \")\n",
    "    if nextInput == \"bye\":\n",
    "        keepGoing = False\n",
    "    else:\n",
    "        print(myChatbot.respond(nextInput))"
   ]
  },
  {
   "cell_type": "markdown",
   "metadata": {},
   "source": [
    "<div style=\"background:black;width:100%;height:10px\"></div><br>\n",
    "\n",
    "# Part 4: Using `think`, `set` and `get` tags to store and use variables\n",
    "\n",
    "The `<set>` and `<get>` tags effectively allow the bot to create variables and remember things. These are very useful when used with wildcards and `<star/>`! For example, with this category:\n",
    "\n",
    "```\n",
    "<category>\n",
    "   <pattern>MY NAME IS *</pattern>\n",
    "   <template>Hi <set name = \"username\"> <star/></template>\n",
    "</category>\n",
    "```\n",
    "If the user inputs \"My name is Nathan\", the bot would respond \"Hi Nathan\". **And also create a variable** called \"username\" with the value \"Nathan\" that can be used later. Then, for example with this category:\n",
    "\n",
    "```\n",
    "<category>\n",
    "   <pattern>Good Night</pattern>\n",
    "   <template>\n",
    "         Thanks for the conversation <get name = \"username\"/>!\n",
    "    </template>\n",
    "</category>\n",
    "```\n",
    "If the user inputs \"Good Night\", the bot would respond \"Thanks for the conversation Nathan!\".\n",
    "\n",
    "The `<think>` tag allows the bot to store variables with `<set>`, but does not output that value to the user. For example, with this category:\n",
    "\n",
    "```\n",
    "<category>\n",
    "   <pattern>MY NAME IS *</pattern>\n",
    "   <template>\n",
    "        Hi! <think><set name = \"username\"> <star/> </think>\n",
    "    </template>\n",
    "</category>\n",
    "```\n",
    "If the user inputs \"My name is Nathan\", the bot would respond \"Hi!\". It would still create a variable called \"username\" with the value \"Nathan\" but would not output that."
   ]
  },
  {
   "cell_type": "markdown",
   "metadata": {},
   "source": [
    "<div class=\"alert alert-block alert-info\" style=\"color:black\"><h2>Activity 3: Using set and think tag-pairs and conditions to remember order status and respond differently to help requests</h2>\n",
    "\n",
    "<ol>\n",
    "    <li>Edit the categories stored in data/orders2.aiml using &lt;think&gt; and &lt;set&gt; tags inside each of the random responses to save an appropriate value describing the order status in a variable called \"status\"</li>\n",
    "    <li>Then edit the aiml in the cell below so that it politely directs the user to one of these emails depending on the order status:\n",
    "        <ul>\n",
    "            <li>transit.enquiries@acme.com</li>\n",
    "            <li>missing.delivery@acme.com</li>\n",
    "            <li>lost.orders@acme.com</li>\n",
    "            <li>stock.info@acme.com</li>\n",
    "        </ul>\n",
    "    <li> Then run the second cell below to run your bot again to test it.</li>\n",
    "</ol>\n",
    "</div>"
   ]
  },
  {
   "cell_type": "code",
   "execution_count": null,
   "metadata": {},
   "outputs": [],
   "source": [
    "%%writefile \"data/order4.aiml\"\n",
    "<aiml>\n",
    "\n",
    "<!-- complete this  category using condition tages in the template-->\n",
    "\n",
    "<category>\n",
    " <pattern>I WANT MORE HELP</pattern>\n",
    "  <template>\n",
    "    We are sorry that you are not satisfied. \n",
    "    Please use the email address below to contact the right team who can give you more help.\n",
    "       <!-- add add your condition code here -->\n",
    "   </template>\n",
    "</category>\n",
    "\n",
    "\n",
    "</aiml>"
   ]
  },
  {
   "cell_type": "code",
   "execution_count": null,
   "metadata": {},
   "outputs": [],
   "source": [
    "import aiml\n",
    "\n",
    "myChatbot.learn(\"data/order4.aiml\")\n",
    "myChatbot.verbose(True)\n",
    "print(f\"Successfuly loaded {myChatbot.numCategories()} categories\")\n",
    "print(\" Is this the number you expected?\")\n",
    "\n",
    "# type bye to end the chat session\n",
    "keepGoing = True\n",
    "\n",
    "while keepGoing:\n",
    "    nextInput = input(\"Enter your message >> \")\n",
    "    if nextInput == \"bye\":\n",
    "        keepGoing = False\n",
    "    else:\n",
    "        print(myChatbot.respond(nextInput))"
   ]
  },
  {
   "cell_type": "markdown",
   "metadata": {},
   "source": [
    "<div style=\"background:black;width:100%;height:10px\"></div><br>\n",
    "\n",
    "# Part 5: Final portfolio submission - creating a knowledge-base for a chatbot"
   ]
  },
  {
   "cell_type": "markdown",
   "metadata": {},
   "source": [
    "<div class=\"alert alert-block alert-info\" style=\"color:black\"><h2>Activity 4: A chatbot to answer the portfolio questions</h2>\n",
    "\n",
    "<h3><b>100 marks</b> - using the marking scheme below</h3>\n",
    "\n",
    "You should now have knowledge of all of the AIML concepts and tags that you need to complete the final part of the portfolio.\n",
    "\n",
    "In this weeks folder you will find a file called `portfolio-questions-and-responses-2025.txt` which contains 45 questions and corresponding answers. The task is to author a single file AIML  code that can be loaded into a bot and correctly answer all 45 questions.\n",
    "\n",
    "You will score more marks for using the knowledge representation language features supported by AIML to reduce the redundancy in  your knowledge base by using as few categories as possible.\n",
    "\n",
    "We have provided an `AIML_Selfchecker.ipyb` for you to develop and test your chatbot. You can use it to test your AIML using exactly the same code as on the marking server.\n",
    "\n",
    "1. Open the notebook `AIML_Selfchecker.ipyb` in this directory.\n",
    "    - The first cell is for you to develop you aiml code in.\n",
    "        - When you run that cell it writes your aiml to a file called `student.aiml`\n",
    "        - **Do not change the name of the file produced (i.e. leave it as student.aiml)**\n",
    "\n",
    "    - Subsequent cells in the notebook run a copy of the same code that is on the marking system.\n",
    "        - **Note that every time the marking system runs it asks the question in a different order**.\n",
    "        - But it does keep together the 3 questions that naturally follow on from a particular response.\n",
    "\n",
    "    - It should give you output on screen and also produce two files:\n",
    "        - \"student-feedback\" with a copy of what is shown on screen.\n",
    "        - \"student-responses.txt\" which shows you eaach question in turn, what was expected, and what your bot produced, nicely aligned so you can check for typos, missing punctuation etc.\n",
    "\n",
    "2. Using the ideas from week 9 and 10, edit the first cell (which produces \"student.aiml\") to contain categories encoding all the information you need to answer the set of 45 questions in `portfolio-questions-and-responses-2025.txt`.\n",
    "    - We suggest you might start with 45 categories and get your bot correctly answering all the questions.\n",
    "\n",
    "3. You will need to use some categories with `<that>` tag-pairs to answer three of the questions correctly, because they rely on the previous question to provide context.\n",
    "\n",
    "4. Then use what you have learned about `<srai>` tags and wildcards to reduce the number of categories in your file - **this will get you more marks**.\n",
    "\n",
    "5. For even more marks try including `<think>`, `<set>` and `<get>` tags and looking at the lecture notebook to see how `<condition>` tags work in AIML.\n",
    "\n",
    "6. Once you have completed your AIML you just need to submit the file `student.aiml` produced by the `AIML_Selfchecker.ipyb` notebook.\n",
    "\n",
    "**Make sure your \"student.aiml\" file is somewhere that is automatically backed up (like your UWE onedrive).**\n",
    "\n",
    "</div>"
   ]
  },
  {
   "cell_type": "markdown",
   "metadata": {},
   "source": [
    "### Marking scheme\n",
    "\n",
    "\n",
    "\n",
    "| 0-44                                   | 45-90                                  | 100                                            |\n",
    "|----------------------------------------|----------------------------------------|------------------------------------------------|\n",
    "| Incorrect responses to some questions. | Correct response to each question.     | Correct response to each question.             | \n",
    "|----------------------------------------|----------------------------------------|------------------------------------------------|\n",
    "|                                        | AIMl language features are used well   |  Exceptional analysis of knowledge to be stored|\n",
    "|                                        | to provide concise knowledge management|  and how to encode it concisely.               |\n",
    "|                                        | Solutions that duplicate information   | Wide range of AIMl language features are used. |\n",
    "|                                        | will get 65 marks.                     |                                                |\n",
    "|----------------------------------------|----------------------------------------|------------------------------------------------|\n",
    "| One mark per correct answer.           | 90-N marks,   where  10< N<45          | Fewer than 10 categories used.                 |\n",
    "|                                        | is the number of AIML categories  used |                                                |\n",
    "|                                        | to encode the knowledge base.          |                                                |\n"
   ]
  },
  {
   "cell_type": "markdown",
   "metadata": {},
   "source": [
    "<div class=\"alert alert-block alert-success\" style=\"color:black\"><b>Save and close Jupyter:</b>\n",
    "    <ol>\n",
    "        <li>Use the jupyterlab functions to download your work (ask your tutor if you need help with this) and save it somewhere sensible so you can find it easily.</li>\n",
    "        <li>Shutdown the notebook when you have finished with this tutorial (menu->file->close and shutdown notebook)</li>\n",
    "    </ol>\n",
    "</div"
   ]
  }
 ],
 "metadata": {
  "kernelspec": {
   "display_name": "Python 3 (ipykernel)",
   "language": "python",
   "name": "python3"
  },
  "language_info": {
   "codemirror_mode": {
    "name": "ipython",
    "version": 3
   },
   "file_extension": ".py",
   "mimetype": "text/x-python",
   "name": "python",
   "nbconvert_exporter": "python",
   "pygments_lexer": "ipython3",
   "version": "3.13.1"
  }
 },
 "nbformat": 4,
 "nbformat_minor": 4
}
