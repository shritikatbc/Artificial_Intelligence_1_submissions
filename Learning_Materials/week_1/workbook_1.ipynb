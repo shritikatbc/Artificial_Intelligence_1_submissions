{
 "cells": [
  {
   "cell_type": "markdown",
   "metadata": {},
   "source": [
    "<div class=\"alert alert-block alert-danger\" style=\"color:black\"><h2>THIS WORKBOOK IS ASSESSED</h2>\n",
    "    <p>Each activity details how many marks it is worth (out of 100), and how marks are awarded.</p>\n",
    "    <p>To make life easier when you submit, we use a two-stage process for each activity:\n",
    "    <ol>\n",
    "        <li>We provide a cell where you can edit your code, and which saves your implementation to  file.<br> This is one of the files you will upload to the marking server when you have finished the notebook.</li>\n",
    "        <li>We then provide a second code cell that loads your implementation into the notebook and tests it.</li>\n",
    "    </ol> </p>    \n",
    "    <p>When you are satisfied that you have completed all the activities as required you should:</p>\n",
    "    <ol>\n",
    "        <li>Use the jupyterlab functions to download your work (ask your tutor if you need help with this) and save it somewhere sensible so you can find it easily.</li>\n",
    "        <li>Submit them for automatic marking and feedback by following the links in the <i>Assessments</i> folder on Blackboard.</li>\n",
    "        <ul>\n",
    "        <li>This may involve answering some multiple choice questions as well as submitting your code.</li>\n",
    "        <li><b>Access the feedback provided</b> and use it to improve your work.</li>\n",
    "        <li>You can have up to <em>four</em> attempts at submitting your work.</li>\n",
    "    </ol>\n",
    "<h3> Important instructions about formatting your code cells</h3>\n",
    "<ol>\n",
    "   <li>Where you are asked to insert code, or to complete a code skeleton, <b>you must only put code where indicated</b>. <br>\n",
    "       Otherwise the marking server - or the plagiarism detection we will run later - will not be able to parse and accept them.<br>\n",
    "       So your code should only go\n",
    "       <ul> \n",
    "           <li><b>After</b> the lines marked <code># ====> insert your code below here </code></li>\n",
    "           <li> <b>Before</b> the lines marked <code># <==== insert your code above here</code></li>\n",
    "      </ul>\n",
    "   </li>\n",
    "               <li>The marking server will reject any files containing imports except \"approvedimports\"<br>\n",
    "               and  it has its own copy of that file, so there is no point editing the one we give you.</li>\n",
    "<li>Even in comments you must not use any of these banned words: <em>system, read,import</li>\n",
    "</ol>\n",
    "</div>"
   ]
  },
  {
   "cell_type": "markdown",
   "metadata": {},
   "source": [
    "# Workbook 1: Coding practice, introducing numpy and writing your first notebook\n",
    "\n",
    "Overview of activities and objectives of this workbook:\n",
    "\n",
    "0. The first part of this workbook will aim to familiarise you with Jupyter notebooks.\n",
    "    - The two types of cells **code** and **markdown**.\n",
    "    - Selecting a python environment and running code.\n",
    "    - The different colour information boxes we use in the workbooks, and what they mean.\n",
    "<br><br>    \n",
    "1. The first activity this week is to refresh your python coding skills by writing a simple algorithm that tries all the possible combinations of 4 digits to solve a combination lock puzzle.\n",
    "    - We provide a simple class for a puzzle with methods to set a problem and test whether an attempt has cracked the code.\n",
    "    - The task is to implement your algorithm in a method that can be tested using code from the problem class.\n",
    "<br><br>\n",
    "2. The second activity asks you to examine your algorithm's performance as the *complexity* of the combination lock changes.\n",
    "    - For example, we could add more digits, or more values per digit.\n",
    "    - The task is to use experiments and reasoning to answer a number of interactive multiple-choice questions.\n",
    "<br><br>\n",
    "\n",
    "3. The third activity introduces the `numpy` package which is incredibly useful for all sorts of numeric computing.  \n",
    "   There are some simple code cells to work through which illustrate how to:\n",
    "    - *Slice* datasets (arrays) to retrieve subsets of their data.\n",
    "    - Get statistics (e.g. mean/min/max and unique values) of numeric data.\n",
    "    - Task 3 is to write a method that combines array slicing with some simple string processing to extract a set of values from a character array.\n",
    "    - For those that feel confident, Task 4 is to combine code snippets from the previous cells to create a new method that could be used as part of a different problem; evaluating an attempt to solve a Sudoku problem."
   ]
  },
  {
   "cell_type": "markdown",
   "metadata": {},
   "source": [
    "<div style=\"background-color:black;width:100%;\"><br></div>\n",
    "\n",
    "# Part 0: Jupyter\n",
    "If you are seeing this in your browser it means that you have successfully downloaded and run this notebook within your Jupiter environment.\n",
    "\n",
    "You should have watched the videos that explain how a note book works, and what the different types of cells are.\n",
    "\n",
    "If you haven't done that, on the module's blackboard go to:\n",
    "\n",
    "**Learning materials > Getting ready for the module: setting up Jupyter**\n",
    "\n",
    "- Please take the time to watch the video and run through the simple examples.\n",
    "- It is important to understand the effect of running and re-running different cells, and the order that you do that.\n",
    "\n",
    "### Jupyter notebooks contain two types of cells:\n",
    "\n",
    "**Markdown cells** such as this one, are used to display text and image files on screen. \n",
    "- Markdown cells are very useful to keep a record of what you are doing and add notes.\n",
    "- They can also include html snippets to give you more control over formatting - as the different colour boxes in these notebooks illustrate.\n",
    "\n",
    "**Code cells** such as the one below, are used to ... run code! Usually python.\n",
    "- Code cells are like individual python scripts (.py files).\n",
    "- *But* all variables (data) are shared between all cells in the notebook. So you can create a variable in one cell and it will be accessible in all the other cells as well.\n",
    "\n",
    "To illustrate this, run the following cell by clicking on it and then pressing **Cmd + Enter** (Mac), or **Ctrl + Enter** (Windows). You should see the variable `x` printed below the cell."
   ]
  },
  {
   "cell_type": "code",
   "execution_count": 1,
   "metadata": {},
   "outputs": [
    {
     "name": "stdout",
     "output_type": "stream",
     "text": [
      "10\n"
     ]
    }
   ],
   "source": [
    "x = 10\n",
    "print(x)"
   ]
  },
  {
   "cell_type": "markdown",
   "metadata": {},
   "source": [
    "If you run the following cell you should see `x` printed again because it has already been initialised in the cell above.\n",
    "\n",
    "Now try restarting the notebook, which clears all variables (data):\n",
    "    - In a browser click **Kernel > Restart Kernel**.\n",
    "    - In VSCode click **Restart**.\n",
    "\n",
    "If you run the following cell again you should now see a `NameError` because the variable x hasn't been created yet!   \n",
    "If you see an error like this, it might be because you haven't run a previous cell where the variable is created *or* the variable simply hasn't been defined anywhere in the notebook.\n"
   ]
  },
  {
   "cell_type": "code",
   "execution_count": 2,
   "metadata": {},
   "outputs": [
    {
     "name": "stdout",
     "output_type": "stream",
     "text": [
      "10\n"
     ]
    }
   ],
   "source": [
    "print(x)"
   ]
  },
  {
   "cell_type": "markdown",
   "metadata": {},
   "source": [
    "### The code for a class or a function has to be put within a single Jupyter cell\n",
    "It is good practice to separate blocks of code that do different things into separate cells.\n",
    "And often, you will find yourself wrapping them up as a function or class so you can easily call them from different places.\n",
    "\n",
    "In Jupyter you must put all the code defining a function, or a class, into one cell.\n",
    "There are several examples of this below.\n",
    "\n",
    "- In some cases it means cells may get a little big (e.g. the class for `CombinationProblem`) \n",
    "- but once the code has stopped evolving, you can move it out of your notebook into a file (more on this next week)"
   ]
  },
  {
   "cell_type": "markdown",
   "metadata": {},
   "source": [
    "<div style=\"background-color:black;width:100%;height:2px\"><br></div>\n",
    "\n",
    "## Colours of markdown boxes\n",
    "\n",
    "In the notebooks for this module we will use different colours of markdown boxes to communicate different types of information to you.\n",
    "\n",
    "<div class=\"alert alert-block alert-info\" style=\"color:black\">\n",
    "<b>Blue</b> boxes are for <b>Activities</b>. This is where we are asking you to <em>do</em> something (usually write code).\n",
    "</div>\n",
    "\n",
    "<div class=\"alert alert-block alert-success\" style=\"color:black\">\n",
    "<b>Green</b> boxes are for <b>Notes</b>, <b>Hints</b> and advice on activities.\n",
    "</div>\n",
    "\n",
    "<div class=\"alert alert-block alert-warning\" style=\"color:black\">\n",
    "<b>Beige</b> boxes are for general <b>Programming</b> or <b>Computer Science</b> related information.\n",
    "</div>\n",
    "\n",
    "<div class=\"alert alert-block alert-danger\" style=\"color:black\">\n",
    "<b>Red</b> boxes are for <b>very important</b> messages, usually to tell you the workbook is assessed.\n",
    "</div>"
   ]
  },
  {
   "cell_type": "markdown",
   "metadata": {},
   "source": [
    "## Jupyter python environment\n",
    "\n",
    "Just like running a normal python (.py) file jupyter notebooks need an python interpreter (environment). Code in this module uses the **AIenv** python environment.\n",
    "\n",
    "- **IF** you are running the notebooks on the cloud server you need to click on the kernel menu and then change-kernel to **AIenv**.\n",
    "- **IF** you are running locally AND you created a virtual environment in Jupyter **THEN** click on the kernel menu then change-kernel.\n",
    "- **OR** in VSCode use the kernel selector in the top-right hand corner.\n",
    "\n",
    "The **AIenv** environment contains all of the python packages we will use in this module. These need to be imported just like using them in a python file.\n",
    "\n",
    "**Run the next cell** to import some python packages that we will use in this workbook:\n",
    "- Section 1 imports some fairly standard python stuff.\n",
    "   -  It starts with three lines importing functions for  finding, reloading,  and displaying packages within a notebook.\n",
    "   -  Line 4 imports the `numpy` library. We'll focus more on this at the end of this workbook.\n",
    "   - The final two lines import some other packages for generating random numbers and finding errors. <br>\n",
    "- Section 2 tells the python interpreter where to find the folder of common files.\n",
    "- Section 3 tells python to import one module (file) which contains details of the multiple-choice questions checking your understanding.\n",
    " \n",
    "If you have done the above correctly you should see a series of the success messages printed below the cell when you run it.\n",
    "\n",
    "Otherwise you might see a `ModuleNotFoundError`:\n",
    "- First check you have set the kernel to `aienv', then restart the kernel and   rerun the cell\n",
    "- If that does not work ask your tutor for help."
   ]
  },
  {
   "cell_type": "code",
   "execution_count": 3,
   "metadata": {
    "tags": []
   },
   "outputs": [
    {
     "name": "stdout",
     "output_type": "stream",
     "text": [
      "Some standard python packages imported\n",
      "Path to Module specific classes set\n",
      "This week's multiple choice questions imported\n",
      "Everything is imported!\n"
     ]
    }
   ],
   "source": [
    "# section 1: standard python/ jupyter stuff\n",
    "from sys import path\n",
    "from importlib import reload\n",
    "from IPython.display import display,Code\n",
    "import numpy as np\n",
    "import random\n",
    "import traceback\n",
    "print(\"Some standard python packages imported\")\n",
    "\n",
    "# section 2: import classes from the common directory for this module\n",
    "path.append('../common')\n",
    "print('Path to Module specific classes set')\n",
    "\n",
    "#section 3: import files specific to this week\n",
    "import workbook1_mcq1\n",
    "print(\"This week's multiple choice questions imported\")\n",
    "\n",
    "print(\"Everything is imported!\")"
   ]
  },
  {
   "cell_type": "markdown",
   "metadata": {},
   "source": [
    "<div style=\"background-color:black;width:100%;\"><br></div>\n",
    "\n",
    "# Part 1: Implementing a simple algorithm for a simple problem\n",
    "\n",
    "We'll start by defining classes for Problem() and CandidateSolution(), so we can rapidly create new types of problems.\n",
    "\n",
    "The main reason for doing this is so that algorithms know what functions they can call and how.\n",
    "<img src=\"figs/simple_uml.png\">"
   ]
  },
  {
   "cell_type": "markdown",
   "metadata": {},
   "source": [
    "### The `CandidateSolution` class represents potential solutions to problems\n",
    "So an instance of this class represents a single *potential* solution to a problem (so not necessarily *the* solution or even a valid one).\n",
    "\n",
    "It has 2 variables:\n",
    "- `variable_values` is a list of variables, whose values represent a solution to a problem  \n",
    "   like the 4 digits of a combination lock, or a sequence of moves in a game, or ....\n",
    "- `quality` is an integer which represents if the solution is correct or not (or how good it is).\n",
    "\n",
    "**Run the cell below to display the contents of this file**"
   ]
  },
  {
   "cell_type": "code",
   "execution_count": 4,
   "metadata": {},
   "outputs": [
    {
     "data": {
      "text/html": [
       "<style>pre { line-height: 125%; }\n",
       "td.linenos .normal { color: inherit; background-color: transparent; padding-left: 5px; padding-right: 5px; }\n",
       "span.linenos { color: inherit; background-color: transparent; padding-left: 5px; padding-right: 5px; }\n",
       "td.linenos .special { color: #000000; background-color: #ffffc0; padding-left: 5px; padding-right: 5px; }\n",
       "span.linenos.special { color: #000000; background-color: #ffffc0; padding-left: 5px; padding-right: 5px; }\n",
       ".output_html .hll { background-color: #ffffcc }\n",
       ".output_html { background: #f8f8f8; }\n",
       ".output_html .c { color: #3D7B7B; font-style: italic } /* Comment */\n",
       ".output_html .err { border: 1px solid #FF0000 } /* Error */\n",
       ".output_html .k { color: #008000; font-weight: bold } /* Keyword */\n",
       ".output_html .o { color: #666666 } /* Operator */\n",
       ".output_html .ch { color: #3D7B7B; font-style: italic } /* Comment.Hashbang */\n",
       ".output_html .cm { color: #3D7B7B; font-style: italic } /* Comment.Multiline */\n",
       ".output_html .cp { color: #9C6500 } /* Comment.Preproc */\n",
       ".output_html .cpf { color: #3D7B7B; font-style: italic } /* Comment.PreprocFile */\n",
       ".output_html .c1 { color: #3D7B7B; font-style: italic } /* Comment.Single */\n",
       ".output_html .cs { color: #3D7B7B; font-style: italic } /* Comment.Special */\n",
       ".output_html .gd { color: #A00000 } /* Generic.Deleted */\n",
       ".output_html .ge { font-style: italic } /* Generic.Emph */\n",
       ".output_html .ges { font-weight: bold; font-style: italic } /* Generic.EmphStrong */\n",
       ".output_html .gr { color: #E40000 } /* Generic.Error */\n",
       ".output_html .gh { color: #000080; font-weight: bold } /* Generic.Heading */\n",
       ".output_html .gi { color: #008400 } /* Generic.Inserted */\n",
       ".output_html .go { color: #717171 } /* Generic.Output */\n",
       ".output_html .gp { color: #000080; font-weight: bold } /* Generic.Prompt */\n",
       ".output_html .gs { font-weight: bold } /* Generic.Strong */\n",
       ".output_html .gu { color: #800080; font-weight: bold } /* Generic.Subheading */\n",
       ".output_html .gt { color: #0044DD } /* Generic.Traceback */\n",
       ".output_html .kc { color: #008000; font-weight: bold } /* Keyword.Constant */\n",
       ".output_html .kd { color: #008000; font-weight: bold } /* Keyword.Declaration */\n",
       ".output_html .kn { color: #008000; font-weight: bold } /* Keyword.Namespace */\n",
       ".output_html .kp { color: #008000 } /* Keyword.Pseudo */\n",
       ".output_html .kr { color: #008000; font-weight: bold } /* Keyword.Reserved */\n",
       ".output_html .kt { color: #B00040 } /* Keyword.Type */\n",
       ".output_html .m { color: #666666 } /* Literal.Number */\n",
       ".output_html .s { color: #BA2121 } /* Literal.String */\n",
       ".output_html .na { color: #687822 } /* Name.Attribute */\n",
       ".output_html .nb { color: #008000 } /* Name.Builtin */\n",
       ".output_html .nc { color: #0000FF; font-weight: bold } /* Name.Class */\n",
       ".output_html .no { color: #880000 } /* Name.Constant */\n",
       ".output_html .nd { color: #AA22FF } /* Name.Decorator */\n",
       ".output_html .ni { color: #717171; font-weight: bold } /* Name.Entity */\n",
       ".output_html .ne { color: #CB3F38; font-weight: bold } /* Name.Exception */\n",
       ".output_html .nf { color: #0000FF } /* Name.Function */\n",
       ".output_html .nl { color: #767600 } /* Name.Label */\n",
       ".output_html .nn { color: #0000FF; font-weight: bold } /* Name.Namespace */\n",
       ".output_html .nt { color: #008000; font-weight: bold } /* Name.Tag */\n",
       ".output_html .nv { color: #19177C } /* Name.Variable */\n",
       ".output_html .ow { color: #AA22FF; font-weight: bold } /* Operator.Word */\n",
       ".output_html .w { color: #bbbbbb } /* Text.Whitespace */\n",
       ".output_html .mb { color: #666666 } /* Literal.Number.Bin */\n",
       ".output_html .mf { color: #666666 } /* Literal.Number.Float */\n",
       ".output_html .mh { color: #666666 } /* Literal.Number.Hex */\n",
       ".output_html .mi { color: #666666 } /* Literal.Number.Integer */\n",
       ".output_html .mo { color: #666666 } /* Literal.Number.Oct */\n",
       ".output_html .sa { color: #BA2121 } /* Literal.String.Affix */\n",
       ".output_html .sb { color: #BA2121 } /* Literal.String.Backtick */\n",
       ".output_html .sc { color: #BA2121 } /* Literal.String.Char */\n",
       ".output_html .dl { color: #BA2121 } /* Literal.String.Delimiter */\n",
       ".output_html .sd { color: #BA2121; font-style: italic } /* Literal.String.Doc */\n",
       ".output_html .s2 { color: #BA2121 } /* Literal.String.Double */\n",
       ".output_html .se { color: #AA5D1F; font-weight: bold } /* Literal.String.Escape */\n",
       ".output_html .sh { color: #BA2121 } /* Literal.String.Heredoc */\n",
       ".output_html .si { color: #A45A77; font-weight: bold } /* Literal.String.Interpol */\n",
       ".output_html .sx { color: #008000 } /* Literal.String.Other */\n",
       ".output_html .sr { color: #A45A77 } /* Literal.String.Regex */\n",
       ".output_html .s1 { color: #BA2121 } /* Literal.String.Single */\n",
       ".output_html .ss { color: #19177C } /* Literal.String.Symbol */\n",
       ".output_html .bp { color: #008000 } /* Name.Builtin.Pseudo */\n",
       ".output_html .fm { color: #0000FF } /* Name.Function.Magic */\n",
       ".output_html .vc { color: #19177C } /* Name.Variable.Class */\n",
       ".output_html .vg { color: #19177C } /* Name.Variable.Global */\n",
       ".output_html .vi { color: #19177C } /* Name.Variable.Instance */\n",
       ".output_html .vm { color: #19177C } /* Name.Variable.Magic */\n",
       ".output_html .il { color: #666666 } /* Literal.Number.Integer.Long */</style><div class=\"highlight\"><pre><span></span><span class=\"sd\">&quot;&quot;&quot;</span>\n",
       "<span class=\"sd\">Candidatesolution.py</span>\n",
       "<span class=\"sd\">Implements a very simple class</span>\n",
       "<span class=\"sd\">to hold all the variables associated with a candidate solution to a search problem.</span>\n",
       "<span class=\"sd\">Should probably use some private attributes and provide getters and setters</span>\n",
       "<span class=\"sd\">Author: Jim Smith 2023.</span>\n",
       "<span class=\"sd\">&quot;&quot;&quot;</span>\n",
       "\n",
       "\n",
       "<span class=\"k\">class</span> <span class=\"nc\">CandidateSolution</span><span class=\"p\">:</span>\n",
       "    <span class=\"k\">def</span> <span class=\"fm\">__init__</span><span class=\"p\">(</span><span class=\"bp\">self</span><span class=\"p\">):</span>\n",
       "        <span class=\"bp\">self</span><span class=\"o\">.</span><span class=\"n\">variable_values</span> <span class=\"o\">=</span> <span class=\"p\">[]</span>\n",
       "        <span class=\"bp\">self</span><span class=\"o\">.</span><span class=\"n\">quality</span> <span class=\"o\">=</span> <span class=\"mi\">0</span>\n",
       "        <span class=\"bp\">self</span><span class=\"o\">.</span><span class=\"n\">meets_constraints</span> <span class=\"o\">=</span> <span class=\"kc\">False</span>\n",
       "        <span class=\"bp\">self</span><span class=\"o\">.</span><span class=\"n\">reason</span> <span class=\"o\">=</span> <span class=\"s2\">&quot;&quot;</span>\n",
       "\n",
       "    <span class=\"k\">def</span> <span class=\"nf\">print_values</span><span class=\"p\">(</span><span class=\"bp\">self</span><span class=\"p\">):</span>\n",
       "        <span class=\"nb\">print</span><span class=\"p\">(</span><span class=\"bp\">self</span><span class=\"o\">.</span><span class=\"n\">variable_values</span><span class=\"p\">)</span>\n",
       "</pre></div>\n"
      ],
      "text/latex": [
       "\\begin{Verbatim}[commandchars=\\\\\\{\\}]\n",
       "\\PY{l+s+sd}{\\PYZdq{}\\PYZdq{}\\PYZdq{}}\n",
       "\\PY{l+s+sd}{Candidatesolution.py}\n",
       "\\PY{l+s+sd}{Implements a very simple class}\n",
       "\\PY{l+s+sd}{to hold all the variables associated with a candidate solution to a search problem.}\n",
       "\\PY{l+s+sd}{Should probably use some private attributes and provide getters and setters}\n",
       "\\PY{l+s+sd}{Author: Jim Smith 2023.}\n",
       "\\PY{l+s+sd}{\\PYZdq{}\\PYZdq{}\\PYZdq{}}\n",
       "\n",
       "\n",
       "\\PY{k}{class} \\PY{n+nc}{CandidateSolution}\\PY{p}{:}\n",
       "    \\PY{k}{def} \\PY{n+nf+fm}{\\PYZus{}\\PYZus{}init\\PYZus{}\\PYZus{}}\\PY{p}{(}\\PY{n+nb+bp}{self}\\PY{p}{)}\\PY{p}{:}\n",
       "        \\PY{n+nb+bp}{self}\\PY{o}{.}\\PY{n}{variable\\PYZus{}values} \\PY{o}{=} \\PY{p}{[}\\PY{p}{]}\n",
       "        \\PY{n+nb+bp}{self}\\PY{o}{.}\\PY{n}{quality} \\PY{o}{=} \\PY{l+m+mi}{0}\n",
       "        \\PY{n+nb+bp}{self}\\PY{o}{.}\\PY{n}{meets\\PYZus{}constraints} \\PY{o}{=} \\PY{k+kc}{False}\n",
       "        \\PY{n+nb+bp}{self}\\PY{o}{.}\\PY{n}{reason} \\PY{o}{=} \\PY{l+s+s2}{\\PYZdq{}}\\PY{l+s+s2}{\\PYZdq{}}\n",
       "\n",
       "    \\PY{k}{def} \\PY{n+nf}{print\\PYZus{}values}\\PY{p}{(}\\PY{n+nb+bp}{self}\\PY{p}{)}\\PY{p}{:}\n",
       "        \\PY{n+nb}{print}\\PY{p}{(}\\PY{n+nb+bp}{self}\\PY{o}{.}\\PY{n}{variable\\PYZus{}values}\\PY{p}{)}\n",
       "\\end{Verbatim}\n"
      ],
      "text/plain": [
       "\"\"\"\n",
       "Candidatesolution.py\n",
       "Implements a very simple class\n",
       "to hold all the variables associated with a candidate solution to a search problem.\n",
       "Should probably use some private attributes and provide getters and setters\n",
       "Author: Jim Smith 2023.\n",
       "\"\"\"\n",
       "\n",
       "\n",
       "class CandidateSolution:\n",
       "    def __init__(self):\n",
       "        self.variable_values = []\n",
       "        self.quality = 0\n",
       "        self.meets_constraints = False\n",
       "        self.reason = \"\"\n",
       "\n",
       "    def print_values(self):\n",
       "        print(self.variable_values)"
      ]
     },
     "execution_count": 4,
     "metadata": {},
     "output_type": "execute_result"
    }
   ],
   "source": [
    "Code(filename='../common/candidatesolution.py', language='python')"
   ]
  },
  {
   "cell_type": "markdown",
   "metadata": {},
   "source": [
    "### The `Problem` class is a generic superclass to represent a problem. \n",
    "We can create a subclass which defines a specific problem, for example, a combination lock.\n",
    "\n",
    "It has 2 variables:\n",
    "- `value_set` is a list of all the valid values that a solution's variables can take.  \n",
    "    For example,  each digit in a combination should be 0 to 9.\n",
    "- `numdecisions` is the number of values in a solution e.g. a combination lock often has 4 digits.\n",
    "\n",
    "And one or two methods:\n",
    "- The `evaluate()` method takes a `CandidateSolutions` `variable_values` as parameters.  \n",
    "  It returns a number representing that solution's `quality` e.g. is it correct or not.\n",
    "\n",
    "**Run the cell below to display the contents of this file**  "
   ]
  },
  {
   "cell_type": "code",
   "execution_count": 5,
   "metadata": {
    "tags": []
   },
   "outputs": [
    {
     "data": {
      "text/html": [
       "<style>pre { line-height: 125%; }\n",
       "td.linenos .normal { color: inherit; background-color: transparent; padding-left: 5px; padding-right: 5px; }\n",
       "span.linenos { color: inherit; background-color: transparent; padding-left: 5px; padding-right: 5px; }\n",
       "td.linenos .special { color: #000000; background-color: #ffffc0; padding-left: 5px; padding-right: 5px; }\n",
       "span.linenos.special { color: #000000; background-color: #ffffc0; padding-left: 5px; padding-right: 5px; }\n",
       ".output_html .hll { background-color: #ffffcc }\n",
       ".output_html { background: #f8f8f8; }\n",
       ".output_html .c { color: #3D7B7B; font-style: italic } /* Comment */\n",
       ".output_html .err { border: 1px solid #FF0000 } /* Error */\n",
       ".output_html .k { color: #008000; font-weight: bold } /* Keyword */\n",
       ".output_html .o { color: #666666 } /* Operator */\n",
       ".output_html .ch { color: #3D7B7B; font-style: italic } /* Comment.Hashbang */\n",
       ".output_html .cm { color: #3D7B7B; font-style: italic } /* Comment.Multiline */\n",
       ".output_html .cp { color: #9C6500 } /* Comment.Preproc */\n",
       ".output_html .cpf { color: #3D7B7B; font-style: italic } /* Comment.PreprocFile */\n",
       ".output_html .c1 { color: #3D7B7B; font-style: italic } /* Comment.Single */\n",
       ".output_html .cs { color: #3D7B7B; font-style: italic } /* Comment.Special */\n",
       ".output_html .gd { color: #A00000 } /* Generic.Deleted */\n",
       ".output_html .ge { font-style: italic } /* Generic.Emph */\n",
       ".output_html .ges { font-weight: bold; font-style: italic } /* Generic.EmphStrong */\n",
       ".output_html .gr { color: #E40000 } /* Generic.Error */\n",
       ".output_html .gh { color: #000080; font-weight: bold } /* Generic.Heading */\n",
       ".output_html .gi { color: #008400 } /* Generic.Inserted */\n",
       ".output_html .go { color: #717171 } /* Generic.Output */\n",
       ".output_html .gp { color: #000080; font-weight: bold } /* Generic.Prompt */\n",
       ".output_html .gs { font-weight: bold } /* Generic.Strong */\n",
       ".output_html .gu { color: #800080; font-weight: bold } /* Generic.Subheading */\n",
       ".output_html .gt { color: #0044DD } /* Generic.Traceback */\n",
       ".output_html .kc { color: #008000; font-weight: bold } /* Keyword.Constant */\n",
       ".output_html .kd { color: #008000; font-weight: bold } /* Keyword.Declaration */\n",
       ".output_html .kn { color: #008000; font-weight: bold } /* Keyword.Namespace */\n",
       ".output_html .kp { color: #008000 } /* Keyword.Pseudo */\n",
       ".output_html .kr { color: #008000; font-weight: bold } /* Keyword.Reserved */\n",
       ".output_html .kt { color: #B00040 } /* Keyword.Type */\n",
       ".output_html .m { color: #666666 } /* Literal.Number */\n",
       ".output_html .s { color: #BA2121 } /* Literal.String */\n",
       ".output_html .na { color: #687822 } /* Name.Attribute */\n",
       ".output_html .nb { color: #008000 } /* Name.Builtin */\n",
       ".output_html .nc { color: #0000FF; font-weight: bold } /* Name.Class */\n",
       ".output_html .no { color: #880000 } /* Name.Constant */\n",
       ".output_html .nd { color: #AA22FF } /* Name.Decorator */\n",
       ".output_html .ni { color: #717171; font-weight: bold } /* Name.Entity */\n",
       ".output_html .ne { color: #CB3F38; font-weight: bold } /* Name.Exception */\n",
       ".output_html .nf { color: #0000FF } /* Name.Function */\n",
       ".output_html .nl { color: #767600 } /* Name.Label */\n",
       ".output_html .nn { color: #0000FF; font-weight: bold } /* Name.Namespace */\n",
       ".output_html .nt { color: #008000; font-weight: bold } /* Name.Tag */\n",
       ".output_html .nv { color: #19177C } /* Name.Variable */\n",
       ".output_html .ow { color: #AA22FF; font-weight: bold } /* Operator.Word */\n",
       ".output_html .w { color: #bbbbbb } /* Text.Whitespace */\n",
       ".output_html .mb { color: #666666 } /* Literal.Number.Bin */\n",
       ".output_html .mf { color: #666666 } /* Literal.Number.Float */\n",
       ".output_html .mh { color: #666666 } /* Literal.Number.Hex */\n",
       ".output_html .mi { color: #666666 } /* Literal.Number.Integer */\n",
       ".output_html .mo { color: #666666 } /* Literal.Number.Oct */\n",
       ".output_html .sa { color: #BA2121 } /* Literal.String.Affix */\n",
       ".output_html .sb { color: #BA2121 } /* Literal.String.Backtick */\n",
       ".output_html .sc { color: #BA2121 } /* Literal.String.Char */\n",
       ".output_html .dl { color: #BA2121 } /* Literal.String.Delimiter */\n",
       ".output_html .sd { color: #BA2121; font-style: italic } /* Literal.String.Doc */\n",
       ".output_html .s2 { color: #BA2121 } /* Literal.String.Double */\n",
       ".output_html .se { color: #AA5D1F; font-weight: bold } /* Literal.String.Escape */\n",
       ".output_html .sh { color: #BA2121 } /* Literal.String.Heredoc */\n",
       ".output_html .si { color: #A45A77; font-weight: bold } /* Literal.String.Interpol */\n",
       ".output_html .sx { color: #008000 } /* Literal.String.Other */\n",
       ".output_html .sr { color: #A45A77 } /* Literal.String.Regex */\n",
       ".output_html .s1 { color: #BA2121 } /* Literal.String.Single */\n",
       ".output_html .ss { color: #19177C } /* Literal.String.Symbol */\n",
       ".output_html .bp { color: #008000 } /* Name.Builtin.Pseudo */\n",
       ".output_html .fm { color: #0000FF } /* Name.Function.Magic */\n",
       ".output_html .vc { color: #19177C } /* Name.Variable.Class */\n",
       ".output_html .vg { color: #19177C } /* Name.Variable.Global */\n",
       ".output_html .vi { color: #19177C } /* Name.Variable.Instance */\n",
       ".output_html .vm { color: #19177C } /* Name.Variable.Magic */\n",
       ".output_html .il { color: #666666 } /* Literal.Number.Integer.Long */</style><div class=\"highlight\"><pre><span></span><span class=\"sd\">&quot;&quot;&quot;Python implementation of superclass for problems</span>\n",
       "<span class=\"sd\">author:james.smith@uwe.ac.uk 2023.</span>\n",
       "<span class=\"sd\">&quot;&quot;&quot;</span>\n",
       "\n",
       "\n",
       "<span class=\"k\">class</span> <span class=\"nc\">Problem</span><span class=\"p\">:</span>\n",
       "<span class=\"w\">    </span><span class=\"sd\">&quot;&quot;&quot;Generic super class we will use for problems.&quot;&quot;&quot;</span>\n",
       "\n",
       "    <span class=\"k\">def</span> <span class=\"fm\">__init__</span><span class=\"p\">(</span><span class=\"bp\">self</span><span class=\"p\">):</span>\n",
       "        <span class=\"bp\">self</span><span class=\"o\">.</span><span class=\"n\">numdecisions</span><span class=\"p\">:</span> <span class=\"nb\">int</span> <span class=\"o\">=</span> <span class=\"o\">-</span><span class=\"mi\">1</span>\n",
       "        <span class=\"bp\">self</span><span class=\"o\">.</span><span class=\"n\">value_set</span><span class=\"p\">:</span> <span class=\"nb\">list</span> <span class=\"o\">=</span> <span class=\"p\">[]</span>\n",
       "\n",
       "    <span class=\"k\">def</span> <span class=\"nf\">evaluate</span><span class=\"p\">(</span><span class=\"bp\">self</span><span class=\"p\">,</span> <span class=\"n\">solution</span><span class=\"p\">:</span> <span class=\"nb\">list</span><span class=\"p\">)</span> <span class=\"o\">-&gt;</span> <span class=\"nb\">int</span><span class=\"p\">:</span>\n",
       "<span class=\"w\">        </span><span class=\"sd\">&quot;&quot;&quot;Evaluate function.</span>\n",
       "\n",
       "<span class=\"sd\">        Parameters</span>\n",
       "<span class=\"sd\">         ----------</span>\n",
       "<span class=\"sd\">         attempt : list</span>\n",
       "<span class=\"sd\">             list of values that define a proposed solution</span>\n",
       "\n",
       "<span class=\"sd\">         Returns</span>\n",
       "<span class=\"sd\">         -------</span>\n",
       "<span class=\"sd\">         int</span>\n",
       "<span class=\"sd\">             quality</span>\n",
       "<span class=\"sd\">             -1 means invalid,</span>\n",
       "<span class=\"sd\">         Raises</span>\n",
       "<span class=\"sd\">         -----</span>\n",
       "<span class=\"sd\">         ValueError(str)</span>\n",
       "<span class=\"sd\">             reason why solution is invalid</span>\n",
       "<span class=\"sd\">         or</span>\n",
       "<span class=\"sd\">         NotImplementedException</span>\n",
       "<span class=\"sd\">          if the sub class has not implemented an evaluate() method</span>\n",
       "<span class=\"sd\">        &quot;&quot;&quot;</span>\n",
       "        <span class=\"k\">raise</span> <span class=\"n\">NotImplementedException</span><span class=\"p\">(</span><span class=\"s2\">&quot;evaluation function has not been defined for problem!&quot;</span><span class=\"p\">)</span>\n",
       "        <span class=\"k\">return</span> <span class=\"o\">-</span><span class=\"mi\">1</span><span class=\"p\">,</span> \n",
       "</pre></div>\n"
      ],
      "text/latex": [
       "\\begin{Verbatim}[commandchars=\\\\\\{\\}]\n",
       "\\PY{l+s+sd}{\\PYZdq{}\\PYZdq{}\\PYZdq{}Python implementation of superclass for problems}\n",
       "\\PY{l+s+sd}{author:james.smith@uwe.ac.uk 2023.}\n",
       "\\PY{l+s+sd}{\\PYZdq{}\\PYZdq{}\\PYZdq{}}\n",
       "\n",
       "\n",
       "\\PY{k}{class} \\PY{n+nc}{Problem}\\PY{p}{:}\n",
       "\\PY{+w}{    }\\PY{l+s+sd}{\\PYZdq{}\\PYZdq{}\\PYZdq{}Generic super class we will use for problems.\\PYZdq{}\\PYZdq{}\\PYZdq{}}\n",
       "\n",
       "    \\PY{k}{def} \\PY{n+nf+fm}{\\PYZus{}\\PYZus{}init\\PYZus{}\\PYZus{}}\\PY{p}{(}\\PY{n+nb+bp}{self}\\PY{p}{)}\\PY{p}{:}\n",
       "        \\PY{n+nb+bp}{self}\\PY{o}{.}\\PY{n}{numdecisions}\\PY{p}{:} \\PY{n+nb}{int} \\PY{o}{=} \\PY{o}{\\PYZhy{}}\\PY{l+m+mi}{1}\n",
       "        \\PY{n+nb+bp}{self}\\PY{o}{.}\\PY{n}{value\\PYZus{}set}\\PY{p}{:} \\PY{n+nb}{list} \\PY{o}{=} \\PY{p}{[}\\PY{p}{]}\n",
       "\n",
       "    \\PY{k}{def} \\PY{n+nf}{evaluate}\\PY{p}{(}\\PY{n+nb+bp}{self}\\PY{p}{,} \\PY{n}{solution}\\PY{p}{:} \\PY{n+nb}{list}\\PY{p}{)} \\PY{o}{\\PYZhy{}}\\PY{o}{\\PYZgt{}} \\PY{n+nb}{int}\\PY{p}{:}\n",
       "\\PY{+w}{        }\\PY{l+s+sd}{\\PYZdq{}\\PYZdq{}\\PYZdq{}Evaluate function.}\n",
       "\n",
       "\\PY{l+s+sd}{        Parameters}\n",
       "\\PY{l+s+sd}{         \\PYZhy{}\\PYZhy{}\\PYZhy{}\\PYZhy{}\\PYZhy{}\\PYZhy{}\\PYZhy{}\\PYZhy{}\\PYZhy{}\\PYZhy{}}\n",
       "\\PY{l+s+sd}{         attempt : list}\n",
       "\\PY{l+s+sd}{             list of values that define a proposed solution}\n",
       "\n",
       "\\PY{l+s+sd}{         Returns}\n",
       "\\PY{l+s+sd}{         \\PYZhy{}\\PYZhy{}\\PYZhy{}\\PYZhy{}\\PYZhy{}\\PYZhy{}\\PYZhy{}}\n",
       "\\PY{l+s+sd}{         int}\n",
       "\\PY{l+s+sd}{             quality}\n",
       "\\PY{l+s+sd}{             \\PYZhy{}1 means invalid,}\n",
       "\\PY{l+s+sd}{         Raises}\n",
       "\\PY{l+s+sd}{         \\PYZhy{}\\PYZhy{}\\PYZhy{}\\PYZhy{}\\PYZhy{}}\n",
       "\\PY{l+s+sd}{         ValueError(str)}\n",
       "\\PY{l+s+sd}{             reason why solution is invalid}\n",
       "\\PY{l+s+sd}{         or}\n",
       "\\PY{l+s+sd}{         NotImplementedException}\n",
       "\\PY{l+s+sd}{          if the sub class has not implemented an evaluate() method}\n",
       "\\PY{l+s+sd}{        \\PYZdq{}\\PYZdq{}\\PYZdq{}}\n",
       "        \\PY{k}{raise} \\PY{n}{NotImplementedException}\\PY{p}{(}\\PY{l+s+s2}{\\PYZdq{}}\\PY{l+s+s2}{evaluation function has not been defined for problem!}\\PY{l+s+s2}{\\PYZdq{}}\\PY{p}{)}\n",
       "        \\PY{k}{return} \\PY{o}{\\PYZhy{}}\\PY{l+m+mi}{1}\\PY{p}{,} \n",
       "\\end{Verbatim}\n"
      ],
      "text/plain": [
       "\"\"\"Python implementation of superclass for problems\n",
       "author:james.smith@uwe.ac.uk 2023.\n",
       "\"\"\"\n",
       "\n",
       "\n",
       "class Problem:\n",
       "    \"\"\"Generic super class we will use for problems.\"\"\"\n",
       "\n",
       "    def __init__(self):\n",
       "        self.numdecisions: int = -1\n",
       "        self.value_set: list = []\n",
       "\n",
       "    def evaluate(self, solution: list) -> int:\n",
       "        \"\"\"Evaluate function.\n",
       "\n",
       "        Parameters\n",
       "         ----------\n",
       "         attempt : list\n",
       "             list of values that define a proposed solution\n",
       "\n",
       "         Returns\n",
       "         -------\n",
       "         int\n",
       "             quality\n",
       "             -1 means invalid,\n",
       "         Raises\n",
       "         -----\n",
       "         ValueError(str)\n",
       "             reason why solution is invalid\n",
       "         or\n",
       "         NotImplementedException\n",
       "          if the sub class has not implemented an evaluate() method\n",
       "        \"\"\"\n",
       "        raise NotImplementedException(\"evaluation function has not been defined for problem!\")\n",
       "        return -1, "
      ]
     },
     "execution_count": 5,
     "metadata": {},
     "output_type": "execute_result"
    }
   ],
   "source": [
    "Code(filename='../common/problem.py', language='python')"
   ]
  },
  {
   "cell_type": "markdown",
   "metadata": {},
   "source": [
    "<div class=\"alert alert-block alert-warning\" style=\"color:black\">\n",
    "<h3>Generic Coding Skill 1: Using Errors and exceptions to deal with unexpected things at run-time:</h3>\n",
    "<p> Good programmers think about <b>how</b> the code will be used and <b>what problems</b> might occur.</p>\n",
    "    <ul>\n",
    "        <li> For example, we might have a <code>CombinationLock</code> problem where a guess should have 4 digits.</li>\n",
    "        <li> But what do we do if someone puts in '123' or '54321' or 'abcd'?</li>\n",
    "        <li> The answer is called <b>Exception Handling</b></li>\n",
    "        <ul>\n",
    "            <li> The <em>calling code</em> wraps the call in a try...except block</li>\n",
    "            <li> And the <em>called</em> code does validation and raises an exception if needed</li>\n",
    "        </ul>\n",
    "    </ul>\n",
    "    <p>In the code below we will use two different types of errors you will come across a lot:\n",
    "    <ul> \n",
    "        <li><code>NotImplementedError</code>: when a sub-class fails to implement a method, and so the abstract class method is called by accident.</li>\n",
    "        <li><code>ValueError</code>: when a problem's <code>evaluate()</code> method is asked to test something that doesn't make sense.</li>\n",
    "        <li> We will let the <code>NotImplementedError</code> stop our programme executing, because it means something needs fixing.</li>\n",
    "        <li> But the search method uses a <code>try ....except</code> block around each attempt to evaluate a solution so that it can carry on after producing something invalid.</li>\n",
    "    <ul>\n",
    "    </p>\n",
    "</div>"
   ]
  },
  {
   "cell_type": "markdown",
   "metadata": {},
   "source": [
    "<div class=\"alert alert-block alert-warning\" style=\"color:black\">\n",
    "<h3>Generic Coding Skills 2: Taking Care to format doc strings for each method</h3>\n",
    "   Can seem like a lot of extra effort but:\n",
    "    <ul> \n",
    "        <li>Makes it easier for other people to use your code (like we are doing with you).</li>\n",
    "        <li>Makes it easier for you to  come back to code you wrote a few months ago.</li>\n",
    "        <li>Can be understood by IDEs and  automatic code documenters.</li>\n",
    "    </ul>\n",
    "    <p> We've used strict PEP8 naming conventions, docstrings and type hints for parameters to methods. <br>\n",
    "        This is good coding practice and many github repositories will use automated checks to enforce them.</p>\n",
    "</div>"
   ]
  },
  {
   "cell_type": "markdown",
   "metadata": {},
   "source": [
    "### The `CombinationProblem` subclass defines combination lock problems\n",
    "<a title=\"Immanuel goldstein at English Wikipedia, Public domain, via Wikimedia Commons\" href=\"https://commons.wikimedia.org/wiki/File:CombinationBikeLock.JPG\"><img width=\"256\" style=\"float:right\" alt=\"CombinationBikeLock\" src=\"https://upload.wikimedia.org/wikipedia/commons/b/b7/CombinationBikeLock.JPG\"></a>\n",
    "\n",
    "The lock has a number of **tumblers** or **digits** (4 in the picture, more expensive locks have more).\n",
    "\n",
    "There are the same number of options for each tumbler, typically (but not always) 10, the digits 0 to 9.\n",
    "\n",
    "When the lock is made, each of the tumblers is set with it's own specific value.\n",
    "\n",
    "So in code: an attempt to open the lock means testing whether each of variables has got the right value.\n",
    "\n",
    "\n",
    "An **instance** of `CombinationProblem`  represents a specific combination lock.\n",
    "\n",
    "This class has 3 variables:\n",
    "- `numdecisions` is the number of tumblers or digits in the lock.\n",
    "- `value_set` is the list of values each tumbler can have: \\[0,1,2,3,4,5,6,7,8,9\\]\n",
    "- `goal` is the solution or combination to open the lock. When we create a new instance of this problem the goal is set to a random combination.\n",
    "\n",
    "The `Evaluate()` method:\n",
    "1. Checks if a given solution is the right length (e.g. 4 digits)\n",
    "2. Checks if the each digit is a valid value (e.g. an integer in the range 0 to 9)\n",
    "3. Checks if the solution is correct. If so, return 1 otherwise 0.\n",
    "\n",
    "The `get_goal()` and `set_goal()` methods: provide clean ways to access an instance's goal values\n",
    "\n",
    "**Run the cell below to display the code that implements this class**"
   ]
  },
  {
   "cell_type": "code",
   "execution_count": 6,
   "metadata": {
    "tags": []
   },
   "outputs": [
    {
     "data": {
      "text/html": [
       "<style>pre { line-height: 125%; }\n",
       "td.linenos .normal { color: inherit; background-color: transparent; padding-left: 5px; padding-right: 5px; }\n",
       "span.linenos { color: inherit; background-color: transparent; padding-left: 5px; padding-right: 5px; }\n",
       "td.linenos .special { color: #000000; background-color: #ffffc0; padding-left: 5px; padding-right: 5px; }\n",
       "span.linenos.special { color: #000000; background-color: #ffffc0; padding-left: 5px; padding-right: 5px; }\n",
       ".output_html .hll { background-color: #ffffcc }\n",
       ".output_html { background: #f8f8f8; }\n",
       ".output_html .c { color: #3D7B7B; font-style: italic } /* Comment */\n",
       ".output_html .err { border: 1px solid #FF0000 } /* Error */\n",
       ".output_html .k { color: #008000; font-weight: bold } /* Keyword */\n",
       ".output_html .o { color: #666666 } /* Operator */\n",
       ".output_html .ch { color: #3D7B7B; font-style: italic } /* Comment.Hashbang */\n",
       ".output_html .cm { color: #3D7B7B; font-style: italic } /* Comment.Multiline */\n",
       ".output_html .cp { color: #9C6500 } /* Comment.Preproc */\n",
       ".output_html .cpf { color: #3D7B7B; font-style: italic } /* Comment.PreprocFile */\n",
       ".output_html .c1 { color: #3D7B7B; font-style: italic } /* Comment.Single */\n",
       ".output_html .cs { color: #3D7B7B; font-style: italic } /* Comment.Special */\n",
       ".output_html .gd { color: #A00000 } /* Generic.Deleted */\n",
       ".output_html .ge { font-style: italic } /* Generic.Emph */\n",
       ".output_html .ges { font-weight: bold; font-style: italic } /* Generic.EmphStrong */\n",
       ".output_html .gr { color: #E40000 } /* Generic.Error */\n",
       ".output_html .gh { color: #000080; font-weight: bold } /* Generic.Heading */\n",
       ".output_html .gi { color: #008400 } /* Generic.Inserted */\n",
       ".output_html .go { color: #717171 } /* Generic.Output */\n",
       ".output_html .gp { color: #000080; font-weight: bold } /* Generic.Prompt */\n",
       ".output_html .gs { font-weight: bold } /* Generic.Strong */\n",
       ".output_html .gu { color: #800080; font-weight: bold } /* Generic.Subheading */\n",
       ".output_html .gt { color: #0044DD } /* Generic.Traceback */\n",
       ".output_html .kc { color: #008000; font-weight: bold } /* Keyword.Constant */\n",
       ".output_html .kd { color: #008000; font-weight: bold } /* Keyword.Declaration */\n",
       ".output_html .kn { color: #008000; font-weight: bold } /* Keyword.Namespace */\n",
       ".output_html .kp { color: #008000 } /* Keyword.Pseudo */\n",
       ".output_html .kr { color: #008000; font-weight: bold } /* Keyword.Reserved */\n",
       ".output_html .kt { color: #B00040 } /* Keyword.Type */\n",
       ".output_html .m { color: #666666 } /* Literal.Number */\n",
       ".output_html .s { color: #BA2121 } /* Literal.String */\n",
       ".output_html .na { color: #687822 } /* Name.Attribute */\n",
       ".output_html .nb { color: #008000 } /* Name.Builtin */\n",
       ".output_html .nc { color: #0000FF; font-weight: bold } /* Name.Class */\n",
       ".output_html .no { color: #880000 } /* Name.Constant */\n",
       ".output_html .nd { color: #AA22FF } /* Name.Decorator */\n",
       ".output_html .ni { color: #717171; font-weight: bold } /* Name.Entity */\n",
       ".output_html .ne { color: #CB3F38; font-weight: bold } /* Name.Exception */\n",
       ".output_html .nf { color: #0000FF } /* Name.Function */\n",
       ".output_html .nl { color: #767600 } /* Name.Label */\n",
       ".output_html .nn { color: #0000FF; font-weight: bold } /* Name.Namespace */\n",
       ".output_html .nt { color: #008000; font-weight: bold } /* Name.Tag */\n",
       ".output_html .nv { color: #19177C } /* Name.Variable */\n",
       ".output_html .ow { color: #AA22FF; font-weight: bold } /* Operator.Word */\n",
       ".output_html .w { color: #bbbbbb } /* Text.Whitespace */\n",
       ".output_html .mb { color: #666666 } /* Literal.Number.Bin */\n",
       ".output_html .mf { color: #666666 } /* Literal.Number.Float */\n",
       ".output_html .mh { color: #666666 } /* Literal.Number.Hex */\n",
       ".output_html .mi { color: #666666 } /* Literal.Number.Integer */\n",
       ".output_html .mo { color: #666666 } /* Literal.Number.Oct */\n",
       ".output_html .sa { color: #BA2121 } /* Literal.String.Affix */\n",
       ".output_html .sb { color: #BA2121 } /* Literal.String.Backtick */\n",
       ".output_html .sc { color: #BA2121 } /* Literal.String.Char */\n",
       ".output_html .dl { color: #BA2121 } /* Literal.String.Delimiter */\n",
       ".output_html .sd { color: #BA2121; font-style: italic } /* Literal.String.Doc */\n",
       ".output_html .s2 { color: #BA2121 } /* Literal.String.Double */\n",
       ".output_html .se { color: #AA5D1F; font-weight: bold } /* Literal.String.Escape */\n",
       ".output_html .sh { color: #BA2121 } /* Literal.String.Heredoc */\n",
       ".output_html .si { color: #A45A77; font-weight: bold } /* Literal.String.Interpol */\n",
       ".output_html .sx { color: #008000 } /* Literal.String.Other */\n",
       ".output_html .sr { color: #A45A77 } /* Literal.String.Regex */\n",
       ".output_html .s1 { color: #BA2121 } /* Literal.String.Single */\n",
       ".output_html .ss { color: #19177C } /* Literal.String.Symbol */\n",
       ".output_html .bp { color: #008000 } /* Name.Builtin.Pseudo */\n",
       ".output_html .fm { color: #0000FF } /* Name.Function.Magic */\n",
       ".output_html .vc { color: #19177C } /* Name.Variable.Class */\n",
       ".output_html .vg { color: #19177C } /* Name.Variable.Global */\n",
       ".output_html .vi { color: #19177C } /* Name.Variable.Instance */\n",
       ".output_html .vm { color: #19177C } /* Name.Variable.Magic */\n",
       ".output_html .il { color: #666666 } /* Literal.Number.Integer.Long */</style><div class=\"highlight\"><pre><span></span><span class=\"kn\">import</span> <span class=\"nn\">random</span>\n",
       "<span class=\"kn\">from</span> <span class=\"nn\">problem</span> <span class=\"kn\">import</span> <span class=\"n\">Problem</span>\n",
       "\n",
       "<span class=\"k\">class</span> <span class=\"nc\">CombinationProblem</span><span class=\"p\">(</span><span class=\"n\">Problem</span><span class=\"p\">):</span>\n",
       "<span class=\"w\">    </span><span class=\"sd\">&quot;&quot;&quot;</span>\n",
       "<span class=\"sd\">    Class to create simple combination lock problems</span>\n",
       "<span class=\"sd\">    and report whether a guess opens the lock</span>\n",
       "<span class=\"sd\">    &quot;&quot;&quot;</span>\n",
       "\n",
       "    <span class=\"k\">def</span> <span class=\"fm\">__init__</span><span class=\"p\">(</span><span class=\"bp\">self</span><span class=\"p\">,</span> <span class=\"n\">tumblers</span><span class=\"p\">:</span> <span class=\"nb\">int</span> <span class=\"o\">=</span> <span class=\"mi\">4</span><span class=\"p\">,</span> <span class=\"n\">num_options</span><span class=\"p\">:</span> <span class=\"nb\">int</span> <span class=\"o\">=</span> <span class=\"mi\">10</span><span class=\"p\">):</span>\n",
       "<span class=\"w\">        </span><span class=\"sd\">&quot;&quot;&quot;Create a new instance with a random solution</span>\n",
       "<span class=\"sd\">        Parameters</span>\n",
       "<span class=\"sd\">        ----------</span>\n",
       "<span class=\"sd\">        tumblers:int</span>\n",
       "<span class=\"sd\">           number of tumblers</span>\n",
       "<span class=\"sd\">           default 4</span>\n",
       "<span class=\"sd\">        num_options:int</span>\n",
       "<span class=\"sd\">           number of possible values (positions) for each tumbler</span>\n",
       "<span class=\"sd\">           this version assumes they are a consecutive integers from 1 to num_options</span>\n",
       "<span class=\"sd\">           default 10</span>\n",
       "<span class=\"sd\">        &quot;&quot;&quot;</span>\n",
       "\n",
       "        <span class=\"bp\">self</span><span class=\"o\">.</span><span class=\"n\">numdecisions</span> <span class=\"o\">=</span> <span class=\"n\">tumblers</span>  <span class=\"c1\"># number of tumblers</span>\n",
       "        <span class=\"c1\"># set the allowed values in each position</span>\n",
       "        <span class=\"bp\">self</span><span class=\"o\">.</span><span class=\"n\">value_set</span> <span class=\"o\">=</span> <span class=\"p\">[]</span>\n",
       "        <span class=\"k\">for</span> <span class=\"n\">val</span> <span class=\"ow\">in</span> <span class=\"nb\">range</span><span class=\"p\">(</span><span class=\"mi\">1</span><span class=\"p\">,</span> <span class=\"n\">num_options</span> <span class=\"o\">+</span> <span class=\"mi\">1</span><span class=\"p\">):</span>\n",
       "            <span class=\"bp\">self</span><span class=\"o\">.</span><span class=\"n\">value_set</span><span class=\"o\">.</span><span class=\"n\">append</span><span class=\"p\">(</span><span class=\"n\">val</span><span class=\"p\">)</span>\n",
       "\n",
       "        <span class=\"c1\"># set  new random goal (unlock code)</span>\n",
       "        <span class=\"bp\">self</span><span class=\"o\">.</span><span class=\"n\">goal</span> <span class=\"o\">=</span> <span class=\"p\">[]</span>\n",
       "        <span class=\"k\">for</span> <span class=\"n\">position</span> <span class=\"ow\">in</span> <span class=\"nb\">range</span><span class=\"p\">(</span><span class=\"n\">tumblers</span><span class=\"p\">):</span>\n",
       "            <span class=\"n\">new_random_val</span> <span class=\"o\">=</span> <span class=\"n\">random</span><span class=\"o\">.</span><span class=\"n\">choice</span><span class=\"p\">(</span><span class=\"bp\">self</span><span class=\"o\">.</span><span class=\"n\">value_set</span><span class=\"p\">)</span>\n",
       "            <span class=\"bp\">self</span><span class=\"o\">.</span><span class=\"n\">goal</span><span class=\"o\">.</span><span class=\"n\">append</span><span class=\"p\">(</span><span class=\"n\">new_random_val</span><span class=\"p\">)</span>\n",
       "\n",
       "    <span class=\"k\">def</span> <span class=\"nf\">get_goal</span><span class=\"p\">(</span><span class=\"bp\">self</span><span class=\"p\">)</span> <span class=\"o\">-&gt;</span> <span class=\"nb\">list</span><span class=\"p\">:</span>\n",
       "<span class=\"w\">        </span><span class=\"sd\">&quot;&quot;&quot;helper function -prints  target combinbation to screen&quot;&quot;&quot;</span>\n",
       "        <span class=\"k\">return</span> <span class=\"bp\">self</span><span class=\"o\">.</span><span class=\"n\">goal</span>\n",
       "    \n",
       "    <span class=\"k\">def</span> <span class=\"nf\">set_goal</span><span class=\"p\">(</span><span class=\"bp\">self</span><span class=\"p\">,</span><span class=\"n\">newgoal</span><span class=\"p\">:</span><span class=\"nb\">list</span><span class=\"p\">):</span>\n",
       "        <span class=\"k\">if</span> <span class=\"nb\">len</span><span class=\"p\">(</span><span class=\"n\">newgoal</span><span class=\"p\">)</span> <span class=\"o\">!=</span> <span class=\"bp\">self</span><span class=\"o\">.</span><span class=\"n\">numdecisions</span><span class=\"p\">:</span>\n",
       "            <span class=\"k\">raise</span> <span class=\"ne\">ValueError</span><span class=\"p\">(</span><span class=\"s1\">&#39;newgoal has the wrong length&#39;</span><span class=\"p\">)</span>\n",
       "        <span class=\"k\">else</span><span class=\"p\">:</span>\n",
       "            <span class=\"k\">for</span> <span class=\"n\">pos</span><span class=\"p\">,</span><span class=\"n\">val</span> <span class=\"ow\">in</span> <span class=\"nb\">enumerate</span><span class=\"p\">(</span><span class=\"n\">newgoal</span><span class=\"p\">):</span>\n",
       "                <span class=\"bp\">self</span><span class=\"o\">.</span><span class=\"n\">goal</span><span class=\"p\">[</span><span class=\"n\">pos</span><span class=\"p\">]</span><span class=\"o\">=</span><span class=\"n\">val</span>\n",
       "\n",
       "    <span class=\"k\">def</span> <span class=\"nf\">evaluate</span><span class=\"p\">(</span><span class=\"bp\">self</span><span class=\"p\">,</span> <span class=\"n\">attempt</span><span class=\"p\">:</span> <span class=\"nb\">list</span><span class=\"p\">)</span> <span class=\"o\">-&gt;</span> <span class=\"nb\">int</span><span class=\"p\">:</span>\n",
       "<span class=\"w\">        </span><span class=\"sd\">&quot;&quot;&quot;</span>\n",
       "<span class=\"sd\">        Tests whether a provided attempt matches the combination</span>\n",
       "<span class=\"sd\">        Parameters</span>\n",
       "<span class=\"sd\">        ----------</span>\n",
       "<span class=\"sd\">        attempt: list</span>\n",
       "<span class=\"sd\">            list of values that define a proposed solution</span>\n",
       "<span class=\"sd\">        Returns</span>\n",
       "<span class=\"sd\">        ---------</span>\n",
       "<span class=\"sd\">        int</span>\n",
       "<span class=\"sd\">            quality</span>\n",
       "<span class=\"sd\">            -1 means  attempt is invalid, (e.g. too few or wrong values)</span>\n",
       "<span class=\"sd\">            0 means valid but incorrect,</span>\n",
       "<span class=\"sd\">            1 means correct</span>\n",
       "<span class=\"sd\">        Raises</span>\n",
       "<span class=\"sd\">        ------</span>\n",
       "<span class=\"sd\">        ValueError with reason why solution is invalid</span>\n",
       "<span class=\"sd\">        &quot;&quot;&quot;</span>\n",
       "        <span class=\"c1\">#  how long is the solution?</span>\n",
       "        <span class=\"n\">N</span> <span class=\"o\">=</span> <span class=\"nb\">len</span><span class=\"p\">(</span><span class=\"n\">attempt</span><span class=\"p\">)</span>\n",
       "        <span class=\"k\">if</span> <span class=\"n\">N</span> <span class=\"ow\">is</span> <span class=\"ow\">not</span> <span class=\"bp\">self</span><span class=\"o\">.</span><span class=\"n\">numdecisions</span><span class=\"p\">:</span>\n",
       "            <span class=\"k\">raise</span> <span class=\"ne\">ValueError</span><span class=\"p\">(</span> <span class=\"s2\">&quot;Error:attempt is wrong length&quot;</span><span class=\"p\">)</span>\n",
       "\n",
       "        <span class=\"c1\"># is the solution made up of valid choices?</span>\n",
       "        <span class=\"k\">for</span> <span class=\"n\">pos</span> <span class=\"ow\">in</span> <span class=\"nb\">range</span><span class=\"p\">(</span><span class=\"n\">N</span><span class=\"p\">):</span>\n",
       "            <span class=\"k\">if</span> <span class=\"n\">attempt</span><span class=\"p\">[</span><span class=\"n\">pos</span><span class=\"p\">]</span> <span class=\"ow\">not</span> <span class=\"ow\">in</span> <span class=\"bp\">self</span><span class=\"o\">.</span><span class=\"n\">value_set</span><span class=\"p\">:</span>\n",
       "                <span class=\"k\">raise</span> <span class=\"ne\">ValueError</span><span class=\"p\">(</span> <span class=\"s2\">&quot;Error: invalid value found in solution&quot;</span><span class=\"p\">)</span>\n",
       "\n",
       "        <span class=\"c1\"># have we found the right combination?</span>\n",
       "        <span class=\"k\">if</span> <span class=\"n\">attempt</span> <span class=\"o\">==</span> <span class=\"bp\">self</span><span class=\"o\">.</span><span class=\"n\">goal</span><span class=\"p\">:</span>\n",
       "            <span class=\"k\">return</span> <span class=\"mi\">1</span>\n",
       "        <span class=\"k\">else</span><span class=\"p\">:</span>\n",
       "            <span class=\"k\">return</span> <span class=\"mi\">0</span>\n",
       "        \n",
       "        \n",
       "    <span class=\"k\">def</span> <span class=\"nf\">display</span><span class=\"p\">(</span><span class=\"bp\">self</span><span class=\"p\">,</span> <span class=\"n\">guess</span><span class=\"p\">:</span> <span class=\"nb\">list</span><span class=\"p\">):</span>\n",
       "<span class=\"w\">        </span><span class=\"sd\">&quot;&quot;&quot;Displays a guess at the combination</span>\n",
       "<span class=\"sd\">        simple print as guess does not need any decoding.</span>\n",
       "\n",
       "<span class=\"sd\">        Parameters</span>\n",
       "<span class=\"sd\">        ----------</span>\n",
       "<span class=\"sd\">        attempt : candidateSolution</span>\n",
       "<span class=\"sd\">            object whose variable values are to be displayed</span>\n",
       "<span class=\"sd\">        &quot;&quot;&quot;</span>\n",
       "        <span class=\"nb\">print</span><span class=\"p\">(</span><span class=\"n\">guess</span><span class=\"p\">)</span>\n",
       "</pre></div>\n"
      ],
      "text/latex": [
       "\\begin{Verbatim}[commandchars=\\\\\\{\\}]\n",
       "\\PY{k+kn}{import} \\PY{n+nn}{random}\n",
       "\\PY{k+kn}{from} \\PY{n+nn}{problem} \\PY{k+kn}{import} \\PY{n}{Problem}\n",
       "\n",
       "\\PY{k}{class} \\PY{n+nc}{CombinationProblem}\\PY{p}{(}\\PY{n}{Problem}\\PY{p}{)}\\PY{p}{:}\n",
       "\\PY{+w}{    }\\PY{l+s+sd}{\\PYZdq{}\\PYZdq{}\\PYZdq{}}\n",
       "\\PY{l+s+sd}{    Class to create simple combination lock problems}\n",
       "\\PY{l+s+sd}{    and report whether a guess opens the lock}\n",
       "\\PY{l+s+sd}{    \\PYZdq{}\\PYZdq{}\\PYZdq{}}\n",
       "\n",
       "    \\PY{k}{def} \\PY{n+nf+fm}{\\PYZus{}\\PYZus{}init\\PYZus{}\\PYZus{}}\\PY{p}{(}\\PY{n+nb+bp}{self}\\PY{p}{,} \\PY{n}{tumblers}\\PY{p}{:} \\PY{n+nb}{int} \\PY{o}{=} \\PY{l+m+mi}{4}\\PY{p}{,} \\PY{n}{num\\PYZus{}options}\\PY{p}{:} \\PY{n+nb}{int} \\PY{o}{=} \\PY{l+m+mi}{10}\\PY{p}{)}\\PY{p}{:}\n",
       "\\PY{+w}{        }\\PY{l+s+sd}{\\PYZdq{}\\PYZdq{}\\PYZdq{}Create a new instance with a random solution}\n",
       "\\PY{l+s+sd}{        Parameters}\n",
       "\\PY{l+s+sd}{        \\PYZhy{}\\PYZhy{}\\PYZhy{}\\PYZhy{}\\PYZhy{}\\PYZhy{}\\PYZhy{}\\PYZhy{}\\PYZhy{}\\PYZhy{}}\n",
       "\\PY{l+s+sd}{        tumblers:int}\n",
       "\\PY{l+s+sd}{           number of tumblers}\n",
       "\\PY{l+s+sd}{           default 4}\n",
       "\\PY{l+s+sd}{        num\\PYZus{}options:int}\n",
       "\\PY{l+s+sd}{           number of possible values (positions) for each tumbler}\n",
       "\\PY{l+s+sd}{           this version assumes they are a consecutive integers from 1 to num\\PYZus{}options}\n",
       "\\PY{l+s+sd}{           default 10}\n",
       "\\PY{l+s+sd}{        \\PYZdq{}\\PYZdq{}\\PYZdq{}}\n",
       "\n",
       "        \\PY{n+nb+bp}{self}\\PY{o}{.}\\PY{n}{numdecisions} \\PY{o}{=} \\PY{n}{tumblers}  \\PY{c+c1}{\\PYZsh{} number of tumblers}\n",
       "        \\PY{c+c1}{\\PYZsh{} set the allowed values in each position}\n",
       "        \\PY{n+nb+bp}{self}\\PY{o}{.}\\PY{n}{value\\PYZus{}set} \\PY{o}{=} \\PY{p}{[}\\PY{p}{]}\n",
       "        \\PY{k}{for} \\PY{n}{val} \\PY{o+ow}{in} \\PY{n+nb}{range}\\PY{p}{(}\\PY{l+m+mi}{1}\\PY{p}{,} \\PY{n}{num\\PYZus{}options} \\PY{o}{+} \\PY{l+m+mi}{1}\\PY{p}{)}\\PY{p}{:}\n",
       "            \\PY{n+nb+bp}{self}\\PY{o}{.}\\PY{n}{value\\PYZus{}set}\\PY{o}{.}\\PY{n}{append}\\PY{p}{(}\\PY{n}{val}\\PY{p}{)}\n",
       "\n",
       "        \\PY{c+c1}{\\PYZsh{} set  new random goal (unlock code)}\n",
       "        \\PY{n+nb+bp}{self}\\PY{o}{.}\\PY{n}{goal} \\PY{o}{=} \\PY{p}{[}\\PY{p}{]}\n",
       "        \\PY{k}{for} \\PY{n}{position} \\PY{o+ow}{in} \\PY{n+nb}{range}\\PY{p}{(}\\PY{n}{tumblers}\\PY{p}{)}\\PY{p}{:}\n",
       "            \\PY{n}{new\\PYZus{}random\\PYZus{}val} \\PY{o}{=} \\PY{n}{random}\\PY{o}{.}\\PY{n}{choice}\\PY{p}{(}\\PY{n+nb+bp}{self}\\PY{o}{.}\\PY{n}{value\\PYZus{}set}\\PY{p}{)}\n",
       "            \\PY{n+nb+bp}{self}\\PY{o}{.}\\PY{n}{goal}\\PY{o}{.}\\PY{n}{append}\\PY{p}{(}\\PY{n}{new\\PYZus{}random\\PYZus{}val}\\PY{p}{)}\n",
       "\n",
       "    \\PY{k}{def} \\PY{n+nf}{get\\PYZus{}goal}\\PY{p}{(}\\PY{n+nb+bp}{self}\\PY{p}{)} \\PY{o}{\\PYZhy{}}\\PY{o}{\\PYZgt{}} \\PY{n+nb}{list}\\PY{p}{:}\n",
       "\\PY{+w}{        }\\PY{l+s+sd}{\\PYZdq{}\\PYZdq{}\\PYZdq{}helper function \\PYZhy{}prints  target combinbation to screen\\PYZdq{}\\PYZdq{}\\PYZdq{}}\n",
       "        \\PY{k}{return} \\PY{n+nb+bp}{self}\\PY{o}{.}\\PY{n}{goal}\n",
       "    \n",
       "    \\PY{k}{def} \\PY{n+nf}{set\\PYZus{}goal}\\PY{p}{(}\\PY{n+nb+bp}{self}\\PY{p}{,}\\PY{n}{newgoal}\\PY{p}{:}\\PY{n+nb}{list}\\PY{p}{)}\\PY{p}{:}\n",
       "        \\PY{k}{if} \\PY{n+nb}{len}\\PY{p}{(}\\PY{n}{newgoal}\\PY{p}{)} \\PY{o}{!=} \\PY{n+nb+bp}{self}\\PY{o}{.}\\PY{n}{numdecisions}\\PY{p}{:}\n",
       "            \\PY{k}{raise} \\PY{n+ne}{ValueError}\\PY{p}{(}\\PY{l+s+s1}{\\PYZsq{}}\\PY{l+s+s1}{newgoal has the wrong length}\\PY{l+s+s1}{\\PYZsq{}}\\PY{p}{)}\n",
       "        \\PY{k}{else}\\PY{p}{:}\n",
       "            \\PY{k}{for} \\PY{n}{pos}\\PY{p}{,}\\PY{n}{val} \\PY{o+ow}{in} \\PY{n+nb}{enumerate}\\PY{p}{(}\\PY{n}{newgoal}\\PY{p}{)}\\PY{p}{:}\n",
       "                \\PY{n+nb+bp}{self}\\PY{o}{.}\\PY{n}{goal}\\PY{p}{[}\\PY{n}{pos}\\PY{p}{]}\\PY{o}{=}\\PY{n}{val}\n",
       "\n",
       "    \\PY{k}{def} \\PY{n+nf}{evaluate}\\PY{p}{(}\\PY{n+nb+bp}{self}\\PY{p}{,} \\PY{n}{attempt}\\PY{p}{:} \\PY{n+nb}{list}\\PY{p}{)} \\PY{o}{\\PYZhy{}}\\PY{o}{\\PYZgt{}} \\PY{n+nb}{int}\\PY{p}{:}\n",
       "\\PY{+w}{        }\\PY{l+s+sd}{\\PYZdq{}\\PYZdq{}\\PYZdq{}}\n",
       "\\PY{l+s+sd}{        Tests whether a provided attempt matches the combination}\n",
       "\\PY{l+s+sd}{        Parameters}\n",
       "\\PY{l+s+sd}{        \\PYZhy{}\\PYZhy{}\\PYZhy{}\\PYZhy{}\\PYZhy{}\\PYZhy{}\\PYZhy{}\\PYZhy{}\\PYZhy{}\\PYZhy{}}\n",
       "\\PY{l+s+sd}{        attempt: list}\n",
       "\\PY{l+s+sd}{            list of values that define a proposed solution}\n",
       "\\PY{l+s+sd}{        Returns}\n",
       "\\PY{l+s+sd}{        \\PYZhy{}\\PYZhy{}\\PYZhy{}\\PYZhy{}\\PYZhy{}\\PYZhy{}\\PYZhy{}\\PYZhy{}\\PYZhy{}}\n",
       "\\PY{l+s+sd}{        int}\n",
       "\\PY{l+s+sd}{            quality}\n",
       "\\PY{l+s+sd}{            \\PYZhy{}1 means  attempt is invalid, (e.g. too few or wrong values)}\n",
       "\\PY{l+s+sd}{            0 means valid but incorrect,}\n",
       "\\PY{l+s+sd}{            1 means correct}\n",
       "\\PY{l+s+sd}{        Raises}\n",
       "\\PY{l+s+sd}{        \\PYZhy{}\\PYZhy{}\\PYZhy{}\\PYZhy{}\\PYZhy{}\\PYZhy{}}\n",
       "\\PY{l+s+sd}{        ValueError with reason why solution is invalid}\n",
       "\\PY{l+s+sd}{        \\PYZdq{}\\PYZdq{}\\PYZdq{}}\n",
       "        \\PY{c+c1}{\\PYZsh{}  how long is the solution?}\n",
       "        \\PY{n}{N} \\PY{o}{=} \\PY{n+nb}{len}\\PY{p}{(}\\PY{n}{attempt}\\PY{p}{)}\n",
       "        \\PY{k}{if} \\PY{n}{N} \\PY{o+ow}{is} \\PY{o+ow}{not} \\PY{n+nb+bp}{self}\\PY{o}{.}\\PY{n}{numdecisions}\\PY{p}{:}\n",
       "            \\PY{k}{raise} \\PY{n+ne}{ValueError}\\PY{p}{(} \\PY{l+s+s2}{\\PYZdq{}}\\PY{l+s+s2}{Error:attempt is wrong length}\\PY{l+s+s2}{\\PYZdq{}}\\PY{p}{)}\n",
       "\n",
       "        \\PY{c+c1}{\\PYZsh{} is the solution made up of valid choices?}\n",
       "        \\PY{k}{for} \\PY{n}{pos} \\PY{o+ow}{in} \\PY{n+nb}{range}\\PY{p}{(}\\PY{n}{N}\\PY{p}{)}\\PY{p}{:}\n",
       "            \\PY{k}{if} \\PY{n}{attempt}\\PY{p}{[}\\PY{n}{pos}\\PY{p}{]} \\PY{o+ow}{not} \\PY{o+ow}{in} \\PY{n+nb+bp}{self}\\PY{o}{.}\\PY{n}{value\\PYZus{}set}\\PY{p}{:}\n",
       "                \\PY{k}{raise} \\PY{n+ne}{ValueError}\\PY{p}{(} \\PY{l+s+s2}{\\PYZdq{}}\\PY{l+s+s2}{Error: invalid value found in solution}\\PY{l+s+s2}{\\PYZdq{}}\\PY{p}{)}\n",
       "\n",
       "        \\PY{c+c1}{\\PYZsh{} have we found the right combination?}\n",
       "        \\PY{k}{if} \\PY{n}{attempt} \\PY{o}{==} \\PY{n+nb+bp}{self}\\PY{o}{.}\\PY{n}{goal}\\PY{p}{:}\n",
       "            \\PY{k}{return} \\PY{l+m+mi}{1}\n",
       "        \\PY{k}{else}\\PY{p}{:}\n",
       "            \\PY{k}{return} \\PY{l+m+mi}{0}\n",
       "        \n",
       "        \n",
       "    \\PY{k}{def} \\PY{n+nf}{display}\\PY{p}{(}\\PY{n+nb+bp}{self}\\PY{p}{,} \\PY{n}{guess}\\PY{p}{:} \\PY{n+nb}{list}\\PY{p}{)}\\PY{p}{:}\n",
       "\\PY{+w}{        }\\PY{l+s+sd}{\\PYZdq{}\\PYZdq{}\\PYZdq{}Displays a guess at the combination}\n",
       "\\PY{l+s+sd}{        simple print as guess does not need any decoding.}\n",
       "\n",
       "\\PY{l+s+sd}{        Parameters}\n",
       "\\PY{l+s+sd}{        \\PYZhy{}\\PYZhy{}\\PYZhy{}\\PYZhy{}\\PYZhy{}\\PYZhy{}\\PYZhy{}\\PYZhy{}\\PYZhy{}\\PYZhy{}}\n",
       "\\PY{l+s+sd}{        attempt : candidateSolution}\n",
       "\\PY{l+s+sd}{            object whose variable values are to be displayed}\n",
       "\\PY{l+s+sd}{        \\PYZdq{}\\PYZdq{}\\PYZdq{}}\n",
       "        \\PY{n+nb}{print}\\PY{p}{(}\\PY{n}{guess}\\PY{p}{)}\n",
       "\\end{Verbatim}\n"
      ],
      "text/plain": [
       "import random\n",
       "from problem import Problem\n",
       "\n",
       "class CombinationProblem(Problem):\n",
       "    \"\"\"\n",
       "    Class to create simple combination lock problems\n",
       "    and report whether a guess opens the lock\n",
       "    \"\"\"\n",
       "\n",
       "    def __init__(self, tumblers: int = 4, num_options: int = 10):\n",
       "        \"\"\"Create a new instance with a random solution\n",
       "        Parameters\n",
       "        ----------\n",
       "        tumblers:int\n",
       "           number of tumblers\n",
       "           default 4\n",
       "        num_options:int\n",
       "           number of possible values (positions) for each tumbler\n",
       "           this version assumes they are a consecutive integers from 1 to num_options\n",
       "           default 10\n",
       "        \"\"\"\n",
       "\n",
       "        self.numdecisions = tumblers  # number of tumblers\n",
       "        # set the allowed values in each position\n",
       "        self.value_set = []\n",
       "        for val in range(1, num_options + 1):\n",
       "            self.value_set.append(val)\n",
       "\n",
       "        # set  new random goal (unlock code)\n",
       "        self.goal = []\n",
       "        for position in range(tumblers):\n",
       "            new_random_val = random.choice(self.value_set)\n",
       "            self.goal.append(new_random_val)\n",
       "\n",
       "    def get_goal(self) -> list:\n",
       "        \"\"\"helper function -prints  target combinbation to screen\"\"\"\n",
       "        return self.goal\n",
       "    \n",
       "    def set_goal(self,newgoal:list):\n",
       "        if len(newgoal) != self.numdecisions:\n",
       "            raise ValueError('newgoal has the wrong length')\n",
       "        else:\n",
       "            for pos,val in enumerate(newgoal):\n",
       "                self.goal[pos]=val\n",
       "\n",
       "    def evaluate(self, attempt: list) -> int:\n",
       "        \"\"\"\n",
       "        Tests whether a provided attempt matches the combination\n",
       "        Parameters\n",
       "        ----------\n",
       "        attempt: list\n",
       "            list of values that define a proposed solution\n",
       "        Returns\n",
       "        ---------\n",
       "        int\n",
       "            quality\n",
       "            -1 means  attempt is invalid, (e.g. too few or wrong values)\n",
       "            0 means valid but incorrect,\n",
       "            1 means correct\n",
       "        Raises\n",
       "        ------\n",
       "        ValueError with reason why solution is invalid\n",
       "        \"\"\"\n",
       "        #  how long is the solution?\n",
       "        N = len(attempt)\n",
       "        if N is not self.numdecisions:\n",
       "            raise ValueError( \"Error:attempt is wrong length\")\n",
       "\n",
       "        # is the solution made up of valid choices?\n",
       "        for pos in range(N):\n",
       "            if attempt[pos] not in self.value_set:\n",
       "                raise ValueError( \"Error: invalid value found in solution\")\n",
       "\n",
       "        # have we found the right combination?\n",
       "        if attempt == self.goal:\n",
       "            return 1\n",
       "        else:\n",
       "            return 0\n",
       "        \n",
       "        \n",
       "    def display(self, guess: list):\n",
       "        \"\"\"Displays a guess at the combination\n",
       "        simple print as guess does not need any decoding.\n",
       "\n",
       "        Parameters\n",
       "        ----------\n",
       "        attempt : candidateSolution\n",
       "            object whose variable values are to be displayed\n",
       "        \"\"\"\n",
       "        print(guess)"
      ]
     },
     "execution_count": 6,
     "metadata": {},
     "output_type": "execute_result"
    }
   ],
   "source": [
    "Code(filename='../common/combinationproblem.py', language='python')"
   ]
  },
  {
   "cell_type": "markdown",
   "metadata": {},
   "source": [
    "The next two code cell shows you how to use these classes and test a solution - including tests for unsuitable inputs.  \n",
    "**Run the two cells below to import and then use the classes**\n",
    "- the first cell makes your python interpreter  aware of (import) the classes. It should not produce an output.\n",
    "- the second cell  uses the classes. It should produce some outputs.  \n",
    "  Make sure you understand why some lines get printed and some don't."
   ]
  },
  {
   "cell_type": "code",
   "execution_count": 7,
   "metadata": {},
   "outputs": [],
   "source": [
    "from candidatesolution import CandidateSolution\n",
    "from problem import Problem\n",
    "from combinationproblem import CombinationProblem"
   ]
  },
  {
   "cell_type": "code",
   "execution_count": 8,
   "metadata": {
    "tags": []
   },
   "outputs": [
    {
     "name": "stdout",
     "output_type": "stream",
     "text": [
      "Made new combination lock with goal [4, 6, 8, 10]\n",
      "Trying guess [1, 2, 3]:\n",
      "Error:attempt is wrong length\n",
      "Score was: no score returned\n",
      "\n",
      "Trying guess [1, 2, 3, 'a']:\n",
      "Error: invalid value found in solution\n",
      "Score was: no score returned\n",
      "\n",
      "Trying guess [1, 2, 3, 4]:\n",
      "Score was: 0\n",
      "\n"
     ]
    }
   ],
   "source": [
    "# Create a new lock problem \n",
    "my_lock = CombinationProblem(tumblers=4, num_options=10)\n",
    "print(f'Made new combination lock with goal {my_lock.get_goal()}')\n",
    "# Create an empty candidate solution\n",
    "my_attempt = CandidateSolution()\n",
    "\n",
    "# Create a variable to hold the result\n",
    "result = \"no score returned\"\n",
    "\n",
    "# Try some guesses\n",
    "# First two are not valid and the last one is correct\n",
    "my_guesses= [\n",
    "    [1,2,3],\n",
    "    [1,2,3,'a'],\n",
    "    [1,2,3,4]\n",
    "]\n",
    "\n",
    "for guess in my_guesses:\n",
    "    try:\n",
    "        print(f'Trying guess {guess}:')\n",
    "\n",
    "        # Create a guess by setting the variable values in the candidate solution\n",
    "        my_attempt.variable_values = guess\n",
    "\n",
    "        # Evaluate the guess by calling the evaluate method of the lock\n",
    "        result = my_lock.evaluate(my_attempt.variable_values)\n",
    "\n",
    "    except ValueError as e:\n",
    "        print(e)\n",
    "    print(f'Score was: {result}\\n')"
   ]
  },
  {
   "cell_type": "markdown",
   "metadata": {},
   "source": [
    "<div class=\"alert alert-block alert-info\" style=\"color:black\"><h2>Activity 1: Implement a simple brute-force algorithm to solve a combination lock puzzle</h2>\n",
    "    <h3><b>40 marks</b> for correct implementation that passes a copy of the test below on the marking server</h3>\n",
    "    To complete this activity you need to implement the `exhaustive_search_4tumblers` method in the cell below.<br>\n",
    "    <ul>\n",
    "    <li>The puzzle will have 4 digits so you can hard-code the number of loops.</li>\n",
    "    <li><b>Don't over-think this</b>: my 'reference version' only adds ~10 lines of code to the skeleton code.</li>\n",
    "    <li>Before submitting run the second code cell below to test your algorithm.</li>\n",
    "    <li><b>DO NOT PUT ANY CODE OUTSIDE THE PLACES INDICATED.</b></li>\n",
    "    <br><b>How to get started:</b> Your code should:\n",
    "    <ol>\n",
    "        <li> Take as a parameter a new puzzle instance with 4 tumblers.</li>\n",
    "        <li> One-by-one, for every possible combination:\n",
    "            <ul> \n",
    "                <li> Write the new combination into <code>my_attempt.variable_values</code></li>\n",
    "                <li> Test if that is the correct solution by calling<br> \n",
    "                    <code>result=puzzle.evaluate(my_attempt.variable_values)</code> and using <code>try...except</code> exception handling</li>\n",
    "                <li>Stop and return the correct answer as soon as you have found the right solution (result=1)</li>\n",
    "            </ul>\n",
    "        </li>\n",
    "    </ol>\n",
    "</div>"
   ]
  },
  {
   "cell_type": "markdown",
   "metadata": {},
   "source": [
    "<div class=\"alert alert-block alert-success\" style=\"color:black\"><b>Hints:</b> \n",
    "    <ul>\n",
    "        <li>It's easiest to do this with four nested for loops (but other methods might be easier to adapt to different situations).</li>\n",
    "        <li>Each loop runs over all the possible values a tumbler can have.</li>\n",
    "        <li> It makes your code more reusable if you do this using <code>for loop_var in (puzzle.value_set)</code> where you use a different variable name for each loop.</li>   \n",
    "        <li>If your 4 loop variables are called digit1, digit2, digit3, digit4 then you can set <code>attempt.variable_values = [digit1, digit2, digit3, digit4]</code></li>\n",
    "        <li>Remember to wrap any calls to evaluate() in a try except block as illustrated in the cell below.</li>\n",
    "    </ul>\n",
    "</div>"
   ]
  },
  {
   "cell_type": "markdown",
   "metadata": {},
   "source": [
    "<div class=\"alert alert-block alert-danger\" style=\"color:black\">\n",
    "    Remember this is a two-stage process: <ol>\n",
    "        <li>Edit then run the first  cell to save your implementation to  file.<br> This is one of the files you will upload to the marking server when you have finished the notebook.</li>\n",
    "        <li>Run the second cell to load your implementation into the notebook and test it.</li>\n",
    "    </ol> </div>\n",
    "\n",
    "**Write your code where indicated in the cell below, then run it to save your code to file**"
   ]
  },
  {
   "cell_type": "code",
   "execution_count": 9,
   "metadata": {
    "tags": []
   },
   "outputs": [
    {
     "name": "stdout",
     "output_type": "stream",
     "text": [
      "Overwriting studentcode/student_wb1.py\n"
     ]
    }
   ],
   "source": [
    "%%writefile  'studentcode/student_wb1.py'\n",
    "from approvedimports import *\n",
    "\n",
    "def exhaustive_search_4tumblers(puzzle: CombinationProblem) -> list:\n",
    "    \"\"\"simple brute-force search method that tries every combination until\n",
    "    it finds the answer to a 4-digit combination lock puzzle.\n",
    "    \"\"\"\n",
    "\n",
    "    # check that the lock has the expected number of digits\n",
    "    assert puzzle.numdecisions == 4, \"this code only works for 4 digits\"\n",
    "\n",
    "    # create an empty candidate solution\n",
    "    my_attempt = CandidateSolution()\n",
    "    \n",
    "    # ====> insert your code below here\n",
    "    my_attempt.variable_values = []\n",
    "    for i in puzzle.value_set:\n",
    "        for j in puzzle.value_set:\n",
    "            for k in puzzle.value_set:\n",
    "                for l in puzzle.value_set:\n",
    "                    my_attempt.variable_values = [i, j, k, l]\n",
    "                    try:\n",
    "                        result = puzzle.evaluate(my_attempt.variable_values)\n",
    "                        if result:                        \n",
    "                            return my_attempt.variable_values\n",
    "                    except ValueError as e:\n",
    "                        print(e)\n",
    "\n",
    "    # <==== insert your code above here\n",
    "    \n",
    "    # should never get here\n",
    "    return [-1, -1, -1, -1]"
   ]
  },
  {
   "cell_type": "markdown",
   "metadata": {},
   "source": [
    "**Run the code cell below to load and test your code.** It should output messages and feedback.\n",
    "\n",
    "There are three parts:\n",
    "1. Importing the function you wrote\n",
    "2. A function that gets called (with lots of try_excepts to report on bugs).\n",
    "3. Running a set of test cases using your code: \n",
    "    - one random valid one\n",
    "    - and some to catch \"edge-cases\" e.g. there are loops that might not be quite right\n"
   ]
  },
  {
   "cell_type": "code",
   "execution_count": 10,
   "metadata": {
    "tags": []
   },
   "outputs": [
    {
     "name": "stdout",
     "output_type": "stream",
     "text": [
      "Testing with a random target code:\n",
      "\tlooking for goal [10, 6, 8, 9]\n",
      "\tyour code correctly found the solution [10, 6, 8, 9]\n",
      "\n",
      "Now testing that your code uses the right set of possible values: [1, 2, 3, 4, 5, 6, 7, 8, 9, 10]\n",
      "\tlooking for goal [1, 1, 1, 1]\n",
      "\tyour code correctly found the solution [1, 1, 1, 1]\n",
      "\tlooking for goal [2, 2, 2, 2]\n",
      "\tyour code correctly found the solution [2, 2, 2, 2]\n",
      "\tlooking for goal [3, 3, 3, 3]\n",
      "\tyour code correctly found the solution [3, 3, 3, 3]\n",
      "\tlooking for goal [4, 4, 4, 4]\n",
      "\tyour code correctly found the solution [4, 4, 4, 4]\n",
      "\tlooking for goal [5, 5, 5, 5]\n",
      "\tyour code correctly found the solution [5, 5, 5, 5]\n",
      "\tlooking for goal [6, 6, 6, 6]\n",
      "\tyour code correctly found the solution [6, 6, 6, 6]\n",
      "\tlooking for goal [7, 7, 7, 7]\n",
      "\tyour code correctly found the solution [7, 7, 7, 7]\n",
      "\tlooking for goal [8, 8, 8, 8]\n",
      "\tyour code correctly found the solution [8, 8, 8, 8]\n",
      "\tlooking for goal [9, 9, 9, 9]\n",
      "\tyour code correctly found the solution [9, 9, 9, 9]\n",
      "\tlooking for goal [10, 10, 10, 10]\n",
      "\tyour code correctly found the solution [10, 10, 10, 10]\n"
     ]
    }
   ],
   "source": [
    "#1: Load your code\n",
    "if 'studentcode' not in path:\n",
    "    path.append('studentcode')\n",
    "import student_wb1 as student \n",
    "reload (student)\n",
    "\n",
    "# 2: the test function\n",
    "def test_exhaustive_search_4tumblers(target:list):\n",
    "    \"\"\"function to test implementation of exhaustive search\"\"\"\n",
    "\n",
    "    # create new puzzle\n",
    "    puzzle = CombinationProblem(tumblers=4, num_options=10)\n",
    "\n",
    "    # option to over-ride the random target \n",
    "    if len(target)==4:\n",
    "        puzzle.set_goal(target)\n",
    "\n",
    "    # call function to solve the puzzle\n",
    "    # wrap it in a try...except to help debug incorrect code\n",
    "    try:\n",
    "        print(f'\\tlooking for goal {puzzle.get_goal()}')\n",
    "        search_answer = student.exhaustive_search_4tumblers(puzzle)\n",
    "\n",
    "        if search_answer == puzzle.goal:\n",
    "            message = \"Well done\"\n",
    "        else:\n",
    "            message = (f\"Something went wrong: your code returned the answer {search_answer}\")\n",
    "            message += f\" but the real answer was {puzzle.goal}\"\n",
    "\n",
    "    except Exception as e:\n",
    "        message = \"Something went wrong with your code.\\n\"\n",
    "        message += \"Here is the stack trace which should let you find the error\\n\"\n",
    "        message += traceback.format_exc()\n",
    "\n",
    "    # assertion fails and prints the message if something went wrong\n",
    "    assert message == \"Well done\", message\n",
    "    print(f\"\\tyour code correctly found the solution {puzzle.goal}\")\n",
    "\n",
    "\n",
    "\n",
    "#3 Test your code\n",
    "#  Call the function for random target test case\n",
    "print('Testing with a random target code:')\n",
    "test_exhaustive_search_4tumblers(target=[])\n",
    "\n",
    "# Call the function to test the edge cases\n",
    "nextpuzzle = CombinationProblem()\n",
    "allowed = nextpuzzle.value_set\n",
    "\n",
    "print(f'\\nNow testing that your code uses the right set of possible values: {allowed}')\n",
    "for value in allowed:\n",
    "    mytarget = [value, value, value, value]\n",
    "    test_exhaustive_search_4tumblers(target=mytarget)"
   ]
  },
  {
   "cell_type": "markdown",
   "metadata": {},
   "source": [
    "<div style=\"background-color:black;width:100%;\"><br></div>\n",
    "\n",
    "# Part 2: Analysing your algorithm's behaviour as the complexity of the problem grows"
   ]
  },
  {
   "cell_type": "markdown",
   "metadata": {},
   "source": [
    "<div class=\"alert alert-block alert-info\" style=\"color:black\"><h2>Activity 2: Analysing your algorithm's effectiveness and efficiency</h2>\n",
    "    <h3><b>40 marks</b> - 5 marks each for the first six questions, 10 for the seventh</h3>\n",
    "     <ol>\n",
    "         <li> Run the next cell and answer the multiple-choice questions to check your understanding of your algorithm.</li>\n",
    "         <li> You will be asked similar questions when you submit your work for  automated marking.</li>\n",
    "    </ol>\n",
    "    <br><b>How to get started:</b>\n",
    "    Use a combination of learning skills to find out answers to the questions below:\n",
    "    <ol> \n",
    "        <li><b>active learning</b> : experiments,</li> \n",
    "        <li><b>theory learning</b> : your understanding based on reasoning,</li>\n",
    "        <li><b>reflective learning</b> : thinking about why answers might have been wrong,</li>\n",
    "        <li><b>pragmatic learning</b> : trial-and-error</li>\n",
    "    </ol>\n",
    "</div>"
   ]
  },
  {
   "cell_type": "markdown",
   "metadata": {},
   "source": [
    "<div class=\"alert alert-block alert-success\" style=\"color:black\"><b>Hints:</b>\n",
    "    <ul>\n",
    "        <li>It's often a good idea to check your understanding of how the method works <b> in theory</b> against <b>observations</b></li> \n",
    "        <li>So to check some of your answers you might want to add some print statements to your code.</li>\n",
    "        <li>Remember that the marking server wants to see your method working for 4 tumblers. So if you want to experiment with what happens if there are more or less tumblers, you'll need to add a new cell to the notebook and  make a copy of your function with a different name.</li>\n",
    "</div>"
   ]
  },
  {
   "cell_type": "code",
   "execution_count": null,
   "metadata": {
    "code_folding": [
     1
    ],
    "tags": []
   },
   "outputs": [
    {
     "name": "stdout",
     "output_type": "stream",
     "text": [
      "\n",
      "These first three questions check how your algorithm should run with the settings provided.\n",
      "\n"
     ]
    },
    {
     "data": {
      "application/vnd.jupyter.widget-view+json": {
       "model_id": "0b7b9db8ab024f498c6f4ba5bab09f82",
       "version_major": 2,
       "version_minor": 0
      },
      "text/plain": [
       "VBox(children=(Output(), RadioButtons(options=(('1', 0), ('4', 1), ('9', 2), ('1000', 3), ('5000', 4), ('10000…"
      ]
     },
     "metadata": {},
     "output_type": "display_data"
    },
    {
     "data": {
      "application/vnd.jupyter.widget-view+json": {
       "model_id": "938a070fe1ec4b739a39543c303e0642",
       "version_major": 2,
       "version_minor": 0
      },
      "text/plain": [
       "VBox(children=(Output(), RadioButtons(options=(('1', 0), ('4', 1), ('9', 2), ('1000', 3), ('5000', 4), ('10000…"
      ]
     },
     "metadata": {},
     "output_type": "display_data"
    },
    {
     "data": {
      "application/vnd.jupyter.widget-view+json": {
       "model_id": "9cfab3fae05f4e918d4ad5ba154e7994",
       "version_major": 2,
       "version_minor": 0
      },
      "text/plain": [
       "VBox(children=(Output(), RadioButtons(options=(('1', 0), ('4', 1), ('9', 2), ('1000', 3), ('5000', 4), ('10000…"
      ]
     },
     "metadata": {},
     "output_type": "display_data"
    },
    {
     "name": "stdout",
     "output_type": "stream",
     "text": [
      "\n",
      " The next questions ask you to think about how fast the search space grows as you change the puzzle definition.\n",
      "\n"
     ]
    },
    {
     "data": {
      "application/vnd.jupyter.widget-view+json": {
       "model_id": "8398a0cd3eeb46dabcf9d2da5ff2c20f",
       "version_major": 2,
       "version_minor": 0
      },
      "text/plain": [
       "VBox(children=(Output(), RadioButtons(options=(('1', 0), ('5', 1), ('100', 2), ('500', 3), ('312.5', 4), ('625…"
      ]
     },
     "metadata": {},
     "output_type": "display_data"
    },
    {
     "data": {
      "application/vnd.jupyter.widget-view+json": {
       "model_id": "189734f882924a4e89a35cd767be1677",
       "version_major": 2,
       "version_minor": 0
      },
      "text/plain": [
       "VBox(children=(Output(), RadioButtons(options=(('1000', 0), ('5000', 1), ('10000', 2), ('50000', 3)), value=0)…"
      ]
     },
     "metadata": {},
     "output_type": "display_data"
    },
    {
     "data": {
      "application/vnd.jupyter.widget-view+json": {
       "model_id": "75be2769a9fc41efaf8052110d865c9f",
       "version_major": 2,
       "version_minor": 0
      },
      "text/plain": [
       "VBox(children=(Output(), RadioButtons(options=(('1000', 0), ('5000', 1), ('10000', 2), ('80000', 3)), value=0)…"
      ]
     },
     "metadata": {},
     "output_type": "display_data"
    },
    {
     "data": {
      "application/vnd.jupyter.widget-view+json": {
       "model_id": "301e98f82c45415eb433a1ba6c3c2b3e",
       "version_major": 2,
       "version_minor": 0
      },
      "text/plain": [
       "VBox(children=(Output(), RadioButtons(options=((\"don't know\", 0), ('the number of tumblers', 1), ('the number …"
      ]
     },
     "metadata": {},
     "output_type": "display_data"
    }
   ],
   "source": [
    "print(\n",
    "    \"\\nThese first three questions check how your algorithm should run with the settings provided.\\n\"\n",
    ")\n",
    "display(workbook1_mcq1.Q1)\n",
    "display(workbook1_mcq1.Q2)\n",
    "display(workbook1_mcq1.Q3)\n",
    "\n",
    "print(\n",
    "    \"\\n The next questions ask you to think about how fast the search space grows as you change the puzzle definition.\\n\"\n",
    ")\n",
    "\n",
    "display(workbook1_mcq1.Q4)\n",
    "display(workbook1_mcq1.Q5)\n",
    "display(workbook1_mcq1.Q6)\n",
    "display(workbook1_mcq1.Q7)"
   ]
  },
  {
   "cell_type": "markdown",
   "metadata": {},
   "source": [
    "<div style=\"background-color:black;width:100%;\"><br></div>\n",
    "\n",
    "# Part 3: Introducing the numpy package for storing and manipulating numerical data\n",
    "<img src=\"figs/slicing.png\" alt=\"Image of a rectangular grid with colours indicating how rows, columns and blocks of cells can be selected.\"  style=\"float:right\" size:300/>\n",
    "\n",
    "Python has a **numpy** module with lots of useful code for doing math, and creating and manipulating arrays of data. \n",
    "\n",
    "There are **lots** of books and online resources to help you learn about numpy. Good websites include [W3schools](https://www.w3schools.com/python/numpy/default.asp) and [geeksforgeeks](https://www.geeksforgeeks.org/python-numpy/). Of course you can ask specific questions if you're stuck with bits of coding on [stackoverflow](https://stackoverflow.com/questions/tagged/python).\n",
    "\n",
    "### Finding the size of arrays\n",
    "- numpy arrays are created using ```np.array()```\n",
    "- numpy arrays can be:\n",
    "  - 1 dimensional (like a vector)\n",
    "  - N-dimension (like a matrix or a table)\n",
    "- All numpy arrays have a ```.shape``` attribute\n",
    "   - either a scalar (integer) value giving the length of a 1D array\n",
    "   - or a list of values holding the size of different dimensions\n",
    "   - for the 2-dimensional array `X` in the image ```X.shape= [7,5]```, because it has 7 rows and 5 columns\n",
    "\n",
    "### Slicing arrays\n",
    "If we have a 2D numpy array `X`  we can select just parts of it - i.e. groups of rows, or columns, by \"slicing\".\n",
    "\n",
    "We specify the range of rows we want, then the range of columns using ```X[start_row: end_row, start_col: end_col]```\n",
    "- For each dimension, the start and end index are separated by a colon (:).\n",
    "- The dimensions (row, columns, etc) are separated by a comma (,).\n",
    "- The end_row and end_col are not included in the slice.\n",
    "- If start is empty, then the slice goes right from the start of that dimension (row/column)\n",
    "- If end is empty, then the slices goes right to the end of the dimension (row/column)\n",
    "- if both are empty (or missing), then the whole of that dimension is included\n",
    "- If the start is empty and the end is negative, the slices comes from the end of the row/column.\n",
    "\n",
    "The image shows how these rules allow different ways of specifying the same slice. "
   ]
  },
  {
   "cell_type": "markdown",
   "metadata": {},
   "source": [
    "**Example 1:** If we put the letters of my name into a 1D array then we can pick out what we want.\n",
    "\n",
    "**Run the cell below:** make sure you understand how the output is produced."
   ]
  },
  {
   "cell_type": "code",
   "execution_count": 12,
   "metadata": {
    "tags": []
   },
   "outputs": [
    {
     "name": "stdout",
     "output_type": "stream",
     "text": [
      "Declaring a 1D array:\n",
      "the variable jims_name is of type <class 'numpy.ndarray'>\n",
      "it  has value ['j' 'i' 'm' ' ' 's' 'm' 'i' 't' 'h']\n",
      "and  shape (9,) and 1 dimension.\n",
      "\n",
      "Extracting a range of values from a 1D array e.g. jims_name[0:3]:\n",
      "['j' 'i' 'm']\n"
     ]
    }
   ],
   "source": [
    "\n",
    "\n",
    "# Example 1\n",
    "print(\"Declaring a 1D array:\")\n",
    "jims_name = np.array([\"j\", \"i\", \"m\", \" \", \"s\", \"m\", \"i\", \"t\", \"h\"])\n",
    "\n",
    "print(f\"the variable jims_name is of type {type(jims_name)}\")\n",
    "print(f\"it  has value {jims_name}\\nand  shape {jims_name.shape} and {len(jims_name.shape)} dimension.\\n\")\n",
    "\n",
    "# Use slicing to get only first name\n",
    "print(\"Extracting a range of values from a 1D array e.g. jims_name[0:3]:\")\n",
    "print(jims_name[0:3])"
   ]
  },
  {
   "cell_type": "markdown",
   "metadata": {},
   "source": [
    "**Example 2:** If we have all the tutors names we could pick out just one row, or the n-th letter in all their names.\n",
    "\n",
    "Notice how numpy lets us specify  contents  using python's list syntax. \n",
    "So for 2 dimension we can use a *list of lists*\n",
    "\n",
    "**Run the two cells below.** The first one creates the array, the second one illsutrates some slicing operations.\n"
   ]
  },
  {
   "cell_type": "code",
   "execution_count": 13,
   "metadata": {
    "tags": []
   },
   "outputs": [
    {
     "name": "stdout",
     "output_type": "stream",
     "text": [
      "\n",
      " Declaring a 2D array:\n",
      "[['J' 'i' 'm' ' ' ' ' ' ' ' ' 'S' 'm' 'i' 't' 'h' ' ']\n",
      " ['N' 'a' 't' 'h' 'a' 'n' ' ' 'D' 'u' 'r' 'a' 'n' ' ']\n",
      " ['A' 'i' 'n' 'a' ' ' ' ' ' ' 'M' 'a' 's' 't' 'o' 'i']]\n",
      "\n",
      "The variable tutors_names has shape (3, 13)\n",
      " - so if we print tutors_names.shape[0] we see it has 3 rows\n",
      " - and if we print tutors_names.shape[1] we see it has 13 columns\n"
     ]
    }
   ],
   "source": [
    "# Example 2- creating a 2d array\n",
    "print(\"\\n Declaring a 2D array:\")\n",
    "tutors_names = np.array(\n",
    "    [\n",
    "        ['J', 'i', 'm', ' ', ' ', ' ', ' ', 'S', 'm', 'i', 't', 'h', ' '],\n",
    "        ['N', 'a', 't', 'h', 'a', 'n', ' ', 'D', 'u', 'r', 'a', 'n', ' '],\n",
    "        ['A', 'i', 'n', 'a', ' ', ' ', ' ', 'M', 'a', 's', 't', 'o', 'i']\n",
    "    ],\n",
    "    dtype=str,\n",
    ")\n",
    "print(f\"{tutors_names}\")\n",
    "\n",
    "print(\n",
    "    f\"\\nThe variable tutors_names has shape {tutors_names.shape}\\n\"\n",
    "    f\" - so if we print tutors_names.shape[0] we see it has {tutors_names.shape[0]} rows\\n\"\n",
    "    f\" - and if we print tutors_names.shape[1] we see it has {tutors_names.shape[1]} columns\"\n",
    ")"
   ]
  },
  {
   "cell_type": "code",
   "execution_count": 14,
   "metadata": {
    "tags": []
   },
   "outputs": [
    {
     "name": "stdout",
     "output_type": "stream",
     "text": [
      "Extracting a row with all its columns from a 2D array, e.g. tutors_names[1, :] \n",
      "['N' 'a' 't' 'h' 'a' 'n' ' ' 'D' 'u' 'r' 'a' 'n' ' ']\n",
      "\n",
      "Extracting a range of columns from every row of a 2D array e.g., tutors_names[:, 0:6]\n",
      "[['J' 'i' 'm' ' ' ' ' ' ']\n",
      " ['N' 'a' 't' 'h' 'a' 'n']\n",
      " ['A' 'i' 'n' 'a' ' ' ' ']]\n",
      "\n",
      "Extracting a specific block of data from a 2D array e.g. tutors_names[2, -6]\n",
      "['M' 'a' 's' 't' 'o' 'i']\n",
      " - note how this example used negative indexing to count from the end not the start\n"
     ]
    }
   ],
   "source": [
    "#Example 2 - extracting information from the  2d array\n",
    "\n",
    "print(\"Extracting a row with all its columns from a 2D array, e.g. tutors_names[1, :] \")\n",
    "print(tutors_names[1, :])  # every column of the second row\n",
    "\n",
    "print(\"\\nExtracting a range of columns from every row of a 2D array e.g., tutors_names[:, 0:6]\")\n",
    "print(tutors_names[:, 0:6])\n",
    "\n",
    "# This example uses negative index to select  from the end of a slice\n",
    "print(\"\\nExtracting a specific block of data from a 2D array e.g. tutors_names[2, -6]\")\n",
    "print(tutors_names[2, -6:])\n",
    "print(\n",
    "    \" - note how this example used negative indexing to count from the end not the start\"\n",
    ")"
   ]
  },
  {
   "cell_type": "markdown",
   "metadata": {},
   "source": [
    "<div class=\"alert alert-block alert-info\" style=\"color:black\"><h2>Activity 3: Practising numpy slicing</h2>\n",
    "    <h3><b>10 marks</b> for an implementation that passes the test</h3>\n",
    "    Making use of the snippets above, write a function <code>get_names(namearray:np.ndarray)->list</code> that:\n",
    "    <ol>\n",
    "        <li>Takes the array <code>tutors_names</code> as a parameter</li>\n",
    "        <li>Creates smaller array containing just the family names <br>\n",
    "        <b> Assume the family names are all held in the last six characters</b>\n",
    "        <li>Uses the python <code>str.join method</code> to turn each family name into a single string</li>\n",
    "        <li>Appends all the names to a list</li>\n",
    "        <li>Returns that list containing the family names </li>\n",
    "    </ol>\n",
    "    <b>Note:</b> that the marking server will use a different array of names. Your code should work if we test it with different arrays (as long as the family names have the same maximum length).\n",
    "    <br><br><b>How to get started:</b> Like all coding (especially if the coder is something like chat-gpt), it's always a good idea to start by asking how you would test your code.\n",
    "    <ul>\n",
    "        <li>In this case I've given you a test function to help you make sure you've understood the requirements.</li>\n",
    "        <li><b>Most answers from chat-gpt or stackoverflow are likely to be wrong</b><br>\n",
    "            because they will probably break up <code>namearray</code> into  strings they split up using spaces.<br>\n",
    "            In this task you are asked to demonstrate <b><emp>slicing</emp></b> based on <b><emp>position</emp></b>.</li>\n",
    "    </ul>\n",
    "</div>"
   ]
  },
  {
   "cell_type": "markdown",
   "metadata": {},
   "source": [
    " <div class=\"alert alert-block alert-success\" style=\"color:black\"><b>Hints:</b>\n",
    "    <ol>\n",
    "        <li><b>Nothing in your code should reference the array <code>tutors_names</code></b>.<br>\n",
    "            That was just an example, your code should be generic.<br>\n",
    "            The function is passed an array <code>namearray</code> - you should access and extract names from this.</li>\n",
    "        <li>Try the answers in <a href=\"https://stackoverflow.com/questions/12453580/how-to-concatenate-join-items-in-a-list-to-a-single-string\">this question</a> to see how to make strings out of the characters in a name.</li>\n",
    "        <li>My solution has one <code>for</code> loop (using <code>namearray.shape[0]</code> to access the number of rows) and 3 lines of code inside the loop.</li>\n",
    "        <li>If you look at the original array you'll see I've put spaces after my and Nathan's family names</li>\n",
    "        <li>Use the cell below to develop your code and the one after to test it.</li>\n",
    "    </ol>\n",
    "</div>\n",
    "\n",
    "**Write your code where indicated in the cell below then run it to save your code to file**"
   ]
  },
  {
   "cell_type": "code",
   "execution_count": 15,
   "metadata": {
    "tags": []
   },
   "outputs": [
    {
     "name": "stdout",
     "output_type": "stream",
     "text": [
      "Appending to studentcode/student_wb1.py\n"
     ]
    }
   ],
   "source": [
    "%%writefile -a \"studentcode/student_wb1.py\"\n",
    "\n",
    "def get_names(namearray: np.ndarray) -> list:\n",
    "    family_names = []\n",
    "    # ====> insert your code below here\n",
    "    for i in range(namearray.shape[0]):\n",
    "        family_name_arr = namearray[i, -6:]\n",
    "        family_name_str = ''\n",
    "        family_name_str = family_name_str.join(family_name_arr)\n",
    "        family_names.append(family_name_str)\n",
    "    \n",
    "    # <==== insert your code above here\n",
    "    return family_names"
   ]
  },
  {
   "cell_type": "markdown",
   "metadata": {},
   "source": [
    "**Run the cell below to load and test your code**\n",
    "\n",
    "A different array will be used when your code is marked"
   ]
  },
  {
   "cell_type": "code",
   "execution_count": 16,
   "metadata": {
    "tags": []
   },
   "outputs": [
    {
     "name": "stdout",
     "output_type": "stream",
     "text": [
      "passed all tests\n"
     ]
    }
   ],
   "source": [
    "# Step 1: load your code\n",
    "if 'studentcode' not in path:\n",
    "    path.append('studentcode')\n",
    "import student_wb1 as student\n",
    "reload (student)\n",
    "\n",
    "\n",
    "# Step 2: define test function\n",
    "def test_get_names():\n",
    "    \"\"\"An example of writing a test using an assertion to check code does what it should,\n",
    "    and creating error string to give more information.\n",
    "    NOTE: we will test your code using different arrays, so you can't hard-code the answers!\n",
    "    \"\"\"\n",
    "\n",
    "    # Declare the array to be used in the test\n",
    "    tutors_names2 = np.array(\n",
    "        [\n",
    "            [\"J\", \"i\", \"m\", \" \", \" \", \" \", \" \", \"S\", \"m\", \"i\", \"t\", \"h\", \" \"],\n",
    "            [\"N\", \"a\", \"t\", \"h\", \"a\", \"n\", \" \", \"D\", \"u\", \"r\", \"a\", \"n\", \" \"],\n",
    "            ['A', 'i', 'n', 'a', ' ', ' ', ' ', 'M', 'a', 's', 't', 'o', 'i'],\n",
    "        ],\n",
    "        dtype=str,\n",
    "    )\n",
    " \n",
    "    # Call the function\n",
    "    returned_value = student.get_names(tutors_names2)\n",
    "\n",
    "    # Check the result\n",
    "    correct_value = [\"Smith \", \"Duran \", \"Mastoi\"]\n",
    "    # make error msg\n",
    "    error_msg = f\"returned value {returned_value} should be {correct_value}\"\n",
    "    # this is the test, error_msg is printed if it fails\n",
    "    assert returned_value == correct_value, error_msg\n",
    "    print(\"passed all tests\")\n",
    "\n",
    "#step 3: Run the test function on your code\n",
    "test_get_names()"
   ]
  },
  {
   "cell_type": "markdown",
   "metadata": {},
   "source": [
    "<div style=\"background-color:black;width:100%;height:2px\"><br></div>\n",
    "\n",
    "### Useful numpy functions\n",
    "\n",
    "The real benefits of numpy arrays come when they hold numerical data.\n",
    "\n",
    "Numpy provides **lots** of built-in mathematical functions, here we'll just illustrate a few that you'll use in this course\n",
    "\n",
    "### Making arrays full of zeros/ones etc\n",
    "- via functions like ```np.zeros((rows, columns), datatype)```\n",
    "- see [the numpy documentation](https://numpy.org/doc/stable/reference/routines.array-creation.html) for more details\n",
    "\n",
    "### Statistics that describe contents: mean, max and min\n",
    "- if we call ```np.mean(my_1D_array)```,  ```np.max(my_1D_array)``` or ```np.min(my_1D_array)``` on a 1D array we get what you would expect\n",
    "- if we call the methods on a N-Dimensional array we get results for the whole array\n",
    "- but we can also get it for different dimensions by specifying what *axis* we want\n",
    "- and ```np.argmax(myarray)``` or ```np.argmin(myarray)``` tell us *where* the biggest/smallest values are in the array\n",
    "\n",
    "### Functions that manipulate arrays into different shapes\n",
    "- `np.reshape()` can be suprisingly handy, especially for getting data into the right format for a machine learning algorithm \n",
    "\n",
    "**Work through the 5 cells below, reading then running them:**  \n",
    "make sure you understand what they are doing - you'll be using these functions a lot in the next few weeks. \n",
    "- The first cell makes an array, fills it with consecutive numbers, then shuffles them into a random order"
   ]
  },
  {
   "cell_type": "code",
   "execution_count": 17,
   "metadata": {
    "tags": []
   },
   "outputs": [
    {
     "name": "stdout",
     "output_type": "stream",
     "text": [
      "The 1D-version of the array looks like this:\n",
      "[  1   2   3   4   5   6   7   8   9  10  11  12  13  14  15  16  17  18\n",
      "  19  20  21  22  23  24  25  26  27  28  29  30  31  32  33  34  35  36\n",
      "  37  38  39  40  41  42  43  44  45  46  47  48  49  50  51  52  53  54\n",
      "  55  56  57  58  59  60  61  62  63  64  65  66  67  68  69  70  71  72\n",
      "  73  74  75  76  77  78  79  80  81  82  83  84  85  86  87  88  89  90\n",
      "  91  92  93  94  95  96  97  98  99 100]\n",
      "\n",
      "The shuffled version of the array looks like this:\n",
      "[ 30  77  50  94  74  34  11  91  79  60  95  38  32  46  23  92  39  25\n",
      "  29  55   9   2  87  68  72  48  18  35  75  17  14  26  65  27  45  58\n",
      "  12  57  81  67  54  10  40  66  21  20  96  33  63  83  99  64  47  85\n",
      "  44  78  19  53 100  22  24  52  89  15  98  76  16  86  28  93  56  61\n",
      "  49  31  42  70   1  82  69  73  97  41   4  37  88   6  59   8  84  71\n",
      "  43   5  62  80  51   7  90   3  36  13]\n",
      "\n",
      "The 2D-version looks like this:\n",
      "[[ 30  77  50  94  74  34  11  91  79  60]\n",
      " [ 95  38  32  46  23  92  39  25  29  55]\n",
      " [  9   2  87  68  72  48  18  35  75  17]\n",
      " [ 14  26  65  27  45  58  12  57  81  67]\n",
      " [ 54  10  40  66  21  20  96  33  63  83]\n",
      " [ 99  64  47  85  44  78  19  53 100  22]\n",
      " [ 24  52  89  15  98  76  16  86  28  93]\n",
      " [ 56  61  49  31  42  70   1  82  69  73]\n",
      " [ 97  41   4  37  88   6  59   8  84  71]\n",
      " [ 43   5  62  80  51   7  90   3  36  13]]\n"
     ]
    }
   ],
   "source": [
    "# make a 1d array of 100 zeros (as integers)\n",
    "my_1darray = np.zeros(100, dtype=int)\n",
    "\n",
    "# fill it with consecutive values starting from 1 - this code doesn't care how big the array is\n",
    "for position in range(my_1darray.shape[0]):\n",
    "    my_1darray[position] = position + 1\n",
    "print(f\"The 1D-version of the array looks like this:\\n{my_1darray}\\n\")\n",
    "\n",
    "# let's shuffle the array first\n",
    "np.random.shuffle(my_1darray)\n",
    "print(f\"The shuffled version of the array looks like this:\\n{my_1darray}\\n\")\n",
    "\n",
    "# now we can just 'reshape' this long array into a square\n",
    "my_2darray = my_1darray.reshape(10, 10)\n",
    "print(f\"The 2D-version looks like this:\\n{my_2darray}\")"
   ]
  },
  {
   "cell_type": "markdown",
   "metadata": {},
   "source": [
    "- the next cell finds all unique values in an array  and (optionally) how many of each"
   ]
  },
  {
   "cell_type": "code",
   "execution_count": 18,
   "metadata": {
    "tags": []
   },
   "outputs": [
    {
     "name": "stdout",
     "output_type": "stream",
     "text": [
      "np.unique returns an array of the different values present which are:\n",
      "[  1   2   3   4   5   6   7   8   9  10  11  12  13  14  15  16  17  18\n",
      "  19  20  21  22  23  24  25  26  27  28  29  30  31  32  33  34  35  36\n",
      "  37  38  39  40  41  42  43  44  45  46  47  48  49  50  51  52  53  54\n",
      "  55  56  57  58  59  60  61  62  63  64  65  66  67  68  69  70  71  72\n",
      "  73  74  75  76  77  78  79  80  81  82  83  84  85  86  87  88  89  90\n",
      "  91  92  93  94  95  96  97  98  99 100]\n",
      "\n",
      "we can use the shape attribute to see there are there are 100 different values in the array\n"
     ]
    }
   ],
   "source": [
    "# getting the unique values in an array\n",
    "uniques = np.unique(my_1darray)\n",
    "print(f\"np.unique returns an array of the different values present which are:\\n{uniques}\\n\")\n",
    "\n",
    "print(f\"we can use the shape attribute to see there are there are {uniques.shape[0]} different values in the array\")"
   ]
  },
  {
   "cell_type": "markdown",
   "metadata": {},
   "source": [
    "- Now lets find some statistics"
   ]
  },
  {
   "cell_type": "code",
   "execution_count": 19,
   "metadata": {
    "tags": []
   },
   "outputs": [
    {
     "name": "stdout",
     "output_type": "stream",
     "text": [
      " the one-D array has biggest value 100 and mean 50.5\n"
     ]
    }
   ],
   "source": [
    "# 1D means and max\n",
    "oneD_biggest = np.max(my_1darray)\n",
    "oneD_mean = np.mean(my_1darray)\n",
    "print(f\" the one-D array has biggest value {oneD_biggest} and mean {oneD_mean}\")"
   ]
  },
  {
   "cell_type": "code",
   "execution_count": 20,
   "metadata": {
    "tags": []
   },
   "outputs": [
    {
     "name": "stdout",
     "output_type": "stream",
     "text": [
      "The two-D array also has biggest value 100 and mean 50.5\n",
      "\n",
      "But we can also get row/column stats by asking the numpy max/mean/min functions to report by axes\n",
      "in which case they return a list: one value per row/column\n",
      "- row-by-row maxima are [ 99  77  89  94  98  92  96  91 100  93]\n",
      "- column-by-column means are [60.  47.4 43.1 45.2 48.6 61.1 57.7 53.4 49.5 39. ]\n"
     ]
    }
   ],
   "source": [
    "# 2d versions\n",
    "twoD_biggest = np.max(my_2darray)\n",
    "twoD_mean = np.mean(my_2darray)\n",
    "print(f\"The two-D array also has biggest value {twoD_biggest} and mean {twoD_mean}\\n\")\n",
    "\n",
    "print(\"But we can also get row/column stats by asking the numpy max/mean/min functions to report by axes\\n\"\n",
    "      \"in which case they return a list: one value per row/column\")\n",
    "row_wise_biggest = np.max(my_2darray, axis=0)\n",
    "row_wise_mean = np.mean(my_2darray, axis=0)\n",
    "column_wise_biggest = np.max(my_2darray, axis=1)\n",
    "column_wise_mean = np.mean(my_2darray, axis=1)\n",
    "\n",
    "print(f\"- row-by-row maxima are {row_wise_biggest}\")\n",
    "print(f\"- column-by-column means are {column_wise_mean}\")"
   ]
  },
  {
   "cell_type": "code",
   "execution_count": 21,
   "metadata": {
    "tags": []
   },
   "outputs": [
    {
     "name": "stdout",
     "output_type": "stream",
     "text": [
      "The biggest value is 100 found in location 58\n"
     ]
    }
   ],
   "source": [
    "# locations of max in 1D array- we already found the max value toe cells above this\n",
    "location = np.argmax(my_1darray)\n",
    "print(f\"The biggest value is {oneD_biggest} found in location {location}\")"
   ]
  },
  {
   "cell_type": "markdown",
   "metadata": {},
   "source": [
    "<div class=\"alert alert-block alert-info\" style=\"color:black\"><h2>Activity 4: Checking Sudoku</h2>\n",
    "    <h3><b>10 marks</b> for an implementation that passes the test</h3>\n",
    "    Making use of the snippets above, write a function <code>check_sudoku_array(attempt: np.ndarray) -> int</code> that:\n",
    "    <ol>\n",
    "        <li>Takes a 2d numpy array <code>attempt</code> as input</li>\n",
    "        <li>Uses assertions to check that the array has 9 rows and 9 columns</li>\n",
    "        <li>Define 27 <em>slices</em> or sub-arrays corresponding to the 9 sub-squares, 9 rows and 9 columns</li>\n",
    "        <li>Returns an integer saying how many of the 27 slices contain exactly 9 unique values</li>\n",
    "    </ol>\n",
    "    <b>Note:</b> this is a <em>Stretch</em> activity so don't worry if you can't complete it easily.\n",
    "    <br><br><b>How to get started:</b>\n",
    "    <ul>\n",
    "        <li>We've given you some pseudocode in comments and declared some variables to get you started.</li>\n",
    "        <li>You will need to define 27 numpy arrays to hold the  different slices. Here are three of them to get you started:<br>\n",
    "            <code>row1 = attempt[1,:]</code> (you will need to get all the rows).<br>\n",
    "            <code>col9 = attempt[,:8]</code> (you will need to get all the columns).<br>\n",
    "            <code>top_middle_square = attempt[0:3, 3:6]</code> (you will need to get all the sub-squares).</li>\n",
    "        <li>Store these slices in a list by appending them to the list called <code>slices</code>.</li>\n",
    "        <li>Use <code>np.unique(slices)</code> to check that each slice has 9 unique values.</li>\n",
    "        <li>Return an integer saying how many of the 27 checks the attempt passes.</li>\n",
    "    </ul>\n",
    "</div>"
   ]
  },
  {
   "cell_type": "markdown",
   "metadata": {},
   "source": [
    "<div class=\"alert alert-block alert-success\" style=\"color:black\"><b>Hints:</b>\n",
    "    <ul>\n",
    "        <li>All the code you need is available above - it is a matter of assembling the bits correctly.</li>\n",
    "        <li>If you don't want to define each slice by hand, (like I have started doing above), you could do it <em>programmatically</em>\n",
    "        <ul>\n",
    "            <li>by iterating over (0...8) you can define (and then add to the list) the slices for the rows and columns automatically</li>\n",
    "            <li>and then add the 9 sub-square slices either by hand or using 2 nested loops. One dealing with moving the box across the grid, another dealing with moving it up and down</li>\n",
    "        </ul>\n",
    "    </ul>\n",
    "</div>\n",
    "\n",
    "**Write your code where indicated in the cell below then run it to save your implementation to file**"
   ]
  },
  {
   "cell_type": "code",
   "execution_count": 26,
   "metadata": {
    "tags": []
   },
   "outputs": [
    {
     "name": "stdout",
     "output_type": "stream",
     "text": [
      "Appending to studentcode/student_wb1.py\n"
     ]
    }
   ],
   "source": [
    "%%writefile -a \"studentcode/student_wb1.py\"\n",
    "\n",
    "def check_sudoku_array(attempt: np.ndarray) -> int:\n",
    "    tests_passed = 0\n",
    "    slices = []  # this will be a list of numpy arrays\n",
    "    \n",
    "    # ====> insert your code below here\n",
    "\n",
    "\n",
    "    # use assertions to check that the array has 2 dimensions each of size 9\n",
    "    arr_dim = (9, 9)\n",
    "    assert attempt.shape == arr_dim, 'Incorrect array'\n",
    "\n",
    "    ## Remember all the examples of indexing above\n",
    "    ## and use the append() method to add something to a list\n",
    "    for i in range(arr_dim[0]):\n",
    "        slices.append(attempt[i, : ])\n",
    "    for i in range(arr_dim[1]):\n",
    "        slices.append(attempt[ : , i])\n",
    "    for i in range(0, arr_dim[0], 3):\n",
    "        for j in range(0, arr_dim[1], 3):\n",
    "            slices.append(attempt[i:i+3, j:j+3])\n",
    "\n",
    "    unique_values_no = 0\n",
    "    for slice in slices:  # easiest way to iterate over list\n",
    "        # print(slice) - useful for debugging?\n",
    "        print(slice)\n",
    "        # get number of unique values in slice\n",
    "        unique_values_no = np.unique(slice).shape[0]\n",
    "        # increment value of tests_passed as appropriate\n",
    "        tests_passed += 1 if unique_values_no == 9 else 0\n",
    "    print(tests_passed)\n",
    "    \n",
    "    # <==== insert your code above here\n",
    "    # return count of tests passed\n",
    "    return tests_passed"
   ]
  },
  {
   "cell_type": "markdown",
   "metadata": {},
   "source": [
    "**Run the cell below to load and test your code**"
   ]
  },
  {
   "cell_type": "code",
   "execution_count": 27,
   "metadata": {
    "tags": []
   },
   "outputs": [
    {
     "name": "stdout",
     "output_type": "stream",
     "text": [
      "[1 2 3 4 5 6 7 8 9]\n",
      "[2 3 4 5 6 7 8 9 1]\n",
      "[3 4 5 6 7 8 9 1 2]\n",
      "[4 5 6 7 8 9 1 2 3]\n",
      "[5 6 7 8 9 1 2 3 4]\n",
      "[6 7 8 9 1 2 3 4 5]\n",
      "[7 8 9 1 2 3 4 5 6]\n",
      "[8 9 1 2 3 4 5 6 7]\n",
      "[9 1 2 3 4 5 6 7 8]\n",
      "[1 2 3 4 5 6 7 8 9]\n",
      "[2 3 4 5 6 7 8 9 1]\n",
      "[3 4 5 6 7 8 9 1 2]\n",
      "[4 5 6 7 8 9 1 2 3]\n",
      "[5 6 7 8 9 1 2 3 4]\n",
      "[6 7 8 9 1 2 3 4 5]\n",
      "[7 8 9 1 2 3 4 5 6]\n",
      "[8 9 1 2 3 4 5 6 7]\n",
      "[9 1 2 3 4 5 6 7 8]\n",
      "[[1 2 3]\n",
      " [2 3 4]\n",
      " [3 4 5]]\n",
      "[[4 5 6]\n",
      " [5 6 7]\n",
      " [6 7 8]]\n",
      "[[7 8 9]\n",
      " [8 9 1]\n",
      " [9 1 2]]\n",
      "[[4 5 6]\n",
      " [5 6 7]\n",
      " [6 7 8]]\n",
      "[[7 8 9]\n",
      " [8 9 1]\n",
      " [9 1 2]]\n",
      "[[1 2 3]\n",
      " [2 3 4]\n",
      " [3 4 5]]\n",
      "[[7 8 9]\n",
      " [8 9 1]\n",
      " [9 1 2]]\n",
      "[[1 2 3]\n",
      " [2 3 4]\n",
      " [3 4 5]]\n",
      "[[4 5 6]\n",
      " [5 6 7]\n",
      " [6 7 8]]\n",
      "18\n",
      "your code correctly identified that 18 of 27 the constraints are met\n"
     ]
    }
   ],
   "source": [
    "# Step 1: load your code\n",
    "if 'studentcode' not in path:\n",
    "    path.append('studentcode')\n",
    "import student_wb1 as student\n",
    "reload (student)\n",
    "\n",
    "#Step 2: define a possible solution to test\n",
    "attempt = np.array(\n",
    "    [\n",
    "        [1, 2, 3, 4, 5, 6, 7, 8, 9],\n",
    "        [2, 3, 4, 5, 6, 7, 8, 9, 1],\n",
    "        [3, 4, 5, 6, 7, 8, 9, 1, 2],\n",
    "        [4, 5, 6, 7, 8, 9, 1, 2, 3],\n",
    "        [5, 6, 7, 8, 9, 1, 2, 3, 4],\n",
    "        [6, 7, 8, 9, 1, 2, 3, 4, 5],\n",
    "        [7, 8, 9, 1, 2, 3, 4, 5, 6],\n",
    "        [8, 9, 1, 2, 3, 4, 5, 6, 7],\n",
    "        [9, 1, 2, 3, 4, 5, 6, 7, 8],\n",
    "    ]\n",
    ")\n",
    "# Step 3 test your code for this candidate solution\n",
    "passed = student.check_sudoku_array(attempt)\n",
    "assert passed==18,( \"Error, the rows and columns are all unique \"\n",
    "                   \"but not the inner squares, score should be 18\")\n",
    "print('your code correctly identified that 18 of 27 the constraints are met')"
   ]
  },
  {
   "cell_type": "markdown",
   "metadata": {},
   "source": [
    "<div class=\"alert alert-block alert-success\" style=\"color:black\"><b>Save and close Jupyter:</b>\n",
    "    <ol>\n",
    "        <li>Use the jupyterlab functions to download your work (ask your tutor if you need help with this) and save it somewhere sensible so you can find it easily.</li>\n",
    "        <li>Shutdown the notebook when you have finished with this tutorial (menu->file->close and shutdown notebook)</li>\n",
    "    </ol>\n",
    "</div>"
   ]
  }
 ],
 "metadata": {
  "kernelspec": {
   "display_name": "Python 3 (ipykernel)",
   "language": "python",
   "name": "python3"
  },
  "language_info": {
   "codemirror_mode": {
    "name": "ipython",
    "version": 3
   },
   "file_extension": ".py",
   "mimetype": "text/x-python",
   "name": "python",
   "nbconvert_exporter": "python",
   "pygments_lexer": "ipython3",
   "version": "3.13.1"
  }
 },
 "nbformat": 4,
 "nbformat_minor": 4
}
