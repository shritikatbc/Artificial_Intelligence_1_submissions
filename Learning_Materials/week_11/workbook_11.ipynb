{
 "cells": [
  {
   "cell_type": "markdown",
   "metadata": {},
   "source": [
    "#  Workbook 9: Connecting the chatbot to other systems and data\n",
    "\n",
    "Overview of activities and objectives of this workbook:\n",
    "\n",
    "1. The first part of this workbook will how to connect the bot to the operating system and other sources of data.\n",
    "    - We will set some predicates to allow the bot to use operating `<system>` tag-pairs to make calls and connecting your chatbot to external services, like date and time.\n",
    "    - We will enable the bot to create web queries based on user input, with OS commands and wildcards."
   ]
  },
  {
   "cell_type": "markdown",
   "metadata": {},
   "source": [
    "<div style=\"background:black;width:100%;height:10px\"></div><br>\n",
    "\n",
    "# Part 1: Communications between your bot and other programmes\n",
    "\n",
    "AIML V2 comes with new tags such as `<sraix>` that send messages to other programmes either on the local machine, or running as a web service.\n",
    "\n",
    "However even in AIML v1, there is the option to make a \"system\" call, which works in the same way as running a command from a terminal (mac/linux) or the \"command tool\" (windows)."
   ]
  },
  {
   "cell_type": "markdown",
   "metadata": {},
   "source": [
    "<div class=\"alert alert-block alert-info\" style=\"color:black\"><h2>Activity 1: Setting/Getting Bot variables from outside the bot, and using system tags</h2>\n",
    "\n",
    "Start by reading then running the 3 cells below which:\n",
    "1. Create a bot.\n",
    "2. Demonstrate how an external programme can tell a running bot to set some predicate values according to the computer it is hosted on.\n",
    "3. Demonstrate how an external programme can  retrieve short term memory (predicates) from a running bot.\n",
    "\n",
    "Then run the cells after those to check the values from inside the bot.\n",
    "</div>"
   ]
  },
  {
   "cell_type": "markdown",
   "metadata": {},
   "source": [
    "### Setting some bot predicates using python outside the bot"
   ]
  },
  {
   "cell_type": "code",
   "execution_count": null,
   "metadata": {},
   "outputs": [],
   "source": [
    "import aiml\n",
    "from IPython.display import HTML\n",
    "import platform\n",
    "\n",
    "# Create the kernel and learn AIML files\n",
    "myChatbot = aiml.Kernel()\n",
    "\n",
    "# use a standard python library to find out what operating system this code is running on\n",
    "osname = platform.system()\n",
    "\n",
    "\n",
    "# set some command  according to the operating system\n",
    "if osname == \"Darwin\":  # Macos\n",
    "    openUrlCommand = \"open\"\n",
    "    getDateCommand = \"date | cut -d' ' -f1-3,6\"\n",
    "    getTimeCommand = \"date|cut -d' ' -f4,5\"\n",
    "elif osname == \"Windows\":\n",
    "    openUrlCommand = \"start\"\n",
    "    # ideally the next two commands would be date/T and time/T, which just retrieve current values\n",
    "    # but the aiml interpreter change the / to \\ on windows so they don't get sent through correctly\n",
    "    # these versions should work fine - you can safely ignore the message about setting a new time\n",
    "    getDateCommand = \"date\"\n",
    "    getTimeCommand = \"time\"\n",
    "else:  # linux\n",
    "    print(\"There may not be a command-line command to open an url on your system.\\n On linux it depends what you have installed\")\n",
    "    openUrlCommand = \"\"\n",
    "    getDateCommand = \"date | cut -d' ' -f1-3,6\"\n",
    "    getTimeCommand = \"date|cut -d' ' -f4,5\"\n",
    "\n",
    "\n",
    "# set some values using the setPredicate() method\n",
    "myChatbot.setPredicate(\"osname\", osname)\n",
    "myChatbot.setPredicate(\"getDateCommand\", getDateCommand)\n",
    "myChatbot.setPredicate(\"getTimeCommand\", getTimeCommand)\n",
    "myChatbot.setPredicate(\"openURLCommand\", openUrlCommand)"
   ]
  },
  {
   "cell_type": "markdown",
   "metadata": {},
   "source": [
    "### Querying values of bot predicates from outside the bot"
   ]
  },
  {
   "cell_type": "code",
   "execution_count": null,
   "metadata": {},
   "outputs": [],
   "source": [
    "## In this cell python code asks the bot for values of variables (predicates) using the getPredicate() method\n",
    "\n",
    "\n",
    "print(\"The bot has its variable osname set to \" \n",
    "    + myChatbot.getPredicate(\"osname\"))\n",
    "\n",
    "print(\"The bot will get the date calling system command: \"\n",
    "    + myChatbot.getPredicate(\"getDateCommand\")\n",
    ")\n",
    "\n",
    "print(\"The bot will get the time by calling system command: \"\n",
    "    + myChatbot.getPredicate(\"getTimeCommand\")\n",
    ")\n",
    "\n",
    "print(\"The bot will use this command to open a url: \"\n",
    "    + myChatbot.getPredicate(\"openURLCommand\")\n",
    ")"
   ]
  },
  {
   "cell_type": "markdown",
   "metadata": {},
   "source": [
    "### Next read, understand, then run the  cell below to write some categories to file\n",
    "\n",
    "The categories contain the knowlege about  how to answer  these things in an interactive chat session.\n",
    "\n",
    "The first one just retrieves a stored value and returns it.\n",
    "\n",
    "The second and third categories  use `<system>` calls to the host computer, retrieving stored values to set the commands to be run.\n",
    "\n",
    "You should then be able to ask the chatbot:\n",
    "- what time it is.\n",
    "- what date it is.\n",
    "- what operating system it is running on."
   ]
  },
  {
   "cell_type": "code",
   "execution_count": null,
   "metadata": {},
   "outputs": [],
   "source": [
    "%%writefile \"simple_extensions.aiml\"\n",
    "<aiml version=\"1.0.1\" encoding=\"UTF-8\">\n",
    "\n",
    "<category>\n",
    "    <pattern> WHAT OPERATING SYSTEM ARE YOU RUNNING ON</pattern>\n",
    "    <template><get name=\"osname\" /></template>\n",
    "</category>\n",
    "\n",
    "<category>\n",
    "    <pattern> WHAT IS THE TIME </pattern>\n",
    "    <template> \n",
    "          It is <system><get name = \"getTimeCommand\"/></system>\n",
    "    </template>\n",
    "</category>\n",
    "\n",
    "<category>\n",
    "    <pattern> WHAT IS THE DATE </pattern>\n",
    "    <template> \n",
    "        Today is <system><get name=\"getDateCommand\"/></system>\n",
    "    </template>\n",
    "</category>\n",
    "\n",
    "</aiml>"
   ]
  },
  {
   "cell_type": "code",
   "execution_count": null,
   "metadata": {},
   "outputs": [],
   "source": [
    "myChatbot.learn(\"data/simple_extensions.aiml\")\n",
    "myChatbot.verbose(True)\n",
    "\n",
    "keepGoing = True\n",
    "while keepGoing:\n",
    "    nextInput = input(\"Enter your message >> \")\n",
    "    if nextInput == \"bye\":\n",
    "        keepGoing = False\n",
    "    else:\n",
    "        print(myChatbot.respond(nextInput))"
   ]
  },
  {
   "cell_type": "markdown",
   "metadata": {},
   "source": [
    "<div class=\"alert alert-block alert-info\" style=\"color:black\"><h2>Activity 2: Encoding knowledge for a customer service chatbot</h2>\n",
    "\n",
    "First <b>read</b>, then <b>run</b> the cell below to store some categories which make calls to external services.\n",
    "\n",
    "Each one does the same three things in its template:\n",
    "\n",
    "1. Uses a `<think>` pair to construct a variable called `runquery` by adding together:\n",
    "    - The computer-specific command to open a url in a new tab.\n",
    "    - The name of a web service.\n",
    "    - The thing the user asked for - stored in `<star/>`.\n",
    "2. Prints out a message and the hyperlink it hs constructed.\n",
    "3. Uses a `<system>` tag-pair to ask the host computer to perform that action.\n",
    "\n",
    "Then you can try these commands:\n",
    "- Google Nelson\n",
    "- Wikipedia Nelson\n",
    "- Map of Nelson\n",
    "- Images Nelson\n",
    "\n",
    "**What does the number of results for Nelson Mandela tell you about how biassed the information on the web is??**\n",
    "\n",
    "\n",
    "**On your own machine** these should open a new tab, and produce a hyperlink in the chat window.\n",
    "\n",
    "**If you are using the csctcloud server** then:\n",
    "- You will still get the hyperlink in the chat window, which should open a new tab in your browser when you click on it. \n",
    "- But for security reasons it's harder to (or Jim doesn't know how to) make a remote machine (csctcloud) open a tab in your browser.\n",
    "\n",
    "</div>"
   ]
  },
  {
   "cell_type": "code",
   "execution_count": null,
   "metadata": {},
   "outputs": [],
   "source": [
    "%%writefile \"web_extensions.aiml\"\n",
    "<aiml version=\"1.0.1\" encoding=\"UTF-8\">\n",
    "\n",
    "<category>\n",
    "    <pattern> GOOGLE *</pattern>\n",
    "    <template>\n",
    "        <think>\n",
    "            <set name=\"runquery\"><get name=\"openURLCommand\"/> http://www.google.co.uk/search?q=<star/></set>\n",
    "        </think>\n",
    "        If the tab does not open, here is a clickable link <get name=\"runquery\"/>\n",
    "        <system><get name=\"runquery\"/></system>\n",
    "    </template>\n",
    "</category>\n",
    "\n",
    "<category>\n",
    "  <pattern> IMAGES *</pattern>\n",
    "  <template>\n",
    "        <think>\n",
    "            <set name=\"runquery\"><get name=\"openURLCommand\"/> http://www.google.co.uk/images?q=<star/></set>\n",
    "        </think>\n",
    "        If the tab does not open, here is a clickable link <get name=\"runquery\"/>\n",
    "        <system><get name=\"runquery\"/></system>\n",
    "    </template>\n",
    "</category>\n",
    "\n",
    "<category>\n",
    "    <pattern> MAP OF *</pattern>\n",
    "    <template>\n",
    "        <think>\n",
    "            <set name=\"runquery\"><get name=\"openURLCommand\"/> http://www.google.co.uk/maps?q=<star/></set>\n",
    "        </think>\n",
    "        If the tab does not open, here is a clickable link <get name=\"runquery\"/>\n",
    "        <system><get name=\"runquery\"/></system>\n",
    "    </template>\n",
    "</category>\n",
    "\n",
    "<category>\n",
    "    <pattern> WIKIPEDIA * </pattern>\n",
    "    <template>\n",
    "        <think>\n",
    "            <set name=\"runquery\"><get name=\"openURLCommand\"/> https://en.wikipedia.org/wiki/<star/></set>\n",
    "        </think>\n",
    "        If the tab does not open, here is a clickable link <get name=\"runquery\"/>\n",
    "        <system><get name=\"runquery\"/></system>\n",
    "    </template>\n",
    "</category>\n",
    "\n",
    "<category>\n",
    "    <pattern> CALCULATE * </pattern>\n",
    "    <template>\n",
    "        <think>\n",
    "            <set name=\"runquery\"><get name=\"openURLCommand\"/> http://www.google.co.uk/search?q=<star/></set>\n",
    "        </think>\n",
    "        If the tab does not open, here is a clickable link <get name=\"runquery\"/>\n",
    "        <system><get name=\"runquery\"/></system>\n",
    "    </template>\n",
    "</category>\n",
    "\n",
    "</aiml>"
   ]
  },
  {
   "cell_type": "code",
   "execution_count": null,
   "metadata": {},
   "outputs": [],
   "source": [
    "import aiml\n",
    "\n",
    "myChatbot.learn(\"data/web_extensions.aiml\")\n",
    "myChatbot.verbose(True)\n",
    "\n",
    "keepGoing = True\n",
    "while keepGoing:\n",
    "    nextInput = input(\"Enter your message >> \")\n",
    "    if nextInput == \"bye\":\n",
    "        keepGoing = False\n",
    "    else:\n",
    "        print(myChatbot.respond(nextInput))"
   ]
  },
  {
   "cell_type": "markdown",
   "metadata": {},
   "source": [
    "<div class=\"alert alert-block alert-success\" style=\"color:black\"><b>Save and close Jupyter:</b>\n",
    "    <ol>\n",
    "        <li>Use the jupyterlab functions to download your work (ask your tutor if you need help with this) and save it somewhere sensible so you can find it easily.</li>\n",
    "        <li>Shutdown the notebook when you have finished with this tutorial (menu->file->close and shutdown notebook)</li>\n",
    "    </ol>\n",
    "</div"
   ]
  }
 ],
 "metadata": {
  "kernelspec": {
   "display_name": "Python 3 (ipykernel)",
   "language": "python",
   "name": "python3"
  },
  "language_info": {
   "codemirror_mode": {
    "name": "ipython",
    "version": 3
   },
   "file_extension": ".py",
   "mimetype": "text/x-python",
   "name": "python",
   "nbconvert_exporter": "python",
   "pygments_lexer": "ipython3",
   "version": "3.13.1"
  }
 },
 "nbformat": 4,
 "nbformat_minor": 4
}
