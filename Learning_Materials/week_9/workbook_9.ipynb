{
 "cells": [
  {
   "cell_type": "markdown",
   "metadata": {},
   "source": [
    "# Workbook 9: Building Your First Chatbot with AIML\n",
    "\n",
    "Overview of activities and objectives of this workbook:\n",
    "\n",
    "1. The first part of this workbook will create a knowledge-base for an expert system and embed that into a simple chat-bot using the AIML knowledge representation language.\n",
    "    - First you will learn how knowledge is stored in AIML within `<category>` tags. With inputs `<pattern>` and outputs `<template>` tags.\n",
    "    - Then we will create a knowledge-base of 12 questions and answers about knowledge-based systems to form an 'FAQ'.\n",
    "        - We'll do this by creating a new `<category>` for each question and answer.\n",
    "        - This help you learn how preprocessing is applied to text before it reaches the AIML interpreter.\n",
    "\n",
    "2. In the second part of this workbook will introduce simple forward chaining with `<srai>` tags.\n",
    "    - SRAI (Symbolic Reduction) allows the bot to respond in the same way to different ways of phrasing the same input.\n",
    "    - We'll demonstrate this by using `<srai>` tag-pairs to respond to different greetings.\n",
    "\n",
    "3. The third part of the workbook will start creating the AIML knowledge-base for the final part of the assessed portfolio.\n",
    "    - The 12 question and answer categories will be part of this knowlege-base (the final submission will require 45 total).\n",
    "    - You can begin adapting the AIML to use `<srai>` tag-pairs to allow the bot to respond to different ways of asking the same question.\n",
    "\n",
    "<div class=\"alert alert-block alert-warning\" style=\"color:black\">\n",
    "<h3>Additional Resources</h3>\n",
    "\n",
    "Good places to look for help with AIML syntax are: \n",
    " - [Pandorabots AIML-Fundaments](https://www.pandorabots.com/docs/aiml-fundamentals)\n",
    " - [Pandorabots AIML reference - for syntax](https://www.pandorabots.com/docs/aiml-reference/)\n",
    " - [The official AIML site](http://www.aiml.foundation/doc.html)\n",
    " - [Tutorials Point](https://www.tutorialspoint.com/aiml/index.htm)\n",
    "\n",
    "<b>Remember:</b>\n",
    "Because it is much more lightweight, in class we are using the python-aiml package. This is only AIML v1 compliant, and  <em>does not</em> support all the features of AIML v2.<br> \n",
    "\n",
    "If you are running the notebooks on the cloud server you need to click on the kernel menu and then change-kernel to'AIenv'.<br>\n",
    "\n",
    "If you are running locally AND you created a virtual environment in Jupyter click on the kernel menu then change-kernel OR in VSCode use the kernel selector in the top-right hand corner.</p>\n",
    "</div>"
   ]
  },
  {
   "cell_type": "markdown",
   "metadata": {},
   "source": [
    "<div style=\"background:black;width:100%;height:10px\"></div><br>\n",
    "\n",
    "# Part 1: Creating a chatbot and embedding simple knowledge"
   ]
  },
  {
   "cell_type": "markdown",
   "metadata": {},
   "source": [
    "<div class=\"alert alert-block alert-info\" style=\"color:black\"><h2>Activity 1: Editing a simple knowledge-base</h2>\n",
    "\n",
    "This activity will familiarise you with basic AIML tags. A `<category>` tag contains an input `<pattern>` and the bots output `<template>`.\n",
    "\n",
    "<ul>\n",
    "    <li><b>Edit and run</b> the first cell below to change the response when a user types <i>Greetings</i>, i.e. change the response to \"Hello there!\"</li>\n",
    "    <li>Add a new category to the chatbot for a different type of greeting and response.</li>\n",
    "    <li>Then <b>run</b> the cell after to load your knowledge base and start an interactive session.\n",
    "        <ul>\n",
    "            <li>Type questions into the box provided.</li>\n",
    "            <li>The bot should respond to \"Greetings\".</li>\n",
    "            <li>What happens if you type one of your questions?</li>\n",
    "            <li>Type 'bye' to finish the session.</li>\n",
    "        </ul>\n",
    "    </li>\n",
    "</ul>\n",
    "\n",
    "<b>Note:</b>\n",
    "<ul>\n",
    "    <li>You must include on  the first line: `%%writefile \"workbook2-Chatbot.aiml\"`. This is jupyter \"magics\" to save the cell contents as a text file when you run it.</li>\n",
    "    <li> The second line tells the interpreter that is is AIML and how it is encoded.  You should only have this line once. You <b>must</b> keep the final line &lt;/aiml&gt; to close the aiml tag-pair.\n",
    "</div>"
   ]
  },
  {
   "cell_type": "markdown",
   "metadata": {},
   "source": [
    "<div class=\"alert alert-block alert-success\" style=\"color:black\"><b>Important note on pre-processing:</b><br>\n",
    "Your inputs are <b>pre-processed</b> before they enter the pattern matching part of the AIML interpreter. Failing to pay attention to pre-processing rules is a common cause for confusion about why rules are not being matched.\n",
    "    <ul>\n",
    "        <li>Characters are all turned to upper case. This means <b>you must write your patterns in upper case</b> or they will never get matched.</li>\n",
    "        <li>Inputs are split up according to \"sentence endings\" such as <b>. ? ! </b>then these are removed. So <b>your patterns should not include these characters</b> or they will never match.</li>\n",
    "        <li><i>Contractions</i> are all expanded e.g., <i>isn't</i> is transformed to <i> is not</i>. So look out for apostrophes in your text.</li> \n",
    "        <li> As a general rule <b> all punctuation is removed</b>.</li>\n",
    "    </ul>\n",
    "</div>"
   ]
  },
  {
   "cell_type": "code",
   "execution_count": 1,
   "metadata": {
    "tags": []
   },
   "outputs": [
    {
     "name": "stdout",
     "output_type": "stream",
     "text": [
      "Overwriting data/workbook9-Chatbot.aiml\n"
     ]
    }
   ],
   "source": [
    "%%writefile \"data/workbook9-Chatbot.aiml\"\n",
    "<aiml version=\"1.0.1\" encoding=\"UTF-8\">\n",
    "\n",
    "\n",
    "<category>\n",
    "  <pattern> GREETINGS</pattern>\n",
    "  <template> Hi there!</template>\n",
    "</category>\n",
    "\n",
    "<!--\n",
    "anything between these two lines is a comment\n",
    "so this line is a comment too\n",
    "-->\n",
    "\n",
    "<!-- \n",
    "ADD AT LEAST ONE NEW CATEGORY  BELOW THIS COMMENT\n",
    "-->\n",
    "<category>\n",
    "  <pattern>HELLO</pattern>\n",
    "  <template>Hi! How can I help you today?</template>\n",
    "</category>\n",
    "\n",
    "</aiml>"
   ]
  },
  {
   "cell_type": "code",
   "execution_count": 2,
   "metadata": {
    "tags": []
   },
   "outputs": [
    {
     "name": "stdout",
     "output_type": "stream",
     "text": [
      "Loading data/workbook9-Chatbot.aiml...done (0.07 seconds)\n",
      "Successfully loaded 2 categories\n"
     ]
    },
    {
     "name": "stdin",
     "output_type": "stream",
     "text": [
      "Enter your message >>  hi there\n"
     ]
    },
    {
     "name": "stderr",
     "output_type": "stream",
     "text": [
      "WARNING: No match found for input: hi there\n"
     ]
    },
    {
     "name": "stdout",
     "output_type": "stream",
     "text": [
      "\n"
     ]
    },
    {
     "name": "stdin",
     "output_type": "stream",
     "text": [
      "Enter your message >>  hello\n"
     ]
    },
    {
     "name": "stdout",
     "output_type": "stream",
     "text": [
      "Hi! How can I help you today?\n"
     ]
    },
    {
     "name": "stdin",
     "output_type": "stream",
     "text": [
      "Enter your message >>  bye\n"
     ]
    }
   ],
   "source": [
    "# Run this cell to create and chat with yor bot\n",
    "import aiml\n",
    "\n",
    "# Create the kernel and learn AIML files\n",
    "myChatbot = aiml.Kernel()\n",
    "myChatbot.learn(\"data/workbook9-Chatbot.aiml\")\n",
    "myChatbot.verbose(True)\n",
    "print( f\"Successfully loaded {myChatbot.numCategories()} categories\")\n",
    "\n",
    "#type bye to end the chat session\n",
    "keepGoing = True\n",
    "\n",
    "while keepGoing:\n",
    "    nextInput = input(\"Enter your message >> \")\n",
    "    if(nextInput == 'bye'):\n",
    "        keepGoing = False\n",
    "    else:\n",
    "        print (myChatbot.respond(nextInput))"
   ]
  },
  {
   "cell_type": "markdown",
   "metadata": {},
   "source": [
    "<div class=\"alert alert-block alert-info\" style=\"color:black\"><h2>Activity 2: Creating new categories to add knowledge to a knowledge-base</h2>\n",
    "\n",
    "Now it is time add our set of questions and answers into your chatbot.\n",
    "<ol>\n",
    "    <li>Read through the set of questions-answers in the cell below and make sure you understand the answers.\n",
    "    <li>In the next cell below copy and paste the simple \"Greetings\" category 11 times to create 12 categories.</li>\n",
    "    <li>Then edit the 12 new categories to make one for each of the question-answer pairs.\n",
    "        <ul>\n",
    "            <li>Make sure you pay attention to how the inputs are preprocessed</li>\n",
    "            <li>Remember to <b>run</b> the cell to save the contents to file.</li>\n",
    "        </ul>\n",
    "    <li>then run the second cell below to load your knowledge-base into a new chatbot and test it correctly answers all twelve questions.</li>\n",
    "</ol>\n",
    "</div>"
   ]
  },
  {
   "cell_type": "markdown",
   "metadata": {},
   "source": [
    "<div class=\"alert alert-block alert-success\" style=\"color:black\"><b>Debugging hints:</b><br>\n",
    "    <ul>\n",
    "        <li>The code you are given  will tell you how many categories it has loaded successfully - this should match how many you have written.</li>\n",
    "        <li>If things seem 'stuck' (the circle next to the kernel name \"python 3\" is filled ), you can use the square 'stop' button to stop python.</li>\n",
    "        <li>If you get errors when you try to run the bot, you can comment out parts of your code to isolate the problem. The first code cell includes an example of the symbols to use to start and end  to make multi-line comments.</li>\n",
    "        <li>The most common cause of confusion arises from incomplete understanding of how the data is preprocessed. Treat this as a learning experience :)</li>\n",
    "        <li>Remember to end each chat session with 'bye' or you will not be able to load/edit new categories</li>\n",
    "    </ul>\n",
    "</div>"
   ]
  },
  {
   "cell_type": "markdown",
   "metadata": {},
   "source": [
    "The first step is to identify what knowledge we want our expert system chatbot to talk about.  \n",
    "We are going to use the following set of definitions that will go towards the final part of your assessed portfolio.\n",
    "\n",
    "Q00: What is long-term knowledge?\n",
    "\n",
    "A00: Long-term knowledge is valid over a period of time.\n",
    "\n",
    "Q01: What is short-term knowledge?\n",
    "\n",
    "A01: Short-term knowledge is only valid for a particular situation or run of a programme.\n",
    "\n",
    "Q02: What is generic knowledge?\n",
    "\n",
    "A02: Generic knowledge is relevant to more than one application or domain.\n",
    "\n",
    "Q03: What is domain-specific knowledge?\n",
    "\n",
    "A03: Domain-specific knowledge is only applicable to one specific application or domain.\n",
    "\n",
    "Q04: What is a fact?\n",
    "\n",
    "A04: A fact is a statement which asserts that a relationship holds for an object-subject pair.\n",
    "\n",
    "Q05: What is a rule?\n",
    "\n",
    "A05: A rule is a statement that generates new knowledge by asserting that if one fact is true, then another is also true.\n",
    "\n",
    "Q06: Give me an example of long-term generic knowledge.\n",
    "\n",
    "A06: Generative AI frequently hallucinates and produces incorrect results.\n",
    "\n",
    "Q07: Give me an example of long-term domain-specific knowledge.\n",
    "\n",
    "A07: The formal specification of a particular machine learning algorithm.\n",
    "\n",
    "Q08: Give me an example of short-term generic knowledge.\n",
    "\n",
    "A08: The date today is an example as it may be useful in different contexts but only lasts 24 hours.\n",
    "\n",
    "Q09: Give me an example of short-term domain-specific knowledge.\n",
    "\n",
    "A09: The deadline for the submission of this portfolio.\n",
    "\n",
    "Q10: Give me an example of a rule.\n",
    "\n",
    "A10: If submitsOthersWork(X) then commitsAssessmentOffence(X).\n",
    "\n",
    "Q11: Give me an example of a fact.\n",
    "\n",
    "A11: Submissions for this module are run through automatic and effective plagiarism checks.\n",
    "\n",
    "Q12: Give me a definition of long-term knowledge?\n",
    "\n",
    "A12: Long-term knowledge is valid over a period of time."
   ]
  },
  {
   "cell_type": "code",
   "execution_count": 3,
   "metadata": {},
   "outputs": [
    {
     "name": "stdout",
     "output_type": "stream",
     "text": [
      "Writing data/portfolio5-v1.aiml\n"
     ]
    }
   ],
   "source": [
    "%%writefile \"data/portfolio5-v1.aiml\"\n",
    "<aiml version=\"1.0.1\" encoding=\"UTF-8\">\n",
    "\n",
    "<category>\n",
    "  <pattern> GREETINGS</pattern>\n",
    "  <template> Hi there!</template>\n",
    "</category>\n",
    "\n",
    "<category>\n",
    "  <pattern>WHAT IS LONG TERM KNOWLEDGE</pattern>\n",
    "  <template>Long-term knowledge is valid over a period of time.</template>\n",
    "</category>\n",
    "\n",
    "<category>\n",
    "  <pattern>WHAT IS SHORT TERM KNOWLEDGE</pattern>\n",
    "  <template>Short-term knowledge is only valid for a particular situation or run of a programme.</template>\n",
    "</category>\n",
    "\n",
    "<category>\n",
    "  <pattern>WHAT IS GENERIC KNOWLEDGE</pattern>\n",
    "  <template>Generic knowledge is relevant to more than one application or domain.</template>\n",
    "</category>\n",
    "\n",
    "<category>\n",
    "  <pattern>WHAT IS DOMAIN SPECIFIC KNOWLEDGE</pattern>\n",
    "  <template>Domain-specific knowledge is only applicable to one specific application or domain.</template>\n",
    "</category>\n",
    "\n",
    "<category>\n",
    "  <pattern>WHAT IS A FACT</pattern>\n",
    "  <template>A fact is a statement which asserts that a relationship holds for an object-subject pair.</template>\n",
    "</category>\n",
    "\n",
    "<category>\n",
    "  <pattern>WHAT IS A RULE</pattern>\n",
    "  <template>A rule is a statement that generates new knowledge by asserting that if one fact is true, then another is also true.</template>\n",
    "</category>\n",
    "\n",
    "<category>\n",
    "  <pattern>GIVE ME AN EXAMPLE OF LONG TERM GENERIC KNOWLEDGE</pattern>\n",
    "  <template>Generative AI frequently hallucinates and produces incorrect results.</template>\n",
    "</category>\n",
    "\n",
    "<category>\n",
    "  <pattern>GIVE ME AN EXAMPLE OF LONG TERM DOMAIN SPECIFIC KNOWLEDGE</pattern>\n",
    "  <template>The formal specification of a particular machine learning algorithm.</template>\n",
    "</category>\n",
    "\n",
    "<category>\n",
    "  <pattern>GIVE ME AN EXAMPLE OF SHORT TERM GENERIC KNOWLEDGE</pattern>\n",
    "  <template>The date today is an example as it may be useful in different contexts but only lasts 24 hours.</template>\n",
    "</category>\n",
    "\n",
    "<category>\n",
    "  <pattern>GIVE ME AN EXAMPLE OF SHORT TERM DOMAIN SPECIFIC KNOWLEDGE</pattern>\n",
    "  <template>The deadline for the submission of this portfolio.</template>\n",
    "</category>\n",
    "\n",
    "<category>\n",
    "  <pattern>GIVE ME AN EXAMPLE OF A RULE</pattern>\n",
    "  <template>If submitsOthersWork(X) then commitsAssessmentOffence(X).</template>\n",
    "</category>\n",
    "\n",
    "<category>\n",
    "  <pattern>GIVE ME AN EXAMPLE OF A FACT</pattern>\n",
    "  <template>Submissions for this module are run through automatic and effective plagiarism checks.</template>\n",
    "</category>\n",
    "\n",
    "<category>\n",
    "  <pattern>GIVE ME A DEFINITION OF LONG TERM KNOWLEDGE</pattern>\n",
    "  <template>Long-term knowledge is valid over a period of time.</template>\n",
    "</category>\n",
    "\n",
    "</aiml>"
   ]
  },
  {
   "cell_type": "code",
   "execution_count": 4,
   "metadata": {},
   "outputs": [
    {
     "name": "stdout",
     "output_type": "stream",
     "text": [
      "Loading data/portfolio5-v1.aiml...done (0.01 seconds)\n",
      "Successfully loaded 14 categories\n"
     ]
    },
    {
     "name": "stdin",
     "output_type": "stream",
     "text": [
      "Enter your message >>  give me an example of a fact\n"
     ]
    },
    {
     "name": "stdout",
     "output_type": "stream",
     "text": [
      "Submissions for this module are run through automatic and effective plagiarism checks.\n"
     ]
    },
    {
     "name": "stdin",
     "output_type": "stream",
     "text": [
      "Enter your message >>  bye\n"
     ]
    }
   ],
   "source": [
    "import aiml\n",
    "\n",
    "# Create the kernel and learn AIML files\n",
    "myChatbot2 = aiml.Kernel()\n",
    "myChatbot2.learn(\"data/portfolio5-v1.aiml\")\n",
    "myChatbot2.verbose(True)\n",
    "print( f\"Successfully loaded {myChatbot2.numCategories()} categories\")\n",
    "\n",
    "#type bye to end the chat session\n",
    "keepGoing = True\n",
    "\n",
    "while keepGoing:\n",
    "    nextInput = input(\"Enter your message >> \")\n",
    "    if(nextInput == 'bye'):\n",
    "        keepGoing = False\n",
    "    else:\n",
    "        print (myChatbot2.respond(nextInput))"
   ]
  },
  {
   "cell_type": "markdown",
   "metadata": {},
   "source": [
    "<div style=\"background:black;width:100%;height:10px\"></div><br>\n",
    "\n",
    "# Part 2: Basic Forward Chaining using SRAI"
   ]
  },
  {
   "cell_type": "markdown",
   "metadata": {},
   "source": [
    "Now that you have created a simple bot, let's teach it to recognise that there are  different ways of greeting people.  \n",
    "e.g. \"Greetings\", \"Hello\", \"Hi\", \"Good Morning\", etc.\n",
    "\n",
    "In Natural Language Processing we call this **Intent Recognition**.\n",
    "- In this case we want our bot to respond to them all in the same way\n",
    "- But we only want to store that response once, so we can edit it easily. Otherwise we would have to edit every greetings category if we wanted to change the bots response!\n",
    "- Only storing information in one 'master copy' is a basic principle of knowledge management (even if you then mirror your master copy).  \n",
    "\n",
    "So we are going to use **forward chaining**.\n",
    "- We will create a rule for each alternative greeting, and the purpose of that rule is to tell the system that the conditions have been met to trigger the 'GREETINGS' rule."
   ]
  },
  {
   "cell_type": "markdown",
   "metadata": {},
   "source": [
    "<div class=\"alert alert-block alert-info\" style=\"color:black\"><h2>Activity 3: Adding srai categories for the Greetings</h2>\n",
    "\n",
    "We can do this using the &lt;srai&gt; tag within the response (&lt;template&gt;).\n",
    "<ol>\n",
    "    <li>Edit the cell below to create a new aiml file called ‘hello.aiml’  and populate it with several categories. Each category should have a different pattern corresponding to a different greeting, such as \"Hi\", \"Hello\" etc.</li>\n",
    "    <li>You should only code the actual output response into <b>one</b> of your categories. Since the <i>intent</i> is greeting, use the one with the pattern GREETINGS.</li>\n",
    "    <li> The rest of the categories should use &ltsrai&gtGREETINGS&ltsrai&gt in the template to redirect the system to that category.</li>\n",
    "    <li> The notebook <em>W9_3_AIML_an_example_KRL.ipynb</em>includes an example of how to use &lt;srai&gt; tag-pairs.</li>\n",
    "</ol>\n",
    "\n",
    "To test the forward chaining this time we won't make a new bot - we'll just add the knowledge to the one we created in activity 2,\n",
    "and then rerun the 'wrapper' python code that runs the bot interactively.\n",
    "\n",
    "<b>Run</b> the second cell below to tell the chatbot to read the new file, and start a chat session.  \n",
    "\n",
    "</div>"
   ]
  },
  {
   "cell_type": "code",
   "execution_count": 5,
   "metadata": {
    "tags": []
   },
   "outputs": [
    {
     "name": "stdout",
     "output_type": "stream",
     "text": [
      "Overwriting data/hello.aiml\n"
     ]
    }
   ],
   "source": [
    "%%writefile \"data/hello.aiml\"\n",
    "<aiml version=\"1.0.1\" encoding=\"UTF-8\">\n",
    "\n",
    "<category>\n",
    "  <pattern> GREETINGS</pattern>\n",
    "  <template> Hi there</template>\n",
    "</category>\n",
    "\n",
    "<category>\n",
    "  <pattern>HELLO</pattern>\n",
    "  <template><srai>GREETINGS</srai></template>\n",
    "</category>\n",
    "\n",
    "<category>\n",
    "  <pattern>HI</pattern>\n",
    "  <template><srai>GREETINGS</srai></template>\n",
    "</category>\n",
    "\n",
    "<category>\n",
    "  <pattern>GOOD MORNING</pattern>\n",
    "  <template><srai>GREETINGS</srai></template>\n",
    "</category>\n",
    "\n",
    "<category>\n",
    "  <pattern>GOOD AFTERNOON</pattern>\n",
    "  <template><srai>GREETINGS</srai></template>\n",
    "</category>\n",
    "\n",
    "</aiml>"
   ]
  },
  {
   "cell_type": "code",
   "execution_count": 6,
   "metadata": {},
   "outputs": [
    {
     "name": "stdout",
     "output_type": "stream",
     "text": [
      "Loading data/hello.aiml...done (0.01 seconds)\n",
      "Successfuly loaded 5 categories\n"
     ]
    },
    {
     "name": "stdin",
     "output_type": "stream",
     "text": [
      "Enter your message >>  good afternoon\n"
     ]
    },
    {
     "name": "stdout",
     "output_type": "stream",
     "text": [
      "Hi there\n"
     ]
    },
    {
     "name": "stdin",
     "output_type": "stream",
     "text": [
      "Enter your message >>  bye\n"
     ]
    }
   ],
   "source": [
    "myChatbot.learn(\"data/hello.aiml\")\n",
    "myChatbot.verbose(True)\n",
    "print( f\"Successfuly loaded {myChatbot.numCategories()} categories\")\n",
    "\n",
    "#type bye to end the chat session\n",
    "keepGoing = True\n",
    "\n",
    "while keepGoing:\n",
    "    nextInput = input(\"Enter your message >> \")\n",
    "    if(nextInput == 'bye'):\n",
    "        keepGoing = False\n",
    "    else:\n",
    "        print (myChatbot.respond(nextInput))"
   ]
  },
  {
   "cell_type": "markdown",
   "metadata": {},
   "source": [
    "<div style=\"background:black;width:100%;height:10px\"></div><br>\n",
    "\n",
    "# Part 3: Preparation for the final part of the assessed portfolio"
   ]
  },
  {
   "cell_type": "markdown",
   "metadata": {},
   "source": [
    "<div class=\"alert alert-block alert-info\" style=\"color:black\"><h2>Activity 4: Combining the knowlege-base and SRAI</h2>\n",
    "\n",
    "This activity builds on the work that you have done in this workbook and starts creating a knowledge-base you will submit as the final part of your assessed portfolio coursework.\n",
    "\n",
    "1. Copy and paste the contents of the AIML knowledge-base you created in Activity 2 into the cell below.\n",
    "    - Where you encoded the knowledge about the 12 questions.\n",
    "    - **Don't include the original** %%writefile%% **command** - we want to save this to a new file.\n",
    "\n",
    "2. For each category where the input starts with *WHAT IS* make two new ones:\n",
    "    - One where *WHAT IS* is replaced by *DESCRIBE* (e.g. so it can answer *Describe a rule*).\n",
    "    - one where *WHAT IS* is replaced by *TELL ME ABOUT* (e.g. so it can answer *Tell me about short term knowledge*).\n",
    "    - in each of your new categories, the template should contain `<srai>WHAT IS X</srai>`  \n",
    "        - where the letter X is replaced by the **entity** (rule, fact, type of knowledge) being talked about.\n",
    "    - **In other words you file should only contain each actual definition once**\n",
    "   \n",
    "5. Now do the same to make new categories for the examples.\n",
    "    - In other words, where *GIVE ME AN EXAMPLE* is replaced by *ILLUSTRATE THE CONCEPT* and *PROVIDE AN EXAMPLE* in the pattern  \n",
    "    and `<srai> GIVE ME AN EXAMPLE OF Y</srai` in the template.\n",
    "        - where Y is replaced by the relevant term.\n",
    "    - **Again, your finished set of categories should only contain each example once.**\n",
    "\n",
    "To complete this activity you may find it helpful to look at the `portfolio-questions-and-responses-2025.txt` file (in week 10 folder). Which contains all of the questions and answers your bot will need to answer for the final part of the assessed portfolio coursework.\n",
    "</div>"
   ]
  },
  {
   "cell_type": "code",
   "execution_count": 7,
   "metadata": {
    "tags": []
   },
   "outputs": [
    {
     "name": "stdout",
     "output_type": "stream",
     "text": [
      "Overwriting data/portfolio5-v2.aiml\n"
     ]
    }
   ],
   "source": [
    "%%writefile \"data/portfolio5-v2.aiml\"\n",
    "<aiml version=\"1.0.1\" encoding=\"UTF-8\">\n",
    "<!-- \n",
    "Your categories go below this comment\n",
    "-->\n",
    "\n",
    "<category>\n",
    "  <pattern>WHAT IS LONG TERM KNOWLEDGE</pattern>\n",
    "  <template>Long-term knowledge is valid over a period of time.</template>\n",
    "</category>\n",
    "\n",
    "<category>\n",
    "  <pattern>DESCRIBE LONG TERM KNOWLEDGE</pattern>\n",
    "  <template><srai>WHAT IS LONG TERM KNOWLEDGE</srai></template>\n",
    "</category>\n",
    "\n",
    "<category>\n",
    "  <pattern>TELL ME ABOUT LONG TERM KNOWLEDGE</pattern>\n",
    "  <template><srai>WHAT IS LONG TERM KNOWLEDGE</srai></template>\n",
    "</category>\n",
    "\n",
    "<category>\n",
    "  <pattern>WHAT IS SHORT TERM KNOWLEDGE</pattern>\n",
    "  <template>Short-term knowledge is only valid for a particular situation or run of a programme.</template>\n",
    "</category>\n",
    "\n",
    "<category>\n",
    "  <pattern>DESCRIBE SHORT TERM KNOWLEDGE</pattern>\n",
    "  <template><srai>WHAT IS SHORT TERM KNOWLEDGE</srai></template>\n",
    "</category>\n",
    "\n",
    "<category>\n",
    "  <pattern>TELL ME ABOUT SHORT TERM KNOWLEDGE</pattern>\n",
    "  <template><srai>WHAT IS SHORT TERM KNOWLEDGE</srai></template>\n",
    "</category>\n",
    "\n",
    "<!-- Examples -->\n",
    "<category>\n",
    "  <pattern>GIVE ME AN EXAMPLE OF LONG TERM GENERIC KNOWLEDGE</pattern>\n",
    "  <template>Generative AI frequently hallucinates and produces incorrect results.</template>\n",
    "</category>\n",
    "\n",
    "<category>\n",
    "  <pattern>ILLUSTRATE THE CONCEPT OF LONG TERM GENERIC KNOWLEDGE</pattern>\n",
    "  <template><srai>GIVE ME AN EXAMPLE OF LONG TERM GENERIC KNOWLEDGE</srai></template>\n",
    "</category>\n",
    "\n",
    "<category>\n",
    "  <pattern>PROVIDE AN EXAMPLE OF LONG TERM GENERIC KNOWLEDGE</pattern>\n",
    "  <template><srai>GIVE ME AN EXAMPLE OF LONG TERM GENERIC KNOWLEDGE</srai></template>\n",
    "</category>\n",
    "\n",
    "</aiml>"
   ]
  },
  {
   "cell_type": "code",
   "execution_count": 8,
   "metadata": {
    "tags": []
   },
   "outputs": [
    {
     "name": "stdout",
     "output_type": "stream",
     "text": [
      "Loading data/portfolio5-v2.aiml...done (0.02 seconds)\n",
      "Successfully loaded 9 categories\n"
     ]
    },
    {
     "name": "stdin",
     "output_type": "stream",
     "text": [
      "Enter your message >>  give me an example of long term generic knowledge\n"
     ]
    },
    {
     "name": "stdout",
     "output_type": "stream",
     "text": [
      "Generative AI frequently hallucinates and produces incorrect results.\n"
     ]
    },
    {
     "name": "stdin",
     "output_type": "stream",
     "text": [
      "Enter your message >>  bye\n"
     ]
    }
   ],
   "source": [
    "import aiml\n",
    "\n",
    "myChatbot4 = aiml.Kernel()\n",
    "myChatbot4.learn(\"data/portfolio5-v2.aiml\")\n",
    "myChatbot4.verbose(True)\n",
    "print( f\"Successfully loaded {myChatbot4.numCategories()} categories\")\n",
    "\n",
    "#type bye to end the chat session\n",
    "keepGoing = True\n",
    "\n",
    "while keepGoing:\n",
    "    nextInput = input(\"Enter your message >> \")\n",
    "    if(nextInput == 'bye'):\n",
    "        keepGoing = False\n",
    "    else:\n",
    "        print (myChatbot4.respond(nextInput))"
   ]
  },
  {
   "cell_type": "markdown",
   "metadata": {},
   "source": [
    "<div class=\"alert alert-block alert-success\" style=\"color:black\"><b>Save and close Jupyter:</b>\n",
    "    <ol>\n",
    "        <li>Use the jupyterlab functions to download your work (ask your tutor if you need help with this) and save it somewhere sensible so you can find it easily.</li>\n",
    "        <li>Shutdown the notebook when you have finished with this tutorial (menu->file->close and shutdown notebook)</li>\n",
    "    </ol>\n",
    "</div"
   ]
  }
 ],
 "metadata": {
  "kernelspec": {
   "display_name": "Python 3 (ipykernel)",
   "language": "python",
   "name": "python3"
  },
  "language_info": {
   "codemirror_mode": {
    "name": "ipython",
    "version": 3
   },
   "file_extension": ".py",
   "mimetype": "text/x-python",
   "name": "python",
   "nbconvert_exporter": "python",
   "pygments_lexer": "ipython3",
   "version": "3.13.1"
  }
 },
 "nbformat": 4,
 "nbformat_minor": 4
}
